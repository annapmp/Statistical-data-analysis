{
 "cells": [
  {
   "cell_type": "markdown",
   "metadata": {},
   "source": [
    "### Project description"
   ]
  },
  {
   "cell_type": "markdown",
   "metadata": {},
   "source": [
    "This project is related to the telecom operator Megaline. The company offers its clients two prepaid plans, Surf and Ultimate. The commercial department wants to know which of the plans is more profitable in order to adjust the advertising budget.\n",
    "\n",
    "\n",
    "I'm going to carry out a preliminary analysis of the plans based on a relatively small client selection. I have the data on 500 Megaline clients: who the clients are, where they're from, which plan they use, and the number of calls they made and text messages they sent in 2018. In this project I'll analyze clients' behavior and determine which prepaid plan is more profitable."
   ]
  },
  {
   "cell_type": "markdown",
   "metadata": {},
   "source": [
    "Load data and essential libraries"
   ]
  },
  {
   "cell_type": "code",
   "execution_count": 1,
   "metadata": {},
   "outputs": [],
   "source": [
    "#libraries\n",
    "import pandas as pd\n",
    "import numpy as np\n",
    "from scipy import stats as st\n",
    "import plotly.express as px\n",
    "import plotly.graph_objects as go\n",
    "import matplotlib.pyplot as plt\n",
    "import plotly.io as pio\n",
    "pio.renderers.default = \"svg\"\n",
    "import seaborn as sb\n",
    "from scipy.stats import mannwhitneyu\n",
    "\n",
    "#data\n",
    "calls = pd.read_csv('/datasets/megaline_calls.csv')\n",
    "internet = pd.read_csv('/datasets/megaline_internet.csv')\n",
    "messages = pd.read_csv('/datasets/megaline_messages.csv')\n",
    "plans = pd.read_csv('/datasets/megaline_plans.csv')\n",
    "users = pd.read_csv('/datasets/megaline_users1.csv')\n"
   ]
  },
  {
   "cell_type": "markdown",
   "metadata": {},
   "source": [
    "**Step 1. Open the data file and study the general information**"
   ]
  },
  {
   "cell_type": "code",
   "execution_count": 2,
   "metadata": {
    "scrolled": true
   },
   "outputs": [
    {
     "name": "stdout",
     "output_type": "stream",
     "text": [
      "137735\n"
     ]
    },
    {
     "data": {
      "text/html": [
       "<div>\n",
       "<style scoped>\n",
       "    .dataframe tbody tr th:only-of-type {\n",
       "        vertical-align: middle;\n",
       "    }\n",
       "\n",
       "    .dataframe tbody tr th {\n",
       "        vertical-align: top;\n",
       "    }\n",
       "\n",
       "    .dataframe thead th {\n",
       "        text-align: right;\n",
       "    }\n",
       "</style>\n",
       "<table border=\"1\" class=\"dataframe\">\n",
       "  <thead>\n",
       "    <tr style=\"text-align: right;\">\n",
       "      <th></th>\n",
       "      <th>id</th>\n",
       "      <th>user_id</th>\n",
       "      <th>call_date</th>\n",
       "      <th>duration</th>\n",
       "    </tr>\n",
       "  </thead>\n",
       "  <tbody>\n",
       "    <tr>\n",
       "      <th>0</th>\n",
       "      <td>1000_93</td>\n",
       "      <td>1000</td>\n",
       "      <td>2018-12-27</td>\n",
       "      <td>8.52</td>\n",
       "    </tr>\n",
       "    <tr>\n",
       "      <th>1</th>\n",
       "      <td>1000_145</td>\n",
       "      <td>1000</td>\n",
       "      <td>2018-12-27</td>\n",
       "      <td>13.66</td>\n",
       "    </tr>\n",
       "  </tbody>\n",
       "</table>\n",
       "</div>"
      ],
      "text/plain": [
       "         id  user_id   call_date  duration\n",
       "0   1000_93     1000  2018-12-27      8.52\n",
       "1  1000_145     1000  2018-12-27     13.66"
      ]
     },
     "execution_count": 2,
     "metadata": {},
     "output_type": "execute_result"
    }
   ],
   "source": [
    "print(len(calls))\n",
    "calls.head(2)"
   ]
  },
  {
   "cell_type": "code",
   "execution_count": 3,
   "metadata": {},
   "outputs": [
    {
     "name": "stdout",
     "output_type": "stream",
     "text": [
      "<class 'pandas.core.frame.DataFrame'>\n",
      "RangeIndex: 137735 entries, 0 to 137734\n",
      "Data columns (total 4 columns):\n",
      " #   Column     Non-Null Count   Dtype  \n",
      "---  ------     --------------   -----  \n",
      " 0   id         137735 non-null  object \n",
      " 1   user_id    137735 non-null  int64  \n",
      " 2   call_date  137735 non-null  object \n",
      " 3   duration   137735 non-null  float64\n",
      "dtypes: float64(1), int64(1), object(2)\n",
      "memory usage: 4.2+ MB\n"
     ]
    }
   ],
   "source": [
    "calls.info()"
   ]
  },
  {
   "cell_type": "code",
   "execution_count": 4,
   "metadata": {
    "scrolled": true
   },
   "outputs": [
    {
     "name": "stdout",
     "output_type": "stream",
     "text": [
      "104825\n"
     ]
    },
    {
     "data": {
      "text/html": [
       "<div>\n",
       "<style scoped>\n",
       "    .dataframe tbody tr th:only-of-type {\n",
       "        vertical-align: middle;\n",
       "    }\n",
       "\n",
       "    .dataframe tbody tr th {\n",
       "        vertical-align: top;\n",
       "    }\n",
       "\n",
       "    .dataframe thead th {\n",
       "        text-align: right;\n",
       "    }\n",
       "</style>\n",
       "<table border=\"1\" class=\"dataframe\">\n",
       "  <thead>\n",
       "    <tr style=\"text-align: right;\">\n",
       "      <th></th>\n",
       "      <th>id</th>\n",
       "      <th>user_id</th>\n",
       "      <th>session_date</th>\n",
       "      <th>mb_used</th>\n",
       "    </tr>\n",
       "  </thead>\n",
       "  <tbody>\n",
       "    <tr>\n",
       "      <th>0</th>\n",
       "      <td>1000_13</td>\n",
       "      <td>1000</td>\n",
       "      <td>2018-12-29</td>\n",
       "      <td>89.86</td>\n",
       "    </tr>\n",
       "    <tr>\n",
       "      <th>1</th>\n",
       "      <td>1000_204</td>\n",
       "      <td>1000</td>\n",
       "      <td>2018-12-31</td>\n",
       "      <td>0.00</td>\n",
       "    </tr>\n",
       "  </tbody>\n",
       "</table>\n",
       "</div>"
      ],
      "text/plain": [
       "         id  user_id session_date  mb_used\n",
       "0   1000_13     1000   2018-12-29    89.86\n",
       "1  1000_204     1000   2018-12-31     0.00"
      ]
     },
     "execution_count": 4,
     "metadata": {},
     "output_type": "execute_result"
    }
   ],
   "source": [
    "print(len(internet))\n",
    "internet.head(2)"
   ]
  },
  {
   "cell_type": "code",
   "execution_count": 5,
   "metadata": {},
   "outputs": [
    {
     "name": "stdout",
     "output_type": "stream",
     "text": [
      "<class 'pandas.core.frame.DataFrame'>\n",
      "RangeIndex: 104825 entries, 0 to 104824\n",
      "Data columns (total 4 columns):\n",
      " #   Column        Non-Null Count   Dtype  \n",
      "---  ------        --------------   -----  \n",
      " 0   id            104825 non-null  object \n",
      " 1   user_id       104825 non-null  int64  \n",
      " 2   session_date  104825 non-null  object \n",
      " 3   mb_used       104825 non-null  float64\n",
      "dtypes: float64(1), int64(1), object(2)\n",
      "memory usage: 3.2+ MB\n"
     ]
    }
   ],
   "source": [
    "internet.info()"
   ]
  },
  {
   "cell_type": "code",
   "execution_count": 6,
   "metadata": {},
   "outputs": [
    {
     "name": "stdout",
     "output_type": "stream",
     "text": [
      "76051\n"
     ]
    },
    {
     "data": {
      "text/html": [
       "<div>\n",
       "<style scoped>\n",
       "    .dataframe tbody tr th:only-of-type {\n",
       "        vertical-align: middle;\n",
       "    }\n",
       "\n",
       "    .dataframe tbody tr th {\n",
       "        vertical-align: top;\n",
       "    }\n",
       "\n",
       "    .dataframe thead th {\n",
       "        text-align: right;\n",
       "    }\n",
       "</style>\n",
       "<table border=\"1\" class=\"dataframe\">\n",
       "  <thead>\n",
       "    <tr style=\"text-align: right;\">\n",
       "      <th></th>\n",
       "      <th>id</th>\n",
       "      <th>user_id</th>\n",
       "      <th>message_date</th>\n",
       "    </tr>\n",
       "  </thead>\n",
       "  <tbody>\n",
       "    <tr>\n",
       "      <th>0</th>\n",
       "      <td>1000_125</td>\n",
       "      <td>1000</td>\n",
       "      <td>2018-12-27</td>\n",
       "    </tr>\n",
       "    <tr>\n",
       "      <th>1</th>\n",
       "      <td>1000_160</td>\n",
       "      <td>1000</td>\n",
       "      <td>2018-12-31</td>\n",
       "    </tr>\n",
       "  </tbody>\n",
       "</table>\n",
       "</div>"
      ],
      "text/plain": [
       "         id  user_id message_date\n",
       "0  1000_125     1000   2018-12-27\n",
       "1  1000_160     1000   2018-12-31"
      ]
     },
     "execution_count": 6,
     "metadata": {},
     "output_type": "execute_result"
    }
   ],
   "source": [
    "print(len(messages))\n",
    "messages.head(2)"
   ]
  },
  {
   "cell_type": "code",
   "execution_count": 7,
   "metadata": {},
   "outputs": [
    {
     "name": "stdout",
     "output_type": "stream",
     "text": [
      "<class 'pandas.core.frame.DataFrame'>\n",
      "RangeIndex: 76051 entries, 0 to 76050\n",
      "Data columns (total 3 columns):\n",
      " #   Column        Non-Null Count  Dtype \n",
      "---  ------        --------------  ----- \n",
      " 0   id            76051 non-null  object\n",
      " 1   user_id       76051 non-null  int64 \n",
      " 2   message_date  76051 non-null  object\n",
      "dtypes: int64(1), object(2)\n",
      "memory usage: 1.7+ MB\n"
     ]
    }
   ],
   "source": [
    "messages.info()"
   ]
  },
  {
   "cell_type": "code",
   "execution_count": 8,
   "metadata": {
    "scrolled": false
   },
   "outputs": [
    {
     "name": "stdout",
     "output_type": "stream",
     "text": [
      "2\n"
     ]
    },
    {
     "data": {
      "text/html": [
       "<div>\n",
       "<style scoped>\n",
       "    .dataframe tbody tr th:only-of-type {\n",
       "        vertical-align: middle;\n",
       "    }\n",
       "\n",
       "    .dataframe tbody tr th {\n",
       "        vertical-align: top;\n",
       "    }\n",
       "\n",
       "    .dataframe thead th {\n",
       "        text-align: right;\n",
       "    }\n",
       "</style>\n",
       "<table border=\"1\" class=\"dataframe\">\n",
       "  <thead>\n",
       "    <tr style=\"text-align: right;\">\n",
       "      <th></th>\n",
       "      <th>messages_included</th>\n",
       "      <th>mb_per_month_included</th>\n",
       "      <th>minutes_included</th>\n",
       "      <th>usd_monthly_pay</th>\n",
       "      <th>usd_per_gb</th>\n",
       "      <th>usd_per_message</th>\n",
       "      <th>usd_per_minute</th>\n",
       "      <th>plan_name</th>\n",
       "    </tr>\n",
       "  </thead>\n",
       "  <tbody>\n",
       "    <tr>\n",
       "      <th>0</th>\n",
       "      <td>50</td>\n",
       "      <td>15360</td>\n",
       "      <td>500</td>\n",
       "      <td>20</td>\n",
       "      <td>10</td>\n",
       "      <td>0.03</td>\n",
       "      <td>0.03</td>\n",
       "      <td>surf</td>\n",
       "    </tr>\n",
       "    <tr>\n",
       "      <th>1</th>\n",
       "      <td>1000</td>\n",
       "      <td>30720</td>\n",
       "      <td>3000</td>\n",
       "      <td>70</td>\n",
       "      <td>7</td>\n",
       "      <td>0.01</td>\n",
       "      <td>0.01</td>\n",
       "      <td>ultimate</td>\n",
       "    </tr>\n",
       "  </tbody>\n",
       "</table>\n",
       "</div>"
      ],
      "text/plain": [
       "   messages_included  mb_per_month_included  minutes_included  \\\n",
       "0                 50                  15360               500   \n",
       "1               1000                  30720              3000   \n",
       "\n",
       "   usd_monthly_pay  usd_per_gb  usd_per_message  usd_per_minute plan_name  \n",
       "0               20          10             0.03            0.03      surf  \n",
       "1               70           7             0.01            0.01  ultimate  "
      ]
     },
     "execution_count": 8,
     "metadata": {},
     "output_type": "execute_result"
    }
   ],
   "source": [
    "print(len(plans))\n",
    "plans.head(2)"
   ]
  },
  {
   "cell_type": "code",
   "execution_count": 9,
   "metadata": {},
   "outputs": [
    {
     "name": "stdout",
     "output_type": "stream",
     "text": [
      "<class 'pandas.core.frame.DataFrame'>\n",
      "RangeIndex: 2 entries, 0 to 1\n",
      "Data columns (total 8 columns):\n",
      " #   Column                 Non-Null Count  Dtype  \n",
      "---  ------                 --------------  -----  \n",
      " 0   messages_included      2 non-null      int64  \n",
      " 1   mb_per_month_included  2 non-null      int64  \n",
      " 2   minutes_included       2 non-null      int64  \n",
      " 3   usd_monthly_pay        2 non-null      int64  \n",
      " 4   usd_per_gb             2 non-null      int64  \n",
      " 5   usd_per_message        2 non-null      float64\n",
      " 6   usd_per_minute         2 non-null      float64\n",
      " 7   plan_name              2 non-null      object \n",
      "dtypes: float64(2), int64(5), object(1)\n",
      "memory usage: 256.0+ bytes\n"
     ]
    }
   ],
   "source": [
    "plans.info()"
   ]
  },
  {
   "cell_type": "code",
   "execution_count": 10,
   "metadata": {
    "scrolled": true
   },
   "outputs": [
    {
     "name": "stdout",
     "output_type": "stream",
     "text": [
      "500\n"
     ]
    },
    {
     "data": {
      "text/html": [
       "<div>\n",
       "<style scoped>\n",
       "    .dataframe tbody tr th:only-of-type {\n",
       "        vertical-align: middle;\n",
       "    }\n",
       "\n",
       "    .dataframe tbody tr th {\n",
       "        vertical-align: top;\n",
       "    }\n",
       "\n",
       "    .dataframe thead th {\n",
       "        text-align: right;\n",
       "    }\n",
       "</style>\n",
       "<table border=\"1\" class=\"dataframe\">\n",
       "  <thead>\n",
       "    <tr style=\"text-align: right;\">\n",
       "      <th></th>\n",
       "      <th>user_id</th>\n",
       "      <th>first_name</th>\n",
       "      <th>last_name</th>\n",
       "      <th>age</th>\n",
       "      <th>city</th>\n",
       "      <th>reg_date</th>\n",
       "      <th>plan</th>\n",
       "      <th>churn_date</th>\n",
       "    </tr>\n",
       "  </thead>\n",
       "  <tbody>\n",
       "    <tr>\n",
       "      <th>0</th>\n",
       "      <td>1000</td>\n",
       "      <td>Anamaria</td>\n",
       "      <td>Bauer</td>\n",
       "      <td>45</td>\n",
       "      <td>Atlanta-Sandy Springs-Roswell, GA MSA</td>\n",
       "      <td>2018-12-24</td>\n",
       "      <td>ultimate</td>\n",
       "      <td>NaN</td>\n",
       "    </tr>\n",
       "    <tr>\n",
       "      <th>1</th>\n",
       "      <td>1001</td>\n",
       "      <td>Mickey</td>\n",
       "      <td>Wilkerson</td>\n",
       "      <td>28</td>\n",
       "      <td>Seattle-Tacoma-Bellevue, WA MSA</td>\n",
       "      <td>2018-08-13</td>\n",
       "      <td>surf</td>\n",
       "      <td>NaN</td>\n",
       "    </tr>\n",
       "  </tbody>\n",
       "</table>\n",
       "</div>"
      ],
      "text/plain": [
       "   user_id first_name  last_name  age                                   city  \\\n",
       "0     1000   Anamaria      Bauer   45  Atlanta-Sandy Springs-Roswell, GA MSA   \n",
       "1     1001     Mickey  Wilkerson   28        Seattle-Tacoma-Bellevue, WA MSA   \n",
       "\n",
       "     reg_date      plan churn_date  \n",
       "0  2018-12-24  ultimate        NaN  \n",
       "1  2018-08-13      surf        NaN  "
      ]
     },
     "execution_count": 10,
     "metadata": {},
     "output_type": "execute_result"
    }
   ],
   "source": [
    "print(len(users))\n",
    "users.head(2)"
   ]
  },
  {
   "cell_type": "code",
   "execution_count": 11,
   "metadata": {},
   "outputs": [
    {
     "name": "stdout",
     "output_type": "stream",
     "text": [
      "<class 'pandas.core.frame.DataFrame'>\n",
      "RangeIndex: 500 entries, 0 to 499\n",
      "Data columns (total 8 columns):\n",
      " #   Column      Non-Null Count  Dtype \n",
      "---  ------      --------------  ----- \n",
      " 0   user_id     500 non-null    int64 \n",
      " 1   first_name  500 non-null    object\n",
      " 2   last_name   500 non-null    object\n",
      " 3   age         500 non-null    int64 \n",
      " 4   city        500 non-null    object\n",
      " 5   reg_date    500 non-null    object\n",
      " 6   plan        500 non-null    object\n",
      " 7   churn_date  34 non-null     object\n",
      "dtypes: int64(2), object(6)\n",
      "memory usage: 31.4+ KB\n"
     ]
    }
   ],
   "source": [
    "users.info()"
   ]
  },
  {
   "cell_type": "markdown",
   "metadata": {},
   "source": [
    "**Step 2. Prepare the data**\n",
    ">- Convert the data to the necessary types\n",
    "- Find and eliminate errors in the data"
   ]
  },
  {
   "cell_type": "markdown",
   "metadata": {},
   "source": [
    "First, I'll convert date related columns to datetime format.\n",
    "\n",
    "Second, I'll use merge method, consequentially merging one dataframe with another. And I'll use fillna()\n",
    "method at the end to fill missing data with 0."
   ]
  },
  {
   "cell_type": "code",
   "execution_count": 12,
   "metadata": {},
   "outputs": [],
   "source": [
    "calls['call_date'] = pd.to_datetime(calls['call_date'], format='%Y-%m-%dT%H:%M:%S')\n",
    "internet['session_date'] = pd.to_datetime(internet['session_date'], format='%Y-%m-%dT%H:%M:%S')\n",
    "messages['message_date'] = pd.to_datetime(messages['message_date'], format='%Y-%m-%dT%H:%M:%S')\n",
    "users['reg_date'] = pd.to_datetime(users['reg_date'], format='%Y-%m-%dT%H:%M:%S')\n",
    "users['churn_date'] = pd.to_datetime(users['churn_date'], format='%Y-%m-%dT%H:%M:%S')"
   ]
  },
  {
   "cell_type": "code",
   "execution_count": 13,
   "metadata": {},
   "outputs": [],
   "source": [
    "calls['month'] = calls['call_date'].dt.month\n",
    "internet['month'] = internet['session_date'].dt.month\n",
    "messages['month'] = messages['message_date'].dt.month\n",
    "users['reg_month'] = users['reg_date'].dt.month\n",
    "users['churn_month'] = users['churn_date'].dt.month"
   ]
  },
  {
   "cell_type": "code",
   "execution_count": 14,
   "metadata": {},
   "outputs": [
    {
     "data": {
      "text/html": [
       "<div>\n",
       "<style scoped>\n",
       "    .dataframe tbody tr th:only-of-type {\n",
       "        vertical-align: middle;\n",
       "    }\n",
       "\n",
       "    .dataframe tbody tr th {\n",
       "        vertical-align: top;\n",
       "    }\n",
       "\n",
       "    .dataframe thead th {\n",
       "        text-align: right;\n",
       "    }\n",
       "</style>\n",
       "<table border=\"1\" class=\"dataframe\">\n",
       "  <thead>\n",
       "    <tr style=\"text-align: right;\">\n",
       "      <th></th>\n",
       "      <th></th>\n",
       "      <th>calls</th>\n",
       "      <th>duration</th>\n",
       "    </tr>\n",
       "    <tr>\n",
       "      <th>user_id</th>\n",
       "      <th>month</th>\n",
       "      <th></th>\n",
       "      <th></th>\n",
       "    </tr>\n",
       "  </thead>\n",
       "  <tbody>\n",
       "    <tr>\n",
       "      <th>1000</th>\n",
       "      <th>12</th>\n",
       "      <td>16</td>\n",
       "      <td>116.83</td>\n",
       "    </tr>\n",
       "    <tr>\n",
       "      <th>1001</th>\n",
       "      <th>8</th>\n",
       "      <td>27</td>\n",
       "      <td>171.14</td>\n",
       "    </tr>\n",
       "  </tbody>\n",
       "</table>\n",
       "</div>"
      ],
      "text/plain": [
       "               calls  duration\n",
       "user_id month                 \n",
       "1000    12        16    116.83\n",
       "1001    8         27    171.14"
      ]
     },
     "execution_count": 14,
     "metadata": {},
     "output_type": "execute_result"
    }
   ],
   "source": [
    "calls_group = calls.groupby(['user_id','month'])['duration'].agg(['count','sum'])\n",
    "calls_group.columns = ['calls','duration']\n",
    "calls_group.head(2)"
   ]
  },
  {
   "cell_type": "code",
   "execution_count": 15,
   "metadata": {},
   "outputs": [],
   "source": [
    "internet_group = internet.groupby(['user_id','month'])['mb_used'].sum()"
   ]
  },
  {
   "cell_type": "code",
   "execution_count": 16,
   "metadata": {},
   "outputs": [
    {
     "data": {
      "text/html": [
       "<div>\n",
       "<style scoped>\n",
       "    .dataframe tbody tr th:only-of-type {\n",
       "        vertical-align: middle;\n",
       "    }\n",
       "\n",
       "    .dataframe tbody tr th {\n",
       "        vertical-align: top;\n",
       "    }\n",
       "\n",
       "    .dataframe thead th {\n",
       "        text-align: right;\n",
       "    }\n",
       "</style>\n",
       "<table border=\"1\" class=\"dataframe\">\n",
       "  <thead>\n",
       "    <tr style=\"text-align: right;\">\n",
       "      <th></th>\n",
       "      <th></th>\n",
       "      <th>messages</th>\n",
       "    </tr>\n",
       "    <tr>\n",
       "      <th>user_id</th>\n",
       "      <th>month</th>\n",
       "      <th></th>\n",
       "    </tr>\n",
       "  </thead>\n",
       "  <tbody>\n",
       "    <tr>\n",
       "      <th>1000</th>\n",
       "      <th>12</th>\n",
       "      <td>11</td>\n",
       "    </tr>\n",
       "    <tr>\n",
       "      <th>1001</th>\n",
       "      <th>8</th>\n",
       "      <td>30</td>\n",
       "    </tr>\n",
       "  </tbody>\n",
       "</table>\n",
       "</div>"
      ],
      "text/plain": [
       "               messages\n",
       "user_id month          \n",
       "1000    12           11\n",
       "1001    8            30"
      ]
     },
     "execution_count": 16,
     "metadata": {},
     "output_type": "execute_result"
    }
   ],
   "source": [
    "messages_group = messages.groupby(['user_id','month'])['message_date'].agg(['count'])\n",
    "messages_group.columns = ['messages']\n",
    "messages_group.head(2)"
   ]
  },
  {
   "cell_type": "code",
   "execution_count": 17,
   "metadata": {},
   "outputs": [],
   "source": [
    "total1 = pd.merge(left = internet_group , right = calls_group, how='outer',on=['user_id', 'month']).fillna(0)\n",
    "total2 = pd.merge(left = total1 , right = messages_group, how='outer',on=['user_id', 'month']).fillna(0).reset_index()"
   ]
  },
  {
   "cell_type": "markdown",
   "metadata": {},
   "source": [
    ">For each user, find:\n",
    "- The number of calls made and minutes used per month\n",
    "- The number of text messages sent per month\n",
    "- The volume of data per month"
   ]
  },
  {
   "cell_type": "code",
   "execution_count": 18,
   "metadata": {
    "scrolled": false
   },
   "outputs": [
    {
     "name": "stdout",
     "output_type": "stream",
     "text": [
      "2293\n"
     ]
    },
    {
     "data": {
      "text/html": [
       "<div>\n",
       "<style scoped>\n",
       "    .dataframe tbody tr th:only-of-type {\n",
       "        vertical-align: middle;\n",
       "    }\n",
       "\n",
       "    .dataframe tbody tr th {\n",
       "        vertical-align: top;\n",
       "    }\n",
       "\n",
       "    .dataframe thead th {\n",
       "        text-align: right;\n",
       "    }\n",
       "</style>\n",
       "<table border=\"1\" class=\"dataframe\">\n",
       "  <thead>\n",
       "    <tr style=\"text-align: right;\">\n",
       "      <th></th>\n",
       "      <th>user_id</th>\n",
       "      <th>month</th>\n",
       "      <th>mb_used</th>\n",
       "      <th>calls</th>\n",
       "      <th>duration</th>\n",
       "      <th>messages</th>\n",
       "    </tr>\n",
       "  </thead>\n",
       "  <tbody>\n",
       "    <tr>\n",
       "      <th>0</th>\n",
       "      <td>1000</td>\n",
       "      <td>12</td>\n",
       "      <td>1901.47</td>\n",
       "      <td>16.0</td>\n",
       "      <td>116.83</td>\n",
       "      <td>11.0</td>\n",
       "    </tr>\n",
       "    <tr>\n",
       "      <th>1</th>\n",
       "      <td>1001</td>\n",
       "      <td>8</td>\n",
       "      <td>6919.15</td>\n",
       "      <td>27.0</td>\n",
       "      <td>171.14</td>\n",
       "      <td>30.0</td>\n",
       "    </tr>\n",
       "    <tr>\n",
       "      <th>2</th>\n",
       "      <td>1001</td>\n",
       "      <td>9</td>\n",
       "      <td>13314.82</td>\n",
       "      <td>49.0</td>\n",
       "      <td>297.69</td>\n",
       "      <td>44.0</td>\n",
       "    </tr>\n",
       "    <tr>\n",
       "      <th>3</th>\n",
       "      <td>1001</td>\n",
       "      <td>10</td>\n",
       "      <td>22330.49</td>\n",
       "      <td>65.0</td>\n",
       "      <td>374.11</td>\n",
       "      <td>53.0</td>\n",
       "    </tr>\n",
       "    <tr>\n",
       "      <th>4</th>\n",
       "      <td>1001</td>\n",
       "      <td>11</td>\n",
       "      <td>18504.30</td>\n",
       "      <td>64.0</td>\n",
       "      <td>404.59</td>\n",
       "      <td>36.0</td>\n",
       "    </tr>\n",
       "    <tr>\n",
       "      <th>...</th>\n",
       "      <td>...</td>\n",
       "      <td>...</td>\n",
       "      <td>...</td>\n",
       "      <td>...</td>\n",
       "      <td>...</td>\n",
       "      <td>...</td>\n",
       "    </tr>\n",
       "    <tr>\n",
       "      <th>2288</th>\n",
       "      <td>1470</td>\n",
       "      <td>11</td>\n",
       "      <td>0.00</td>\n",
       "      <td>81.0</td>\n",
       "      <td>602.30</td>\n",
       "      <td>156.0</td>\n",
       "    </tr>\n",
       "    <tr>\n",
       "      <th>2289</th>\n",
       "      <td>1470</td>\n",
       "      <td>12</td>\n",
       "      <td>0.00</td>\n",
       "      <td>78.0</td>\n",
       "      <td>560.44</td>\n",
       "      <td>153.0</td>\n",
       "    </tr>\n",
       "    <tr>\n",
       "      <th>2290</th>\n",
       "      <td>1484</td>\n",
       "      <td>11</td>\n",
       "      <td>0.00</td>\n",
       "      <td>2.0</td>\n",
       "      <td>37.50</td>\n",
       "      <td>1.0</td>\n",
       "    </tr>\n",
       "    <tr>\n",
       "      <th>2291</th>\n",
       "      <td>1491</td>\n",
       "      <td>4</td>\n",
       "      <td>0.00</td>\n",
       "      <td>8.0</td>\n",
       "      <td>40.45</td>\n",
       "      <td>6.0</td>\n",
       "    </tr>\n",
       "    <tr>\n",
       "      <th>2292</th>\n",
       "      <td>1482</td>\n",
       "      <td>10</td>\n",
       "      <td>0.00</td>\n",
       "      <td>0.0</td>\n",
       "      <td>0.00</td>\n",
       "      <td>2.0</td>\n",
       "    </tr>\n",
       "  </tbody>\n",
       "</table>\n",
       "<p>2293 rows × 6 columns</p>\n",
       "</div>"
      ],
      "text/plain": [
       "      user_id  month   mb_used  calls  duration  messages\n",
       "0        1000     12   1901.47   16.0    116.83      11.0\n",
       "1        1001      8   6919.15   27.0    171.14      30.0\n",
       "2        1001      9  13314.82   49.0    297.69      44.0\n",
       "3        1001     10  22330.49   65.0    374.11      53.0\n",
       "4        1001     11  18504.30   64.0    404.59      36.0\n",
       "...       ...    ...       ...    ...       ...       ...\n",
       "2288     1470     11      0.00   81.0    602.30     156.0\n",
       "2289     1470     12      0.00   78.0    560.44     153.0\n",
       "2290     1484     11      0.00    2.0     37.50       1.0\n",
       "2291     1491      4      0.00    8.0     40.45       6.0\n",
       "2292     1482     10      0.00    0.0      0.00       2.0\n",
       "\n",
       "[2293 rows x 6 columns]"
      ]
     },
     "execution_count": 18,
     "metadata": {},
     "output_type": "execute_result"
    }
   ],
   "source": [
    "print(len(total2))\n",
    "total2"
   ]
  },
  {
   "cell_type": "markdown",
   "metadata": {},
   "source": [
    "I'll also print out a table with an average use of each parameter per month per user."
   ]
  },
  {
   "cell_type": "code",
   "execution_count": 19,
   "metadata": {},
   "outputs": [
    {
     "data": {
      "text/html": [
       "<div>\n",
       "<style scoped>\n",
       "    .dataframe tbody tr th:only-of-type {\n",
       "        vertical-align: middle;\n",
       "    }\n",
       "\n",
       "    .dataframe tbody tr th {\n",
       "        vertical-align: top;\n",
       "    }\n",
       "\n",
       "    .dataframe thead th {\n",
       "        text-align: right;\n",
       "    }\n",
       "</style>\n",
       "<table border=\"1\" class=\"dataframe\">\n",
       "  <thead>\n",
       "    <tr style=\"text-align: right;\">\n",
       "      <th></th>\n",
       "      <th>user_id</th>\n",
       "      <th>calls</th>\n",
       "      <th>duration</th>\n",
       "      <th>mb_used</th>\n",
       "    </tr>\n",
       "  </thead>\n",
       "  <tbody>\n",
       "    <tr>\n",
       "      <th>0</th>\n",
       "      <td>1000</td>\n",
       "      <td>16.000000</td>\n",
       "      <td>116.830000</td>\n",
       "      <td>1901.470000</td>\n",
       "    </tr>\n",
       "    <tr>\n",
       "      <th>1</th>\n",
       "      <td>1001</td>\n",
       "      <td>52.200000</td>\n",
       "      <td>328.092000</td>\n",
       "      <td>16087.588000</td>\n",
       "    </tr>\n",
       "    <tr>\n",
       "      <th>2</th>\n",
       "      <td>1002</td>\n",
       "      <td>37.666667</td>\n",
       "      <td>259.043333</td>\n",
       "      <td>13431.110000</td>\n",
       "    </tr>\n",
       "    <tr>\n",
       "      <th>3</th>\n",
       "      <td>1003</td>\n",
       "      <td>149.000000</td>\n",
       "      <td>1041.000000</td>\n",
       "      <td>27044.140000</td>\n",
       "    </tr>\n",
       "    <tr>\n",
       "      <th>4</th>\n",
       "      <td>1004</td>\n",
       "      <td>46.250000</td>\n",
       "      <td>327.368750</td>\n",
       "      <td>19544.101250</td>\n",
       "    </tr>\n",
       "    <tr>\n",
       "      <th>...</th>\n",
       "      <td>...</td>\n",
       "      <td>...</td>\n",
       "      <td>...</td>\n",
       "      <td>...</td>\n",
       "    </tr>\n",
       "    <tr>\n",
       "      <th>485</th>\n",
       "      <td>1495</td>\n",
       "      <td>63.250000</td>\n",
       "      <td>416.602500</td>\n",
       "      <td>24722.740000</td>\n",
       "    </tr>\n",
       "    <tr>\n",
       "      <th>486</th>\n",
       "      <td>1496</td>\n",
       "      <td>39.000000</td>\n",
       "      <td>275.242000</td>\n",
       "      <td>12853.728000</td>\n",
       "    </tr>\n",
       "    <tr>\n",
       "      <th>487</th>\n",
       "      <td>1497</td>\n",
       "      <td>54.000000</td>\n",
       "      <td>276.530000</td>\n",
       "      <td>11106.550000</td>\n",
       "    </tr>\n",
       "    <tr>\n",
       "      <th>488</th>\n",
       "      <td>1498</td>\n",
       "      <td>41.000000</td>\n",
       "      <td>275.451818</td>\n",
       "      <td>20684.102727</td>\n",
       "    </tr>\n",
       "    <tr>\n",
       "      <th>489</th>\n",
       "      <td>1499</td>\n",
       "      <td>51.000000</td>\n",
       "      <td>362.577500</td>\n",
       "      <td>17837.557500</td>\n",
       "    </tr>\n",
       "  </tbody>\n",
       "</table>\n",
       "<p>490 rows × 4 columns</p>\n",
       "</div>"
      ],
      "text/plain": [
       "     user_id       calls     duration       mb_used\n",
       "0       1000   16.000000   116.830000   1901.470000\n",
       "1       1001   52.200000   328.092000  16087.588000\n",
       "2       1002   37.666667   259.043333  13431.110000\n",
       "3       1003  149.000000  1041.000000  27044.140000\n",
       "4       1004   46.250000   327.368750  19544.101250\n",
       "..       ...         ...          ...           ...\n",
       "485     1495   63.250000   416.602500  24722.740000\n",
       "486     1496   39.000000   275.242000  12853.728000\n",
       "487     1497   54.000000   276.530000  11106.550000\n",
       "488     1498   41.000000   275.451818  20684.102727\n",
       "489     1499   51.000000   362.577500  17837.557500\n",
       "\n",
       "[490 rows x 4 columns]"
      ]
     },
     "execution_count": 19,
     "metadata": {},
     "output_type": "execute_result"
    }
   ],
   "source": [
    "Avg_use_month = total2.pivot_table(index='user_id', values=['calls', 'duration', 'mb_used'], aggfunc='mean').reset_index()\n",
    "Avg_use_month"
   ]
  },
  {
   "cell_type": "code",
   "execution_count": 20,
   "metadata": {},
   "outputs": [],
   "source": [
    "plans.rename(columns = {'plan_name':'plan'}, inplace = True)"
   ]
  },
  {
   "cell_type": "code",
   "execution_count": 21,
   "metadata": {},
   "outputs": [],
   "source": [
    "users_plan = users[['user_id', 'plan', 'city', 'churn_month', 'reg_month']]\n",
    "plan_merge = pd.merge(left = users_plan, right = plans, how='outer',on='plan').fillna(0)"
   ]
  },
  {
   "cell_type": "code",
   "execution_count": 22,
   "metadata": {
    "scrolled": true
   },
   "outputs": [
    {
     "name": "stdout",
     "output_type": "stream",
     "text": [
      "2303\n"
     ]
    },
    {
     "data": {
      "text/html": [
       "<div>\n",
       "<style scoped>\n",
       "    .dataframe tbody tr th:only-of-type {\n",
       "        vertical-align: middle;\n",
       "    }\n",
       "\n",
       "    .dataframe tbody tr th {\n",
       "        vertical-align: top;\n",
       "    }\n",
       "\n",
       "    .dataframe thead th {\n",
       "        text-align: right;\n",
       "    }\n",
       "</style>\n",
       "<table border=\"1\" class=\"dataframe\">\n",
       "  <thead>\n",
       "    <tr style=\"text-align: right;\">\n",
       "      <th></th>\n",
       "      <th>user_id</th>\n",
       "      <th>month</th>\n",
       "      <th>mb_used</th>\n",
       "      <th>calls</th>\n",
       "      <th>duration</th>\n",
       "      <th>messages</th>\n",
       "      <th>plan</th>\n",
       "      <th>city</th>\n",
       "      <th>churn_month</th>\n",
       "      <th>reg_month</th>\n",
       "      <th>messages_included</th>\n",
       "      <th>mb_per_month_included</th>\n",
       "      <th>minutes_included</th>\n",
       "      <th>usd_monthly_pay</th>\n",
       "      <th>usd_per_gb</th>\n",
       "      <th>usd_per_message</th>\n",
       "      <th>usd_per_minute</th>\n",
       "    </tr>\n",
       "  </thead>\n",
       "  <tbody>\n",
       "    <tr>\n",
       "      <th>0</th>\n",
       "      <td>1000</td>\n",
       "      <td>12.0</td>\n",
       "      <td>1901.47</td>\n",
       "      <td>16.0</td>\n",
       "      <td>116.83</td>\n",
       "      <td>11.0</td>\n",
       "      <td>ultimate</td>\n",
       "      <td>Atlanta-Sandy Springs-Roswell, GA MSA</td>\n",
       "      <td>0.0</td>\n",
       "      <td>12</td>\n",
       "      <td>1000</td>\n",
       "      <td>30720</td>\n",
       "      <td>3000</td>\n",
       "      <td>70</td>\n",
       "      <td>7</td>\n",
       "      <td>0.01</td>\n",
       "      <td>0.01</td>\n",
       "    </tr>\n",
       "    <tr>\n",
       "      <th>1</th>\n",
       "      <td>1001</td>\n",
       "      <td>8.0</td>\n",
       "      <td>6919.15</td>\n",
       "      <td>27.0</td>\n",
       "      <td>171.14</td>\n",
       "      <td>30.0</td>\n",
       "      <td>surf</td>\n",
       "      <td>Seattle-Tacoma-Bellevue, WA MSA</td>\n",
       "      <td>0.0</td>\n",
       "      <td>8</td>\n",
       "      <td>50</td>\n",
       "      <td>15360</td>\n",
       "      <td>500</td>\n",
       "      <td>20</td>\n",
       "      <td>10</td>\n",
       "      <td>0.03</td>\n",
       "      <td>0.03</td>\n",
       "    </tr>\n",
       "  </tbody>\n",
       "</table>\n",
       "</div>"
      ],
      "text/plain": [
       "   user_id  month  mb_used  calls  duration  messages      plan  \\\n",
       "0     1000   12.0  1901.47   16.0    116.83      11.0  ultimate   \n",
       "1     1001    8.0  6919.15   27.0    171.14      30.0      surf   \n",
       "\n",
       "                                    city  churn_month  reg_month  \\\n",
       "0  Atlanta-Sandy Springs-Roswell, GA MSA          0.0         12   \n",
       "1        Seattle-Tacoma-Bellevue, WA MSA          0.0          8   \n",
       "\n",
       "   messages_included  mb_per_month_included  minutes_included  \\\n",
       "0               1000                  30720              3000   \n",
       "1                 50                  15360               500   \n",
       "\n",
       "   usd_monthly_pay  usd_per_gb  usd_per_message  usd_per_minute  \n",
       "0               70           7             0.01            0.01  \n",
       "1               20          10             0.03            0.03  "
      ]
     },
     "execution_count": 22,
     "metadata": {},
     "output_type": "execute_result"
    }
   ],
   "source": [
    "total = pd.merge(left = total2, right = plan_merge, how='outer',on='user_id').fillna(0)\n",
    "print(len(total))\n",
    "total.head(2)"
   ]
  },
  {
   "cell_type": "code",
   "execution_count": 23,
   "metadata": {
    "scrolled": true
   },
   "outputs": [
    {
     "name": "stdout",
     "output_type": "stream",
     "text": [
      "<class 'pandas.core.frame.DataFrame'>\n",
      "Int64Index: 2303 entries, 0 to 2302\n",
      "Data columns (total 17 columns):\n",
      " #   Column                 Non-Null Count  Dtype  \n",
      "---  ------                 --------------  -----  \n",
      " 0   user_id                2303 non-null   int64  \n",
      " 1   month                  2303 non-null   float64\n",
      " 2   mb_used                2303 non-null   float64\n",
      " 3   calls                  2303 non-null   float64\n",
      " 4   duration               2303 non-null   float64\n",
      " 5   messages               2303 non-null   float64\n",
      " 6   plan                   2303 non-null   object \n",
      " 7   city                   2303 non-null   object \n",
      " 8   churn_month            2303 non-null   float64\n",
      " 9   reg_month              2303 non-null   int64  \n",
      " 10  messages_included      2303 non-null   int64  \n",
      " 11  mb_per_month_included  2303 non-null   int64  \n",
      " 12  minutes_included       2303 non-null   int64  \n",
      " 13  usd_monthly_pay        2303 non-null   int64  \n",
      " 14  usd_per_gb             2303 non-null   int64  \n",
      " 15  usd_per_message        2303 non-null   float64\n",
      " 16  usd_per_minute         2303 non-null   float64\n",
      "dtypes: float64(8), int64(7), object(2)\n",
      "memory usage: 323.9+ KB\n"
     ]
    }
   ],
   "source": [
    "total.info()"
   ]
  },
  {
   "cell_type": "code",
   "execution_count": 24,
   "metadata": {},
   "outputs": [],
   "source": [
    "total['month'] = total['month'].astype('int')"
   ]
  },
  {
   "cell_type": "code",
   "execution_count": 25,
   "metadata": {
    "scrolled": false
   },
   "outputs": [
    {
     "data": {
      "text/html": [
       "<div>\n",
       "<style scoped>\n",
       "    .dataframe tbody tr th:only-of-type {\n",
       "        vertical-align: middle;\n",
       "    }\n",
       "\n",
       "    .dataframe tbody tr th {\n",
       "        vertical-align: top;\n",
       "    }\n",
       "\n",
       "    .dataframe thead th {\n",
       "        text-align: right;\n",
       "    }\n",
       "</style>\n",
       "<table border=\"1\" class=\"dataframe\">\n",
       "  <thead>\n",
       "    <tr style=\"text-align: right;\">\n",
       "      <th></th>\n",
       "      <th>user_id</th>\n",
       "      <th>month</th>\n",
       "      <th>mb_used</th>\n",
       "      <th>calls</th>\n",
       "      <th>duration</th>\n",
       "      <th>messages</th>\n",
       "      <th>churn_month</th>\n",
       "      <th>reg_month</th>\n",
       "      <th>messages_included</th>\n",
       "      <th>mb_per_month_included</th>\n",
       "      <th>minutes_included</th>\n",
       "      <th>usd_monthly_pay</th>\n",
       "      <th>usd_per_gb</th>\n",
       "      <th>usd_per_message</th>\n",
       "      <th>usd_per_minute</th>\n",
       "    </tr>\n",
       "  </thead>\n",
       "  <tbody>\n",
       "    <tr>\n",
       "      <th>count</th>\n",
       "      <td>2303.000000</td>\n",
       "      <td>2303.000000</td>\n",
       "      <td>2303.000000</td>\n",
       "      <td>2303.000000</td>\n",
       "      <td>2303.000000</td>\n",
       "      <td>2303.000000</td>\n",
       "      <td>2303.000000</td>\n",
       "      <td>2303.000000</td>\n",
       "      <td>2303.00000</td>\n",
       "      <td>2303.000000</td>\n",
       "      <td>2303.000000</td>\n",
       "      <td>2303.000000</td>\n",
       "      <td>2303.000000</td>\n",
       "      <td>2303.000000</td>\n",
       "      <td>2303.000000</td>\n",
       "    </tr>\n",
       "    <tr>\n",
       "      <th>mean</th>\n",
       "      <td>1246.214937</td>\n",
       "      <td>9.132870</td>\n",
       "      <td>16691.603869</td>\n",
       "      <td>59.806774</td>\n",
       "      <td>403.452132</td>\n",
       "      <td>33.022579</td>\n",
       "      <td>0.719931</td>\n",
       "      <td>4.893617</td>\n",
       "      <td>348.65393</td>\n",
       "      <td>20188.762484</td>\n",
       "      <td>1285.931394</td>\n",
       "      <td>35.718628</td>\n",
       "      <td>9.056882</td>\n",
       "      <td>0.023713</td>\n",
       "      <td>0.023713</td>\n",
       "    </tr>\n",
       "    <tr>\n",
       "      <th>std</th>\n",
       "      <td>143.044136</td>\n",
       "      <td>2.562964</td>\n",
       "      <td>8026.001447</td>\n",
       "      <td>32.572548</td>\n",
       "      <td>224.485210</td>\n",
       "      <td>34.065907</td>\n",
       "      <td>2.660353</td>\n",
       "      <td>2.989188</td>\n",
       "      <td>441.14801</td>\n",
       "      <td>7132.666777</td>\n",
       "      <td>1160.915817</td>\n",
       "      <td>23.218316</td>\n",
       "      <td>1.393099</td>\n",
       "      <td>0.009287</td>\n",
       "      <td>0.009287</td>\n",
       "    </tr>\n",
       "    <tr>\n",
       "      <th>min</th>\n",
       "      <td>1000.000000</td>\n",
       "      <td>0.000000</td>\n",
       "      <td>0.000000</td>\n",
       "      <td>0.000000</td>\n",
       "      <td>0.000000</td>\n",
       "      <td>0.000000</td>\n",
       "      <td>0.000000</td>\n",
       "      <td>1.000000</td>\n",
       "      <td>50.00000</td>\n",
       "      <td>15360.000000</td>\n",
       "      <td>500.000000</td>\n",
       "      <td>20.000000</td>\n",
       "      <td>7.000000</td>\n",
       "      <td>0.010000</td>\n",
       "      <td>0.010000</td>\n",
       "    </tr>\n",
       "    <tr>\n",
       "      <th>25%</th>\n",
       "      <td>1122.000000</td>\n",
       "      <td>8.000000</td>\n",
       "      <td>12185.215000</td>\n",
       "      <td>38.000000</td>\n",
       "      <td>247.755000</td>\n",
       "      <td>3.000000</td>\n",
       "      <td>0.000000</td>\n",
       "      <td>2.000000</td>\n",
       "      <td>50.00000</td>\n",
       "      <td>15360.000000</td>\n",
       "      <td>500.000000</td>\n",
       "      <td>20.000000</td>\n",
       "      <td>7.000000</td>\n",
       "      <td>0.010000</td>\n",
       "      <td>0.010000</td>\n",
       "    </tr>\n",
       "    <tr>\n",
       "      <th>50%</th>\n",
       "      <td>1245.000000</td>\n",
       "      <td>10.000000</td>\n",
       "      <td>16803.260000</td>\n",
       "      <td>60.000000</td>\n",
       "      <td>398.970000</td>\n",
       "      <td>25.000000</td>\n",
       "      <td>0.000000</td>\n",
       "      <td>4.000000</td>\n",
       "      <td>50.00000</td>\n",
       "      <td>15360.000000</td>\n",
       "      <td>500.000000</td>\n",
       "      <td>20.000000</td>\n",
       "      <td>10.000000</td>\n",
       "      <td>0.030000</td>\n",
       "      <td>0.030000</td>\n",
       "    </tr>\n",
       "    <tr>\n",
       "      <th>75%</th>\n",
       "      <td>1368.000000</td>\n",
       "      <td>11.000000</td>\n",
       "      <td>20993.075000</td>\n",
       "      <td>79.000000</td>\n",
       "      <td>539.595000</td>\n",
       "      <td>51.000000</td>\n",
       "      <td>0.000000</td>\n",
       "      <td>7.000000</td>\n",
       "      <td>1000.00000</td>\n",
       "      <td>30720.000000</td>\n",
       "      <td>3000.000000</td>\n",
       "      <td>70.000000</td>\n",
       "      <td>10.000000</td>\n",
       "      <td>0.030000</td>\n",
       "      <td>0.030000</td>\n",
       "    </tr>\n",
       "    <tr>\n",
       "      <th>max</th>\n",
       "      <td>1499.000000</td>\n",
       "      <td>12.000000</td>\n",
       "      <td>70931.590000</td>\n",
       "      <td>205.000000</td>\n",
       "      <td>1431.220000</td>\n",
       "      <td>266.000000</td>\n",
       "      <td>12.000000</td>\n",
       "      <td>12.000000</td>\n",
       "      <td>1000.00000</td>\n",
       "      <td>30720.000000</td>\n",
       "      <td>3000.000000</td>\n",
       "      <td>70.000000</td>\n",
       "      <td>10.000000</td>\n",
       "      <td>0.030000</td>\n",
       "      <td>0.030000</td>\n",
       "    </tr>\n",
       "  </tbody>\n",
       "</table>\n",
       "</div>"
      ],
      "text/plain": [
       "           user_id        month       mb_used        calls     duration  \\\n",
       "count  2303.000000  2303.000000   2303.000000  2303.000000  2303.000000   \n",
       "mean   1246.214937     9.132870  16691.603869    59.806774   403.452132   \n",
       "std     143.044136     2.562964   8026.001447    32.572548   224.485210   \n",
       "min    1000.000000     0.000000      0.000000     0.000000     0.000000   \n",
       "25%    1122.000000     8.000000  12185.215000    38.000000   247.755000   \n",
       "50%    1245.000000    10.000000  16803.260000    60.000000   398.970000   \n",
       "75%    1368.000000    11.000000  20993.075000    79.000000   539.595000   \n",
       "max    1499.000000    12.000000  70931.590000   205.000000  1431.220000   \n",
       "\n",
       "          messages  churn_month    reg_month  messages_included  \\\n",
       "count  2303.000000  2303.000000  2303.000000         2303.00000   \n",
       "mean     33.022579     0.719931     4.893617          348.65393   \n",
       "std      34.065907     2.660353     2.989188          441.14801   \n",
       "min       0.000000     0.000000     1.000000           50.00000   \n",
       "25%       3.000000     0.000000     2.000000           50.00000   \n",
       "50%      25.000000     0.000000     4.000000           50.00000   \n",
       "75%      51.000000     0.000000     7.000000         1000.00000   \n",
       "max     266.000000    12.000000    12.000000         1000.00000   \n",
       "\n",
       "       mb_per_month_included  minutes_included  usd_monthly_pay   usd_per_gb  \\\n",
       "count            2303.000000       2303.000000      2303.000000  2303.000000   \n",
       "mean            20188.762484       1285.931394        35.718628     9.056882   \n",
       "std              7132.666777       1160.915817        23.218316     1.393099   \n",
       "min             15360.000000        500.000000        20.000000     7.000000   \n",
       "25%             15360.000000        500.000000        20.000000     7.000000   \n",
       "50%             15360.000000        500.000000        20.000000    10.000000   \n",
       "75%             30720.000000       3000.000000        70.000000    10.000000   \n",
       "max             30720.000000       3000.000000        70.000000    10.000000   \n",
       "\n",
       "       usd_per_message  usd_per_minute  \n",
       "count      2303.000000     2303.000000  \n",
       "mean          0.023713        0.023713  \n",
       "std           0.009287        0.009287  \n",
       "min           0.010000        0.010000  \n",
       "25%           0.010000        0.010000  \n",
       "50%           0.030000        0.030000  \n",
       "75%           0.030000        0.030000  \n",
       "max           0.030000        0.030000  "
      ]
     },
     "execution_count": 25,
     "metadata": {},
     "output_type": "execute_result"
    }
   ],
   "source": [
    "total.describe()"
   ]
  },
  {
   "cell_type": "markdown",
   "metadata": {},
   "source": [
    "For some reason there're 0's in the month column. It could be an error. I'll check how the rest of data with month = 0 looks. how many rows it affects."
   ]
  },
  {
   "cell_type": "code",
   "execution_count": 26,
   "metadata": {
    "scrolled": false
   },
   "outputs": [
    {
     "data": {
      "text/plain": [
       "user_id                  10\n",
       "month                    10\n",
       "mb_used                  10\n",
       "calls                    10\n",
       "duration                 10\n",
       "messages                 10\n",
       "plan                     10\n",
       "city                     10\n",
       "churn_month              10\n",
       "reg_month                10\n",
       "messages_included        10\n",
       "mb_per_month_included    10\n",
       "minutes_included         10\n",
       "usd_monthly_pay          10\n",
       "usd_per_gb               10\n",
       "usd_per_message          10\n",
       "usd_per_minute           10\n",
       "dtype: int64"
      ]
     },
     "execution_count": 26,
     "metadata": {},
     "output_type": "execute_result"
    }
   ],
   "source": [
    "total[total['month'] == 0].count()"
   ]
  },
  {
   "cell_type": "code",
   "execution_count": 27,
   "metadata": {
    "scrolled": true
   },
   "outputs": [
    {
     "data": {
      "text/html": [
       "<div>\n",
       "<style scoped>\n",
       "    .dataframe tbody tr th:only-of-type {\n",
       "        vertical-align: middle;\n",
       "    }\n",
       "\n",
       "    .dataframe tbody tr th {\n",
       "        vertical-align: top;\n",
       "    }\n",
       "\n",
       "    .dataframe thead th {\n",
       "        text-align: right;\n",
       "    }\n",
       "</style>\n",
       "<table border=\"1\" class=\"dataframe\">\n",
       "  <thead>\n",
       "    <tr style=\"text-align: right;\">\n",
       "      <th></th>\n",
       "      <th>user_id</th>\n",
       "      <th>month</th>\n",
       "      <th>mb_used</th>\n",
       "      <th>calls</th>\n",
       "      <th>duration</th>\n",
       "      <th>messages</th>\n",
       "      <th>plan</th>\n",
       "      <th>city</th>\n",
       "      <th>churn_month</th>\n",
       "      <th>reg_month</th>\n",
       "      <th>messages_included</th>\n",
       "      <th>mb_per_month_included</th>\n",
       "      <th>minutes_included</th>\n",
       "      <th>usd_monthly_pay</th>\n",
       "      <th>usd_per_gb</th>\n",
       "      <th>usd_per_message</th>\n",
       "      <th>usd_per_minute</th>\n",
       "    </tr>\n",
       "  </thead>\n",
       "  <tbody>\n",
       "    <tr>\n",
       "      <th>2293</th>\n",
       "      <td>1025</td>\n",
       "      <td>0</td>\n",
       "      <td>0.0</td>\n",
       "      <td>0.0</td>\n",
       "      <td>0.0</td>\n",
       "      <td>0.0</td>\n",
       "      <td>ultimate</td>\n",
       "      <td>Atlanta-Sandy Springs-Roswell, GA MSA</td>\n",
       "      <td>0.0</td>\n",
       "      <td>10</td>\n",
       "      <td>1000</td>\n",
       "      <td>30720</td>\n",
       "      <td>3000</td>\n",
       "      <td>70</td>\n",
       "      <td>7</td>\n",
       "      <td>0.01</td>\n",
       "      <td>0.01</td>\n",
       "    </tr>\n",
       "    <tr>\n",
       "      <th>2294</th>\n",
       "      <td>1269</td>\n",
       "      <td>0</td>\n",
       "      <td>0.0</td>\n",
       "      <td>0.0</td>\n",
       "      <td>0.0</td>\n",
       "      <td>0.0</td>\n",
       "      <td>ultimate</td>\n",
       "      <td>Dallas-Fort Worth-Arlington, TX MSA</td>\n",
       "      <td>12.0</td>\n",
       "      <td>9</td>\n",
       "      <td>1000</td>\n",
       "      <td>30720</td>\n",
       "      <td>3000</td>\n",
       "      <td>70</td>\n",
       "      <td>7</td>\n",
       "      <td>0.01</td>\n",
       "      <td>0.01</td>\n",
       "    </tr>\n",
       "    <tr>\n",
       "      <th>2295</th>\n",
       "      <td>1275</td>\n",
       "      <td>0</td>\n",
       "      <td>0.0</td>\n",
       "      <td>0.0</td>\n",
       "      <td>0.0</td>\n",
       "      <td>0.0</td>\n",
       "      <td>ultimate</td>\n",
       "      <td>New York-Newark-Jersey City, NY-NJ-PA MSA</td>\n",
       "      <td>0.0</td>\n",
       "      <td>11</td>\n",
       "      <td>1000</td>\n",
       "      <td>30720</td>\n",
       "      <td>3000</td>\n",
       "      <td>70</td>\n",
       "      <td>7</td>\n",
       "      <td>0.01</td>\n",
       "      <td>0.01</td>\n",
       "    </tr>\n",
       "    <tr>\n",
       "      <th>2296</th>\n",
       "      <td>1463</td>\n",
       "      <td>0</td>\n",
       "      <td>0.0</td>\n",
       "      <td>0.0</td>\n",
       "      <td>0.0</td>\n",
       "      <td>0.0</td>\n",
       "      <td>ultimate</td>\n",
       "      <td>Atlanta-Sandy Springs-Roswell, GA MSA</td>\n",
       "      <td>0.0</td>\n",
       "      <td>11</td>\n",
       "      <td>1000</td>\n",
       "      <td>30720</td>\n",
       "      <td>3000</td>\n",
       "      <td>70</td>\n",
       "      <td>7</td>\n",
       "      <td>0.01</td>\n",
       "      <td>0.01</td>\n",
       "    </tr>\n",
       "    <tr>\n",
       "      <th>2297</th>\n",
       "      <td>1129</td>\n",
       "      <td>0</td>\n",
       "      <td>0.0</td>\n",
       "      <td>0.0</td>\n",
       "      <td>0.0</td>\n",
       "      <td>0.0</td>\n",
       "      <td>surf</td>\n",
       "      <td>Baton Rouge, LA MSA</td>\n",
       "      <td>12.0</td>\n",
       "      <td>11</td>\n",
       "      <td>50</td>\n",
       "      <td>15360</td>\n",
       "      <td>500</td>\n",
       "      <td>20</td>\n",
       "      <td>10</td>\n",
       "      <td>0.03</td>\n",
       "      <td>0.03</td>\n",
       "    </tr>\n",
       "    <tr>\n",
       "      <th>2298</th>\n",
       "      <td>1143</td>\n",
       "      <td>0</td>\n",
       "      <td>0.0</td>\n",
       "      <td>0.0</td>\n",
       "      <td>0.0</td>\n",
       "      <td>0.0</td>\n",
       "      <td>surf</td>\n",
       "      <td>Cincinnati, OH-KY-IN MSA</td>\n",
       "      <td>0.0</td>\n",
       "      <td>10</td>\n",
       "      <td>50</td>\n",
       "      <td>15360</td>\n",
       "      <td>500</td>\n",
       "      <td>20</td>\n",
       "      <td>10</td>\n",
       "      <td>0.03</td>\n",
       "      <td>0.03</td>\n",
       "    </tr>\n",
       "    <tr>\n",
       "      <th>2299</th>\n",
       "      <td>1307</td>\n",
       "      <td>0</td>\n",
       "      <td>0.0</td>\n",
       "      <td>0.0</td>\n",
       "      <td>0.0</td>\n",
       "      <td>0.0</td>\n",
       "      <td>surf</td>\n",
       "      <td>Boston-Cambridge-Newton, MA-NH MSA</td>\n",
       "      <td>0.0</td>\n",
       "      <td>12</td>\n",
       "      <td>50</td>\n",
       "      <td>15360</td>\n",
       "      <td>500</td>\n",
       "      <td>20</td>\n",
       "      <td>10</td>\n",
       "      <td>0.03</td>\n",
       "      <td>0.03</td>\n",
       "    </tr>\n",
       "    <tr>\n",
       "      <th>2300</th>\n",
       "      <td>1319</td>\n",
       "      <td>0</td>\n",
       "      <td>0.0</td>\n",
       "      <td>0.0</td>\n",
       "      <td>0.0</td>\n",
       "      <td>0.0</td>\n",
       "      <td>surf</td>\n",
       "      <td>Colorado Springs, CO MSA</td>\n",
       "      <td>0.0</td>\n",
       "      <td>6</td>\n",
       "      <td>50</td>\n",
       "      <td>15360</td>\n",
       "      <td>500</td>\n",
       "      <td>20</td>\n",
       "      <td>10</td>\n",
       "      <td>0.03</td>\n",
       "      <td>0.03</td>\n",
       "    </tr>\n",
       "    <tr>\n",
       "      <th>2301</th>\n",
       "      <td>1378</td>\n",
       "      <td>0</td>\n",
       "      <td>0.0</td>\n",
       "      <td>0.0</td>\n",
       "      <td>0.0</td>\n",
       "      <td>0.0</td>\n",
       "      <td>surf</td>\n",
       "      <td>Denver-Aurora-Lakewood, CO MSA</td>\n",
       "      <td>0.0</td>\n",
       "      <td>12</td>\n",
       "      <td>50</td>\n",
       "      <td>15360</td>\n",
       "      <td>500</td>\n",
       "      <td>20</td>\n",
       "      <td>10</td>\n",
       "      <td>0.03</td>\n",
       "      <td>0.03</td>\n",
       "    </tr>\n",
       "    <tr>\n",
       "      <th>2302</th>\n",
       "      <td>1473</td>\n",
       "      <td>0</td>\n",
       "      <td>0.0</td>\n",
       "      <td>0.0</td>\n",
       "      <td>0.0</td>\n",
       "      <td>0.0</td>\n",
       "      <td>surf</td>\n",
       "      <td>Louisville/Jefferson County, KY-IN MSA</td>\n",
       "      <td>0.0</td>\n",
       "      <td>12</td>\n",
       "      <td>50</td>\n",
       "      <td>15360</td>\n",
       "      <td>500</td>\n",
       "      <td>20</td>\n",
       "      <td>10</td>\n",
       "      <td>0.03</td>\n",
       "      <td>0.03</td>\n",
       "    </tr>\n",
       "  </tbody>\n",
       "</table>\n",
       "</div>"
      ],
      "text/plain": [
       "      user_id  month  mb_used  calls  duration  messages      plan  \\\n",
       "2293     1025      0      0.0    0.0       0.0       0.0  ultimate   \n",
       "2294     1269      0      0.0    0.0       0.0       0.0  ultimate   \n",
       "2295     1275      0      0.0    0.0       0.0       0.0  ultimate   \n",
       "2296     1463      0      0.0    0.0       0.0       0.0  ultimate   \n",
       "2297     1129      0      0.0    0.0       0.0       0.0      surf   \n",
       "2298     1143      0      0.0    0.0       0.0       0.0      surf   \n",
       "2299     1307      0      0.0    0.0       0.0       0.0      surf   \n",
       "2300     1319      0      0.0    0.0       0.0       0.0      surf   \n",
       "2301     1378      0      0.0    0.0       0.0       0.0      surf   \n",
       "2302     1473      0      0.0    0.0       0.0       0.0      surf   \n",
       "\n",
       "                                           city  churn_month  reg_month  \\\n",
       "2293      Atlanta-Sandy Springs-Roswell, GA MSA          0.0         10   \n",
       "2294        Dallas-Fort Worth-Arlington, TX MSA         12.0          9   \n",
       "2295  New York-Newark-Jersey City, NY-NJ-PA MSA          0.0         11   \n",
       "2296      Atlanta-Sandy Springs-Roswell, GA MSA          0.0         11   \n",
       "2297                        Baton Rouge, LA MSA         12.0         11   \n",
       "2298                   Cincinnati, OH-KY-IN MSA          0.0         10   \n",
       "2299         Boston-Cambridge-Newton, MA-NH MSA          0.0         12   \n",
       "2300                   Colorado Springs, CO MSA          0.0          6   \n",
       "2301             Denver-Aurora-Lakewood, CO MSA          0.0         12   \n",
       "2302     Louisville/Jefferson County, KY-IN MSA          0.0         12   \n",
       "\n",
       "      messages_included  mb_per_month_included  minutes_included  \\\n",
       "2293               1000                  30720              3000   \n",
       "2294               1000                  30720              3000   \n",
       "2295               1000                  30720              3000   \n",
       "2296               1000                  30720              3000   \n",
       "2297                 50                  15360               500   \n",
       "2298                 50                  15360               500   \n",
       "2299                 50                  15360               500   \n",
       "2300                 50                  15360               500   \n",
       "2301                 50                  15360               500   \n",
       "2302                 50                  15360               500   \n",
       "\n",
       "      usd_monthly_pay  usd_per_gb  usd_per_message  usd_per_minute  \n",
       "2293               70           7             0.01            0.01  \n",
       "2294               70           7             0.01            0.01  \n",
       "2295               70           7             0.01            0.01  \n",
       "2296               70           7             0.01            0.01  \n",
       "2297               20          10             0.03            0.03  \n",
       "2298               20          10             0.03            0.03  \n",
       "2299               20          10             0.03            0.03  \n",
       "2300               20          10             0.03            0.03  \n",
       "2301               20          10             0.03            0.03  \n",
       "2302               20          10             0.03            0.03  "
      ]
     },
     "execution_count": 27,
     "metadata": {},
     "output_type": "execute_result"
    }
   ],
   "source": [
    "total[total['month'] == 0]"
   ]
  },
  {
   "cell_type": "markdown",
   "metadata": {},
   "source": [
    "Looks like an error, because those users didn't call, sent messages or used an internet. For futher analysis those rows don't bring any value, so I'll drop them."
   ]
  },
  {
   "cell_type": "code",
   "execution_count": 28,
   "metadata": {
    "scrolled": true
   },
   "outputs": [
    {
     "data": {
      "text/html": [
       "<div>\n",
       "<style scoped>\n",
       "    .dataframe tbody tr th:only-of-type {\n",
       "        vertical-align: middle;\n",
       "    }\n",
       "\n",
       "    .dataframe tbody tr th {\n",
       "        vertical-align: top;\n",
       "    }\n",
       "\n",
       "    .dataframe thead th {\n",
       "        text-align: right;\n",
       "    }\n",
       "</style>\n",
       "<table border=\"1\" class=\"dataframe\">\n",
       "  <thead>\n",
       "    <tr style=\"text-align: right;\">\n",
       "      <th></th>\n",
       "      <th>user_id</th>\n",
       "      <th>month</th>\n",
       "      <th>mb_used</th>\n",
       "      <th>calls</th>\n",
       "      <th>duration</th>\n",
       "      <th>messages</th>\n",
       "      <th>plan</th>\n",
       "      <th>city</th>\n",
       "      <th>churn_month</th>\n",
       "      <th>reg_month</th>\n",
       "      <th>messages_included</th>\n",
       "      <th>mb_per_month_included</th>\n",
       "      <th>minutes_included</th>\n",
       "      <th>usd_monthly_pay</th>\n",
       "      <th>usd_per_gb</th>\n",
       "      <th>usd_per_message</th>\n",
       "      <th>usd_per_minute</th>\n",
       "    </tr>\n",
       "  </thead>\n",
       "  <tbody>\n",
       "  </tbody>\n",
       "</table>\n",
       "</div>"
      ],
      "text/plain": [
       "Empty DataFrame\n",
       "Columns: [user_id, month, mb_used, calls, duration, messages, plan, city, churn_month, reg_month, messages_included, mb_per_month_included, minutes_included, usd_monthly_pay, usd_per_gb, usd_per_message, usd_per_minute]\n",
       "Index: []"
      ]
     },
     "execution_count": 28,
     "metadata": {},
     "output_type": "execute_result"
    }
   ],
   "source": [
    "total.drop(total[total['month'] == 0].index, axis=0, inplace=True)\n",
    "total[total['month'] == 0]"
   ]
  },
  {
   "cell_type": "code",
   "execution_count": 29,
   "metadata": {
    "scrolled": false
   },
   "outputs": [
    {
     "data": {
      "text/html": [
       "<div>\n",
       "<style scoped>\n",
       "    .dataframe tbody tr th:only-of-type {\n",
       "        vertical-align: middle;\n",
       "    }\n",
       "\n",
       "    .dataframe tbody tr th {\n",
       "        vertical-align: top;\n",
       "    }\n",
       "\n",
       "    .dataframe thead th {\n",
       "        text-align: right;\n",
       "    }\n",
       "</style>\n",
       "<table border=\"1\" class=\"dataframe\">\n",
       "  <thead>\n",
       "    <tr style=\"text-align: right;\">\n",
       "      <th></th>\n",
       "      <th>user_id</th>\n",
       "      <th>month</th>\n",
       "      <th>mb_used</th>\n",
       "      <th>calls</th>\n",
       "      <th>duration</th>\n",
       "      <th>messages</th>\n",
       "      <th>churn_month</th>\n",
       "      <th>reg_month</th>\n",
       "      <th>messages_included</th>\n",
       "      <th>mb_per_month_included</th>\n",
       "      <th>minutes_included</th>\n",
       "      <th>usd_monthly_pay</th>\n",
       "      <th>usd_per_gb</th>\n",
       "      <th>usd_per_message</th>\n",
       "      <th>usd_per_minute</th>\n",
       "    </tr>\n",
       "  </thead>\n",
       "  <tbody>\n",
       "    <tr>\n",
       "      <th>count</th>\n",
       "      <td>2293.000000</td>\n",
       "      <td>2293.000000</td>\n",
       "      <td>2293.000000</td>\n",
       "      <td>2293.000000</td>\n",
       "      <td>2293.000000</td>\n",
       "      <td>2293.000000</td>\n",
       "      <td>2293.000000</td>\n",
       "      <td>2293.000000</td>\n",
       "      <td>2293.000000</td>\n",
       "      <td>2293.000000</td>\n",
       "      <td>2293.000000</td>\n",
       "      <td>2293.000000</td>\n",
       "      <td>2293.000000</td>\n",
       "      <td>2293.000000</td>\n",
       "      <td>2293.000000</td>\n",
       "    </tr>\n",
       "    <tr>\n",
       "      <th>mean</th>\n",
       "      <td>1246.075883</td>\n",
       "      <td>9.172700</td>\n",
       "      <td>16764.397606</td>\n",
       "      <td>60.067597</td>\n",
       "      <td>405.211627</td>\n",
       "      <td>33.166594</td>\n",
       "      <td>0.712604</td>\n",
       "      <td>4.869603</td>\n",
       "      <td>348.299171</td>\n",
       "      <td>20183.026603</td>\n",
       "      <td>1284.997819</td>\n",
       "      <td>35.699956</td>\n",
       "      <td>9.058003</td>\n",
       "      <td>0.023720</td>\n",
       "      <td>0.023720</td>\n",
       "    </tr>\n",
       "    <tr>\n",
       "      <th>std</th>\n",
       "      <td>143.051927</td>\n",
       "      <td>2.496386</td>\n",
       "      <td>7967.237527</td>\n",
       "      <td>32.402563</td>\n",
       "      <td>223.383523</td>\n",
       "      <td>34.070085</td>\n",
       "      <td>2.644894</td>\n",
       "      <td>2.971212</td>\n",
       "      <td>441.006389</td>\n",
       "      <td>7130.376976</td>\n",
       "      <td>1160.543128</td>\n",
       "      <td>23.210863</td>\n",
       "      <td>1.392652</td>\n",
       "      <td>0.009284</td>\n",
       "      <td>0.009284</td>\n",
       "    </tr>\n",
       "    <tr>\n",
       "      <th>min</th>\n",
       "      <td>1000.000000</td>\n",
       "      <td>1.000000</td>\n",
       "      <td>0.000000</td>\n",
       "      <td>0.000000</td>\n",
       "      <td>0.000000</td>\n",
       "      <td>0.000000</td>\n",
       "      <td>0.000000</td>\n",
       "      <td>1.000000</td>\n",
       "      <td>50.000000</td>\n",
       "      <td>15360.000000</td>\n",
       "      <td>500.000000</td>\n",
       "      <td>20.000000</td>\n",
       "      <td>7.000000</td>\n",
       "      <td>0.010000</td>\n",
       "      <td>0.010000</td>\n",
       "    </tr>\n",
       "    <tr>\n",
       "      <th>25%</th>\n",
       "      <td>1122.000000</td>\n",
       "      <td>8.000000</td>\n",
       "      <td>12235.760000</td>\n",
       "      <td>38.000000</td>\n",
       "      <td>249.130000</td>\n",
       "      <td>3.000000</td>\n",
       "      <td>0.000000</td>\n",
       "      <td>2.000000</td>\n",
       "      <td>50.000000</td>\n",
       "      <td>15360.000000</td>\n",
       "      <td>500.000000</td>\n",
       "      <td>20.000000</td>\n",
       "      <td>7.000000</td>\n",
       "      <td>0.010000</td>\n",
       "      <td>0.010000</td>\n",
       "    </tr>\n",
       "    <tr>\n",
       "      <th>50%</th>\n",
       "      <td>1245.000000</td>\n",
       "      <td>10.000000</td>\n",
       "      <td>16830.640000</td>\n",
       "      <td>60.000000</td>\n",
       "      <td>400.160000</td>\n",
       "      <td>26.000000</td>\n",
       "      <td>0.000000</td>\n",
       "      <td>4.000000</td>\n",
       "      <td>50.000000</td>\n",
       "      <td>15360.000000</td>\n",
       "      <td>500.000000</td>\n",
       "      <td>20.000000</td>\n",
       "      <td>10.000000</td>\n",
       "      <td>0.030000</td>\n",
       "      <td>0.030000</td>\n",
       "    </tr>\n",
       "    <tr>\n",
       "      <th>75%</th>\n",
       "      <td>1368.000000</td>\n",
       "      <td>11.000000</td>\n",
       "      <td>20999.840000</td>\n",
       "      <td>79.000000</td>\n",
       "      <td>540.450000</td>\n",
       "      <td>51.000000</td>\n",
       "      <td>0.000000</td>\n",
       "      <td>7.000000</td>\n",
       "      <td>1000.000000</td>\n",
       "      <td>30720.000000</td>\n",
       "      <td>3000.000000</td>\n",
       "      <td>70.000000</td>\n",
       "      <td>10.000000</td>\n",
       "      <td>0.030000</td>\n",
       "      <td>0.030000</td>\n",
       "    </tr>\n",
       "    <tr>\n",
       "      <th>max</th>\n",
       "      <td>1499.000000</td>\n",
       "      <td>12.000000</td>\n",
       "      <td>70931.590000</td>\n",
       "      <td>205.000000</td>\n",
       "      <td>1431.220000</td>\n",
       "      <td>266.000000</td>\n",
       "      <td>12.000000</td>\n",
       "      <td>12.000000</td>\n",
       "      <td>1000.000000</td>\n",
       "      <td>30720.000000</td>\n",
       "      <td>3000.000000</td>\n",
       "      <td>70.000000</td>\n",
       "      <td>10.000000</td>\n",
       "      <td>0.030000</td>\n",
       "      <td>0.030000</td>\n",
       "    </tr>\n",
       "  </tbody>\n",
       "</table>\n",
       "</div>"
      ],
      "text/plain": [
       "           user_id        month       mb_used        calls     duration  \\\n",
       "count  2293.000000  2293.000000   2293.000000  2293.000000  2293.000000   \n",
       "mean   1246.075883     9.172700  16764.397606    60.067597   405.211627   \n",
       "std     143.051927     2.496386   7967.237527    32.402563   223.383523   \n",
       "min    1000.000000     1.000000      0.000000     0.000000     0.000000   \n",
       "25%    1122.000000     8.000000  12235.760000    38.000000   249.130000   \n",
       "50%    1245.000000    10.000000  16830.640000    60.000000   400.160000   \n",
       "75%    1368.000000    11.000000  20999.840000    79.000000   540.450000   \n",
       "max    1499.000000    12.000000  70931.590000   205.000000  1431.220000   \n",
       "\n",
       "          messages  churn_month    reg_month  messages_included  \\\n",
       "count  2293.000000  2293.000000  2293.000000        2293.000000   \n",
       "mean     33.166594     0.712604     4.869603         348.299171   \n",
       "std      34.070085     2.644894     2.971212         441.006389   \n",
       "min       0.000000     0.000000     1.000000          50.000000   \n",
       "25%       3.000000     0.000000     2.000000          50.000000   \n",
       "50%      26.000000     0.000000     4.000000          50.000000   \n",
       "75%      51.000000     0.000000     7.000000        1000.000000   \n",
       "max     266.000000    12.000000    12.000000        1000.000000   \n",
       "\n",
       "       mb_per_month_included  minutes_included  usd_monthly_pay   usd_per_gb  \\\n",
       "count            2293.000000       2293.000000      2293.000000  2293.000000   \n",
       "mean            20183.026603       1284.997819        35.699956     9.058003   \n",
       "std              7130.376976       1160.543128        23.210863     1.392652   \n",
       "min             15360.000000        500.000000        20.000000     7.000000   \n",
       "25%             15360.000000        500.000000        20.000000     7.000000   \n",
       "50%             15360.000000        500.000000        20.000000    10.000000   \n",
       "75%             30720.000000       3000.000000        70.000000    10.000000   \n",
       "max             30720.000000       3000.000000        70.000000    10.000000   \n",
       "\n",
       "       usd_per_message  usd_per_minute  \n",
       "count      2293.000000     2293.000000  \n",
       "mean          0.023720        0.023720  \n",
       "std           0.009284        0.009284  \n",
       "min           0.010000        0.010000  \n",
       "25%           0.010000        0.010000  \n",
       "50%           0.030000        0.030000  \n",
       "75%           0.030000        0.030000  \n",
       "max           0.030000        0.030000  "
      ]
     },
     "execution_count": 29,
     "metadata": {},
     "output_type": "execute_result"
    }
   ],
   "source": [
    "total.describe()"
   ]
  },
  {
   "cell_type": "markdown",
   "metadata": {},
   "source": [
    "I see that min for mb_used, calls and messages = 0. I'll check if there any user, who has all zeros. It this case I'll need to investigate such rows."
   ]
  },
  {
   "cell_type": "code",
   "execution_count": 30,
   "metadata": {
    "scrolled": true
   },
   "outputs": [
    {
     "data": {
      "text/html": [
       "<div>\n",
       "<style scoped>\n",
       "    .dataframe tbody tr th:only-of-type {\n",
       "        vertical-align: middle;\n",
       "    }\n",
       "\n",
       "    .dataframe tbody tr th {\n",
       "        vertical-align: top;\n",
       "    }\n",
       "\n",
       "    .dataframe thead th {\n",
       "        text-align: right;\n",
       "    }\n",
       "</style>\n",
       "<table border=\"1\" class=\"dataframe\">\n",
       "  <thead>\n",
       "    <tr style=\"text-align: right;\">\n",
       "      <th></th>\n",
       "      <th>user_id</th>\n",
       "      <th>month</th>\n",
       "      <th>mb_used</th>\n",
       "      <th>calls</th>\n",
       "      <th>duration</th>\n",
       "      <th>messages</th>\n",
       "      <th>plan</th>\n",
       "      <th>city</th>\n",
       "      <th>churn_month</th>\n",
       "      <th>reg_month</th>\n",
       "      <th>messages_included</th>\n",
       "      <th>mb_per_month_included</th>\n",
       "      <th>minutes_included</th>\n",
       "      <th>usd_monthly_pay</th>\n",
       "      <th>usd_per_gb</th>\n",
       "      <th>usd_per_message</th>\n",
       "      <th>usd_per_minute</th>\n",
       "    </tr>\n",
       "  </thead>\n",
       "  <tbody>\n",
       "  </tbody>\n",
       "</table>\n",
       "</div>"
      ],
      "text/plain": [
       "Empty DataFrame\n",
       "Columns: [user_id, month, mb_used, calls, duration, messages, plan, city, churn_month, reg_month, messages_included, mb_per_month_included, minutes_included, usd_monthly_pay, usd_per_gb, usd_per_message, usd_per_minute]\n",
       "Index: []"
      ]
     },
     "execution_count": 30,
     "metadata": {},
     "output_type": "execute_result"
    }
   ],
   "source": [
    "all_zero = total[(total['mb_used']==0 ) & (total['calls'] ==0) & (total['messages'] ==0)]\n",
    "all_zero"
   ]
  },
  {
   "cell_type": "markdown",
   "metadata": {},
   "source": [
    "No users, who bought the packege and didn't use it.\n",
    "The next step, I'll check if there any NULLs in the data."
   ]
  },
  {
   "cell_type": "code",
   "execution_count": 31,
   "metadata": {
    "scrolled": true
   },
   "outputs": [
    {
     "data": {
      "text/html": [
       "<div>\n",
       "<style scoped>\n",
       "    .dataframe tbody tr th:only-of-type {\n",
       "        vertical-align: middle;\n",
       "    }\n",
       "\n",
       "    .dataframe tbody tr th {\n",
       "        vertical-align: top;\n",
       "    }\n",
       "\n",
       "    .dataframe thead th {\n",
       "        text-align: right;\n",
       "    }\n",
       "</style>\n",
       "<table border=\"1\" class=\"dataframe\">\n",
       "  <thead>\n",
       "    <tr style=\"text-align: right;\">\n",
       "      <th></th>\n",
       "      <th>column</th>\n",
       "      <th>missing %</th>\n",
       "    </tr>\n",
       "  </thead>\n",
       "  <tbody>\n",
       "    <tr>\n",
       "      <th>0</th>\n",
       "      <td>user_id</td>\n",
       "      <td>0</td>\n",
       "    </tr>\n",
       "    <tr>\n",
       "      <th>9</th>\n",
       "      <td>reg_month</td>\n",
       "      <td>0</td>\n",
       "    </tr>\n",
       "    <tr>\n",
       "      <th>15</th>\n",
       "      <td>usd_per_message</td>\n",
       "      <td>0</td>\n",
       "    </tr>\n",
       "    <tr>\n",
       "      <th>14</th>\n",
       "      <td>usd_per_gb</td>\n",
       "      <td>0</td>\n",
       "    </tr>\n",
       "    <tr>\n",
       "      <th>13</th>\n",
       "      <td>usd_monthly_pay</td>\n",
       "      <td>0</td>\n",
       "    </tr>\n",
       "    <tr>\n",
       "      <th>12</th>\n",
       "      <td>minutes_included</td>\n",
       "      <td>0</td>\n",
       "    </tr>\n",
       "    <tr>\n",
       "      <th>11</th>\n",
       "      <td>mb_per_month_included</td>\n",
       "      <td>0</td>\n",
       "    </tr>\n",
       "    <tr>\n",
       "      <th>10</th>\n",
       "      <td>messages_included</td>\n",
       "      <td>0</td>\n",
       "    </tr>\n",
       "    <tr>\n",
       "      <th>8</th>\n",
       "      <td>churn_month</td>\n",
       "      <td>0</td>\n",
       "    </tr>\n",
       "    <tr>\n",
       "      <th>1</th>\n",
       "      <td>month</td>\n",
       "      <td>0</td>\n",
       "    </tr>\n",
       "    <tr>\n",
       "      <th>7</th>\n",
       "      <td>city</td>\n",
       "      <td>0</td>\n",
       "    </tr>\n",
       "    <tr>\n",
       "      <th>6</th>\n",
       "      <td>plan</td>\n",
       "      <td>0</td>\n",
       "    </tr>\n",
       "    <tr>\n",
       "      <th>5</th>\n",
       "      <td>messages</td>\n",
       "      <td>0</td>\n",
       "    </tr>\n",
       "    <tr>\n",
       "      <th>4</th>\n",
       "      <td>duration</td>\n",
       "      <td>0</td>\n",
       "    </tr>\n",
       "    <tr>\n",
       "      <th>3</th>\n",
       "      <td>calls</td>\n",
       "      <td>0</td>\n",
       "    </tr>\n",
       "    <tr>\n",
       "      <th>2</th>\n",
       "      <td>mb_used</td>\n",
       "      <td>0</td>\n",
       "    </tr>\n",
       "    <tr>\n",
       "      <th>16</th>\n",
       "      <td>usd_per_minute</td>\n",
       "      <td>0</td>\n",
       "    </tr>\n",
       "  </tbody>\n",
       "</table>\n",
       "</div>"
      ],
      "text/plain": [
       "                   column  missing %\n",
       "0                 user_id          0\n",
       "9               reg_month          0\n",
       "15        usd_per_message          0\n",
       "14             usd_per_gb          0\n",
       "13        usd_monthly_pay          0\n",
       "12       minutes_included          0\n",
       "11  mb_per_month_included          0\n",
       "10      messages_included          0\n",
       "8             churn_month          0\n",
       "1                   month          0\n",
       "7                    city          0\n",
       "6                    plan          0\n",
       "5                messages          0\n",
       "4                duration          0\n",
       "3                   calls          0\n",
       "2                 mb_used          0\n",
       "16         usd_per_minute          0"
      ]
     },
     "execution_count": 31,
     "metadata": {},
     "output_type": "execute_result"
    }
   ],
   "source": [
    "missing_data=[]\n",
    "for col in total:\n",
    "    missing_data.append([col,(len(total[total[col].isnull()]/len(total)))])\n",
    "missing_data = pd.DataFrame(missing_data, columns=['column','missing %'])\n",
    "missing_data.sort_values(by=['missing %'], ascending=False)"
   ]
  },
  {
   "cell_type": "markdown",
   "metadata": {},
   "source": [
    "I'll check how many 0's in the columns 'duration' and 'mb_used'."
   ]
  },
  {
   "cell_type": "code",
   "execution_count": 32,
   "metadata": {
    "scrolled": true
   },
   "outputs": [
    {
     "name": "stdout",
     "output_type": "stream",
     "text": [
      "37\n",
      "----------------------\n",
      "16\n"
     ]
    }
   ],
   "source": [
    "print(total[total['duration'] == 0].shape[0])\n",
    "print('----------------------')\n",
    "print(total[total['mb_used'] == 0].shape[0])"
   ]
  },
  {
   "cell_type": "markdown",
   "metadata": {},
   "source": [
    "I'll replace 0's with 1's, because the duration of call could be so short, that it wasn't registered. The same for the mb_used."
   ]
  },
  {
   "cell_type": "code",
   "execution_count": 33,
   "metadata": {},
   "outputs": [],
   "source": [
    "total['duration'] = total['duration'].replace(0,1)\n",
    "total['mb_used'] = total['mb_used'].replace(0,1)"
   ]
  },
  {
   "cell_type": "code",
   "execution_count": 34,
   "metadata": {},
   "outputs": [
    {
     "name": "stdout",
     "output_type": "stream",
     "text": [
      "0\n",
      "----------------------\n",
      "0\n"
     ]
    }
   ],
   "source": [
    "#Check\n",
    "print(total[total['duration'] == 0].shape[0])\n",
    "print('----------------------')\n",
    "print(total[total['mb_used'] == 0].shape[0])"
   ]
  },
  {
   "cell_type": "markdown",
   "metadata": {},
   "source": [
    "I'll check if there are any users with the activity before registration date and past the churn date."
   ]
  },
  {
   "cell_type": "code",
   "execution_count": 35,
   "metadata": {
    "scrolled": true
   },
   "outputs": [
    {
     "name": "stdout",
     "output_type": "stream",
     "text": [
      "0\n"
     ]
    }
   ],
   "source": [
    "reg_activity_check = total[(total['month'] < total['reg_month'])]\n",
    "print(reg_activity_check.shape[0])"
   ]
  },
  {
   "cell_type": "code",
   "execution_count": 36,
   "metadata": {},
   "outputs": [
    {
     "name": "stdout",
     "output_type": "stream",
     "text": [
      "37\n"
     ]
    }
   ],
   "source": [
    "churn_activity_check = total[(total['churn_month'] < total['month']) & (total['churn_month'] >0)]\n",
    "print(churn_activity_check.shape[0])"
   ]
  },
  {
   "cell_type": "markdown",
   "metadata": {},
   "source": [
    "As all data related to the 2018Y, I exclude the case that churn date happened in the next year. I would consider the rows where users still have an activity after a churn day as a mistake and drop them. There're only 37 rows with the weird data, so it is less than 10% of all data and can be dropped without affecting the analysis."
   ]
  },
  {
   "cell_type": "code",
   "execution_count": 37,
   "metadata": {},
   "outputs": [],
   "source": [
    "total.drop(total[(total['churn_month'] < total['month']) & (total['churn_month'] >0)].index, axis=0, inplace=True)"
   ]
  },
  {
   "cell_type": "code",
   "execution_count": 38,
   "metadata": {},
   "outputs": [
    {
     "name": "stdout",
     "output_type": "stream",
     "text": [
      "0\n"
     ]
    }
   ],
   "source": [
    "churn_activity_check = total[(total['churn_month'] < total['month']) & (total['churn_month'] >0)]\n",
    "print(churn_activity_check.shape[0])"
   ]
  },
  {
   "cell_type": "markdown",
   "metadata": {},
   "source": [
    "I see that costs for an internet in each plan are written in GB, but the initial data provided in MB, so for the convinience of the futher analysis I'll add columns with GB as well.\n",
    "\n",
    "I'll also add column with the total minutes used per each user, as the duration of the calls impacts the total cost at the end of the month."
   ]
  },
  {
   "cell_type": "code",
   "execution_count": 39,
   "metadata": {},
   "outputs": [],
   "source": [
    "total['gb_used'] = total['mb_used'] / 1024"
   ]
  },
  {
   "cell_type": "code",
   "execution_count": 40,
   "metadata": {},
   "outputs": [],
   "source": [
    "total['gb_per_month_included'] = total['mb_per_month_included'] / 1024"
   ]
  },
  {
   "cell_type": "code",
   "execution_count": 41,
   "metadata": {},
   "outputs": [],
   "source": [
    "total['minutes_used'] = total['duration']"
   ]
  },
  {
   "cell_type": "markdown",
   "metadata": {},
   "source": [
    ">For each user, find:\n",
    "The monthly profit from each user (subtract the free package limit from the total number of calls, text messages, and data; multiply the result by the calling plan value; add the monthly charge depending on the calling plan)"
   ]
  },
  {
   "cell_type": "code",
   "execution_count": 42,
   "metadata": {
    "scrolled": false
   },
   "outputs": [
    {
     "data": {
      "text/html": [
       "<div>\n",
       "<style scoped>\n",
       "    .dataframe tbody tr th:only-of-type {\n",
       "        vertical-align: middle;\n",
       "    }\n",
       "\n",
       "    .dataframe tbody tr th {\n",
       "        vertical-align: top;\n",
       "    }\n",
       "\n",
       "    .dataframe thead th {\n",
       "        text-align: right;\n",
       "    }\n",
       "</style>\n",
       "<table border=\"1\" class=\"dataframe\">\n",
       "  <thead>\n",
       "    <tr style=\"text-align: right;\">\n",
       "      <th></th>\n",
       "      <th>user_id</th>\n",
       "      <th>month</th>\n",
       "      <th>mb_used</th>\n",
       "      <th>calls</th>\n",
       "      <th>duration</th>\n",
       "      <th>messages</th>\n",
       "      <th>plan</th>\n",
       "      <th>city</th>\n",
       "      <th>churn_month</th>\n",
       "      <th>reg_month</th>\n",
       "      <th>messages_included</th>\n",
       "      <th>mb_per_month_included</th>\n",
       "      <th>minutes_included</th>\n",
       "      <th>usd_monthly_pay</th>\n",
       "      <th>usd_per_gb</th>\n",
       "      <th>usd_per_message</th>\n",
       "      <th>usd_per_minute</th>\n",
       "      <th>gb_used</th>\n",
       "      <th>gb_per_month_included</th>\n",
       "      <th>minutes_used</th>\n",
       "    </tr>\n",
       "  </thead>\n",
       "  <tbody>\n",
       "    <tr>\n",
       "      <th>0</th>\n",
       "      <td>1000</td>\n",
       "      <td>12</td>\n",
       "      <td>1901.47</td>\n",
       "      <td>16.0</td>\n",
       "      <td>116.83</td>\n",
       "      <td>11.0</td>\n",
       "      <td>ultimate</td>\n",
       "      <td>Atlanta-Sandy Springs-Roswell, GA MSA</td>\n",
       "      <td>0.0</td>\n",
       "      <td>12</td>\n",
       "      <td>1000</td>\n",
       "      <td>30720</td>\n",
       "      <td>3000</td>\n",
       "      <td>70</td>\n",
       "      <td>7</td>\n",
       "      <td>0.01</td>\n",
       "      <td>0.01</td>\n",
       "      <td>1.856904</td>\n",
       "      <td>30.0</td>\n",
       "      <td>116.83</td>\n",
       "    </tr>\n",
       "    <tr>\n",
       "      <th>1</th>\n",
       "      <td>1001</td>\n",
       "      <td>8</td>\n",
       "      <td>6919.15</td>\n",
       "      <td>27.0</td>\n",
       "      <td>171.14</td>\n",
       "      <td>30.0</td>\n",
       "      <td>surf</td>\n",
       "      <td>Seattle-Tacoma-Bellevue, WA MSA</td>\n",
       "      <td>0.0</td>\n",
       "      <td>8</td>\n",
       "      <td>50</td>\n",
       "      <td>15360</td>\n",
       "      <td>500</td>\n",
       "      <td>20</td>\n",
       "      <td>10</td>\n",
       "      <td>0.03</td>\n",
       "      <td>0.03</td>\n",
       "      <td>6.756982</td>\n",
       "      <td>15.0</td>\n",
       "      <td>171.14</td>\n",
       "    </tr>\n",
       "  </tbody>\n",
       "</table>\n",
       "</div>"
      ],
      "text/plain": [
       "   user_id  month  mb_used  calls  duration  messages      plan  \\\n",
       "0     1000     12  1901.47   16.0    116.83      11.0  ultimate   \n",
       "1     1001      8  6919.15   27.0    171.14      30.0      surf   \n",
       "\n",
       "                                    city  churn_month  reg_month  \\\n",
       "0  Atlanta-Sandy Springs-Roswell, GA MSA          0.0         12   \n",
       "1        Seattle-Tacoma-Bellevue, WA MSA          0.0          8   \n",
       "\n",
       "   messages_included  mb_per_month_included  minutes_included  \\\n",
       "0               1000                  30720              3000   \n",
       "1                 50                  15360               500   \n",
       "\n",
       "   usd_monthly_pay  usd_per_gb  usd_per_message  usd_per_minute   gb_used  \\\n",
       "0               70           7             0.01            0.01  1.856904   \n",
       "1               20          10             0.03            0.03  6.756982   \n",
       "\n",
       "   gb_per_month_included  minutes_used  \n",
       "0                   30.0        116.83  \n",
       "1                   15.0        171.14  "
      ]
     },
     "execution_count": 42,
     "metadata": {},
     "output_type": "execute_result"
    }
   ],
   "source": [
    "total.head(2)"
   ]
  },
  {
   "cell_type": "markdown",
   "metadata": {},
   "source": [
    "I'll use .ceil method to round up GBs_used and minutes_used with accordance to the condition: if the call lasted just one second, it will be counted as one minute, and if one megabyte of data was used, it will be counted as one gigabyte."
   ]
  },
  {
   "cell_type": "code",
   "execution_count": 43,
   "metadata": {},
   "outputs": [],
   "source": [
    "total['gb_used'] = np.ceil(total['gb_used']).astype(int)\n",
    "total['minutes_used'] = np.ceil(total['minutes_used']).astype(int)"
   ]
  },
  {
   "cell_type": "markdown",
   "metadata": {},
   "source": [
    "\n",
    "Investigated the rows with churn date and registration date and dropped the ones with the weird data."
   ]
  },
  {
   "cell_type": "markdown",
   "metadata": {},
   "source": [
    "For each paramenter: messages, GBs, and Calls I'll add 3 columns with the data after exceeding the package limits.\n",
    "In case if included in tariff options weren'r exceed, the function will return \"0\"."
   ]
  },
  {
   "cell_type": "code",
   "execution_count": 44,
   "metadata": {},
   "outputs": [],
   "source": [
    "def over_mes (row):\n",
    "    messages_included = row['messages_included']\n",
    "    messages_used = row['messages']\n",
    "    \n",
    "    if messages_included < messages_used:\n",
    "        return  messages_used - messages_included\n",
    "\n",
    "    if messages_included >= messages_used:\n",
    "        return '0'\n",
    "\n",
    "total['mes_above_limit'] = total.apply(over_mes, axis=1)"
   ]
  },
  {
   "cell_type": "code",
   "execution_count": 45,
   "metadata": {},
   "outputs": [],
   "source": [
    "def over_gb (row):\n",
    "    gb_included = row['gb_per_month_included']\n",
    "    gb_used = row['gb_used']\n",
    "    \n",
    "    if gb_included < gb_used:\n",
    "        return  gb_used - gb_included\n",
    "\n",
    "    if gb_included >= gb_used:\n",
    "        return '0'\n",
    "\n",
    "total['gb_above_limit'] = total.apply(over_gb, axis=1)"
   ]
  },
  {
   "cell_type": "code",
   "execution_count": 46,
   "metadata": {},
   "outputs": [],
   "source": [
    "def over_calls (row):\n",
    "    minutes_included = row['minutes_included']\n",
    "    minutes_used = row['minutes_used']\n",
    "    \n",
    "    if minutes_included < minutes_used:\n",
    "        return  minutes_used - minutes_included\n",
    "\n",
    "    if minutes_included >= minutes_used:\n",
    "        return '0'\n",
    "\n",
    "total['min_above_limit'] = total.apply(over_calls, axis=1)"
   ]
  },
  {
   "cell_type": "code",
   "execution_count": 47,
   "metadata": {},
   "outputs": [
    {
     "data": {
      "text/html": [
       "<div>\n",
       "<style scoped>\n",
       "    .dataframe tbody tr th:only-of-type {\n",
       "        vertical-align: middle;\n",
       "    }\n",
       "\n",
       "    .dataframe tbody tr th {\n",
       "        vertical-align: top;\n",
       "    }\n",
       "\n",
       "    .dataframe thead th {\n",
       "        text-align: right;\n",
       "    }\n",
       "</style>\n",
       "<table border=\"1\" class=\"dataframe\">\n",
       "  <thead>\n",
       "    <tr style=\"text-align: right;\">\n",
       "      <th></th>\n",
       "      <th>user_id</th>\n",
       "      <th>month</th>\n",
       "      <th>mb_used</th>\n",
       "      <th>calls</th>\n",
       "      <th>duration</th>\n",
       "      <th>messages</th>\n",
       "      <th>plan</th>\n",
       "      <th>city</th>\n",
       "      <th>churn_month</th>\n",
       "      <th>reg_month</th>\n",
       "      <th>...</th>\n",
       "      <th>usd_monthly_pay</th>\n",
       "      <th>usd_per_gb</th>\n",
       "      <th>usd_per_message</th>\n",
       "      <th>usd_per_minute</th>\n",
       "      <th>gb_used</th>\n",
       "      <th>gb_per_month_included</th>\n",
       "      <th>minutes_used</th>\n",
       "      <th>mes_above_limit</th>\n",
       "      <th>gb_above_limit</th>\n",
       "      <th>min_above_limit</th>\n",
       "    </tr>\n",
       "  </thead>\n",
       "  <tbody>\n",
       "    <tr>\n",
       "      <th>0</th>\n",
       "      <td>1000</td>\n",
       "      <td>12</td>\n",
       "      <td>1901.47</td>\n",
       "      <td>16.0</td>\n",
       "      <td>116.83</td>\n",
       "      <td>11.0</td>\n",
       "      <td>ultimate</td>\n",
       "      <td>Atlanta-Sandy Springs-Roswell, GA MSA</td>\n",
       "      <td>0.0</td>\n",
       "      <td>12</td>\n",
       "      <td>...</td>\n",
       "      <td>70</td>\n",
       "      <td>7</td>\n",
       "      <td>0.01</td>\n",
       "      <td>0.01</td>\n",
       "      <td>2</td>\n",
       "      <td>30.0</td>\n",
       "      <td>117</td>\n",
       "      <td>0</td>\n",
       "      <td>0</td>\n",
       "      <td>0</td>\n",
       "    </tr>\n",
       "    <tr>\n",
       "      <th>1</th>\n",
       "      <td>1001</td>\n",
       "      <td>8</td>\n",
       "      <td>6919.15</td>\n",
       "      <td>27.0</td>\n",
       "      <td>171.14</td>\n",
       "      <td>30.0</td>\n",
       "      <td>surf</td>\n",
       "      <td>Seattle-Tacoma-Bellevue, WA MSA</td>\n",
       "      <td>0.0</td>\n",
       "      <td>8</td>\n",
       "      <td>...</td>\n",
       "      <td>20</td>\n",
       "      <td>10</td>\n",
       "      <td>0.03</td>\n",
       "      <td>0.03</td>\n",
       "      <td>7</td>\n",
       "      <td>15.0</td>\n",
       "      <td>172</td>\n",
       "      <td>0</td>\n",
       "      <td>0</td>\n",
       "      <td>0</td>\n",
       "    </tr>\n",
       "  </tbody>\n",
       "</table>\n",
       "<p>2 rows × 23 columns</p>\n",
       "</div>"
      ],
      "text/plain": [
       "   user_id  month  mb_used  calls  duration  messages      plan  \\\n",
       "0     1000     12  1901.47   16.0    116.83      11.0  ultimate   \n",
       "1     1001      8  6919.15   27.0    171.14      30.0      surf   \n",
       "\n",
       "                                    city  churn_month  reg_month  ...  \\\n",
       "0  Atlanta-Sandy Springs-Roswell, GA MSA          0.0         12  ...   \n",
       "1        Seattle-Tacoma-Bellevue, WA MSA          0.0          8  ...   \n",
       "\n",
       "   usd_monthly_pay  usd_per_gb  usd_per_message  usd_per_minute  gb_used  \\\n",
       "0               70           7             0.01            0.01        2   \n",
       "1               20          10             0.03            0.03        7   \n",
       "\n",
       "   gb_per_month_included  minutes_used  mes_above_limit  gb_above_limit  \\\n",
       "0                   30.0           117                0               0   \n",
       "1                   15.0           172                0               0   \n",
       "\n",
       "   min_above_limit  \n",
       "0                0  \n",
       "1                0  \n",
       "\n",
       "[2 rows x 23 columns]"
      ]
     },
     "execution_count": 47,
     "metadata": {},
     "output_type": "execute_result"
    }
   ],
   "source": [
    "total.head(2)"
   ]
  },
  {
   "cell_type": "code",
   "execution_count": 48,
   "metadata": {
    "scrolled": true
   },
   "outputs": [
    {
     "name": "stdout",
     "output_type": "stream",
     "text": [
      "<class 'pandas.core.frame.DataFrame'>\n",
      "Int64Index: 2256 entries, 0 to 2292\n",
      "Data columns (total 23 columns):\n",
      " #   Column                 Non-Null Count  Dtype  \n",
      "---  ------                 --------------  -----  \n",
      " 0   user_id                2256 non-null   int64  \n",
      " 1   month                  2256 non-null   int32  \n",
      " 2   mb_used                2256 non-null   float64\n",
      " 3   calls                  2256 non-null   float64\n",
      " 4   duration               2256 non-null   float64\n",
      " 5   messages               2256 non-null   float64\n",
      " 6   plan                   2256 non-null   object \n",
      " 7   city                   2256 non-null   object \n",
      " 8   churn_month            2256 non-null   float64\n",
      " 9   reg_month              2256 non-null   int64  \n",
      " 10  messages_included      2256 non-null   int64  \n",
      " 11  mb_per_month_included  2256 non-null   int64  \n",
      " 12  minutes_included       2256 non-null   int64  \n",
      " 13  usd_monthly_pay        2256 non-null   int64  \n",
      " 14  usd_per_gb             2256 non-null   int64  \n",
      " 15  usd_per_message        2256 non-null   float64\n",
      " 16  usd_per_minute         2256 non-null   float64\n",
      " 17  gb_used                2256 non-null   int32  \n",
      " 18  gb_per_month_included  2256 non-null   float64\n",
      " 19  minutes_used           2256 non-null   int32  \n",
      " 20  mes_above_limit        2256 non-null   object \n",
      " 21  gb_above_limit         2256 non-null   object \n",
      " 22  min_above_limit        2256 non-null   object \n",
      "dtypes: float64(8), int32(3), int64(7), object(5)\n",
      "memory usage: 396.6+ KB\n"
     ]
    }
   ],
   "source": [
    "total.info()"
   ]
  },
  {
   "cell_type": "markdown",
   "metadata": {},
   "source": [
    "I'll convert new columns with data above limit to the integer type."
   ]
  },
  {
   "cell_type": "code",
   "execution_count": 49,
   "metadata": {},
   "outputs": [],
   "source": [
    "total['mes_above_limit'] = total['mes_above_limit'].astype('int')\n",
    "total['gb_above_limit'] = total['gb_above_limit'].astype('int')\n",
    "total['min_above_limit'] = total['min_above_limit'].astype('int')"
   ]
  },
  {
   "cell_type": "markdown",
   "metadata": {},
   "source": [
    "Next, I'll calculate the profit from each user, by calling the function \"cost\"."
   ]
  },
  {
   "cell_type": "code",
   "execution_count": 50,
   "metadata": {
    "scrolled": false
   },
   "outputs": [
    {
     "data": {
      "text/html": [
       "<div>\n",
       "<style scoped>\n",
       "    .dataframe tbody tr th:only-of-type {\n",
       "        vertical-align: middle;\n",
       "    }\n",
       "\n",
       "    .dataframe tbody tr th {\n",
       "        vertical-align: top;\n",
       "    }\n",
       "\n",
       "    .dataframe thead th {\n",
       "        text-align: right;\n",
       "    }\n",
       "</style>\n",
       "<table border=\"1\" class=\"dataframe\">\n",
       "  <thead>\n",
       "    <tr style=\"text-align: right;\">\n",
       "      <th></th>\n",
       "      <th>user_id</th>\n",
       "      <th>month</th>\n",
       "      <th>mb_used</th>\n",
       "      <th>calls</th>\n",
       "      <th>duration</th>\n",
       "      <th>messages</th>\n",
       "      <th>plan</th>\n",
       "      <th>city</th>\n",
       "      <th>churn_month</th>\n",
       "      <th>reg_month</th>\n",
       "      <th>...</th>\n",
       "      <th>usd_per_gb</th>\n",
       "      <th>usd_per_message</th>\n",
       "      <th>usd_per_minute</th>\n",
       "      <th>gb_used</th>\n",
       "      <th>gb_per_month_included</th>\n",
       "      <th>minutes_used</th>\n",
       "      <th>mes_above_limit</th>\n",
       "      <th>gb_above_limit</th>\n",
       "      <th>min_above_limit</th>\n",
       "      <th>total_cost</th>\n",
       "    </tr>\n",
       "  </thead>\n",
       "  <tbody>\n",
       "    <tr>\n",
       "      <th>0</th>\n",
       "      <td>1000</td>\n",
       "      <td>12</td>\n",
       "      <td>1901.47</td>\n",
       "      <td>16.0</td>\n",
       "      <td>116.83</td>\n",
       "      <td>11.0</td>\n",
       "      <td>ultimate</td>\n",
       "      <td>Atlanta-Sandy Springs-Roswell, GA MSA</td>\n",
       "      <td>0.0</td>\n",
       "      <td>12</td>\n",
       "      <td>...</td>\n",
       "      <td>7</td>\n",
       "      <td>0.01</td>\n",
       "      <td>0.01</td>\n",
       "      <td>2</td>\n",
       "      <td>30.0</td>\n",
       "      <td>117</td>\n",
       "      <td>0</td>\n",
       "      <td>0</td>\n",
       "      <td>0</td>\n",
       "      <td>70.0</td>\n",
       "    </tr>\n",
       "    <tr>\n",
       "      <th>1</th>\n",
       "      <td>1001</td>\n",
       "      <td>8</td>\n",
       "      <td>6919.15</td>\n",
       "      <td>27.0</td>\n",
       "      <td>171.14</td>\n",
       "      <td>30.0</td>\n",
       "      <td>surf</td>\n",
       "      <td>Seattle-Tacoma-Bellevue, WA MSA</td>\n",
       "      <td>0.0</td>\n",
       "      <td>8</td>\n",
       "      <td>...</td>\n",
       "      <td>10</td>\n",
       "      <td>0.03</td>\n",
       "      <td>0.03</td>\n",
       "      <td>7</td>\n",
       "      <td>15.0</td>\n",
       "      <td>172</td>\n",
       "      <td>0</td>\n",
       "      <td>0</td>\n",
       "      <td>0</td>\n",
       "      <td>20.0</td>\n",
       "    </tr>\n",
       "  </tbody>\n",
       "</table>\n",
       "<p>2 rows × 24 columns</p>\n",
       "</div>"
      ],
      "text/plain": [
       "   user_id  month  mb_used  calls  duration  messages      plan  \\\n",
       "0     1000     12  1901.47   16.0    116.83      11.0  ultimate   \n",
       "1     1001      8  6919.15   27.0    171.14      30.0      surf   \n",
       "\n",
       "                                    city  churn_month  reg_month  ...  \\\n",
       "0  Atlanta-Sandy Springs-Roswell, GA MSA          0.0         12  ...   \n",
       "1        Seattle-Tacoma-Bellevue, WA MSA          0.0          8  ...   \n",
       "\n",
       "   usd_per_gb  usd_per_message  usd_per_minute  gb_used  \\\n",
       "0           7             0.01            0.01        2   \n",
       "1          10             0.03            0.03        7   \n",
       "\n",
       "   gb_per_month_included  minutes_used  mes_above_limit  gb_above_limit  \\\n",
       "0                   30.0           117                0               0   \n",
       "1                   15.0           172                0               0   \n",
       "\n",
       "   min_above_limit  total_cost  \n",
       "0                0        70.0  \n",
       "1                0        20.0  \n",
       "\n",
       "[2 rows x 24 columns]"
      ]
     },
     "execution_count": 50,
     "metadata": {},
     "output_type": "execute_result"
    }
   ],
   "source": [
    "def cost(row):\n",
    "    calls = row['min_above_limit']\n",
    "    internet = row['gb_above_limit']\n",
    "    sms = row['mes_above_limit']\n",
    "    monthly_pay = row['usd_monthly_pay']\n",
    "    calls_price = row['usd_per_minute']\n",
    "    internet_price = row['usd_per_gb']\n",
    "    sms_price = row['usd_per_message']\n",
    "\n",
    "\n",
    "\n",
    "    if calls == 0:\n",
    "        cost_calls = 0\n",
    "    else:\n",
    "        cost_calls = calls_price * calls\n",
    "\n",
    "    if internet == 0:\n",
    "        internet_cost = 0\n",
    "    else:\n",
    "        internet_cost = internet_price * internet\n",
    " \n",
    "    if sms == 0:\n",
    "        sms_cost = 0\n",
    "    else:\n",
    "        sms_cost = sms_price * sms\n",
    "            \n",
    "    total_cost = monthly_pay + cost_calls + internet_cost + sms_cost\n",
    "    return total_cost\n",
    "\n",
    "total['total_cost'] = total.apply(cost,axis=1)\n",
    "total.head(2)"
   ]
  },
  {
   "cell_type": "code",
   "execution_count": 51,
   "metadata": {},
   "outputs": [
    {
     "data": {
      "text/html": [
       "<div>\n",
       "<style scoped>\n",
       "    .dataframe tbody tr th:only-of-type {\n",
       "        vertical-align: middle;\n",
       "    }\n",
       "\n",
       "    .dataframe tbody tr th {\n",
       "        vertical-align: top;\n",
       "    }\n",
       "\n",
       "    .dataframe thead th {\n",
       "        text-align: right;\n",
       "    }\n",
       "</style>\n",
       "<table border=\"1\" class=\"dataframe\">\n",
       "  <thead>\n",
       "    <tr style=\"text-align: right;\">\n",
       "      <th></th>\n",
       "      <th>user_id</th>\n",
       "      <th>month</th>\n",
       "      <th>mb_used</th>\n",
       "      <th>calls</th>\n",
       "      <th>duration</th>\n",
       "      <th>messages</th>\n",
       "      <th>plan</th>\n",
       "      <th>city</th>\n",
       "      <th>churn_month</th>\n",
       "      <th>reg_month</th>\n",
       "      <th>...</th>\n",
       "      <th>usd_per_gb</th>\n",
       "      <th>usd_per_message</th>\n",
       "      <th>usd_per_minute</th>\n",
       "      <th>gb_used</th>\n",
       "      <th>gb_per_month_included</th>\n",
       "      <th>minutes_used</th>\n",
       "      <th>mes_above_limit</th>\n",
       "      <th>gb_above_limit</th>\n",
       "      <th>min_above_limit</th>\n",
       "      <th>total_cost</th>\n",
       "    </tr>\n",
       "  </thead>\n",
       "  <tbody>\n",
       "    <tr>\n",
       "      <th>0</th>\n",
       "      <td>1000</td>\n",
       "      <td>12</td>\n",
       "      <td>1901.47</td>\n",
       "      <td>16.0</td>\n",
       "      <td>116.83</td>\n",
       "      <td>11.0</td>\n",
       "      <td>ultimate</td>\n",
       "      <td>Atlanta-Sandy Springs-Roswell, GA MSA</td>\n",
       "      <td>0.0</td>\n",
       "      <td>12</td>\n",
       "      <td>...</td>\n",
       "      <td>7</td>\n",
       "      <td>0.01</td>\n",
       "      <td>0.01</td>\n",
       "      <td>2</td>\n",
       "      <td>30.0</td>\n",
       "      <td>117</td>\n",
       "      <td>0</td>\n",
       "      <td>0</td>\n",
       "      <td>0</td>\n",
       "      <td>70.00</td>\n",
       "    </tr>\n",
       "    <tr>\n",
       "      <th>1</th>\n",
       "      <td>1001</td>\n",
       "      <td>8</td>\n",
       "      <td>6919.15</td>\n",
       "      <td>27.0</td>\n",
       "      <td>171.14</td>\n",
       "      <td>30.0</td>\n",
       "      <td>surf</td>\n",
       "      <td>Seattle-Tacoma-Bellevue, WA MSA</td>\n",
       "      <td>0.0</td>\n",
       "      <td>8</td>\n",
       "      <td>...</td>\n",
       "      <td>10</td>\n",
       "      <td>0.03</td>\n",
       "      <td>0.03</td>\n",
       "      <td>7</td>\n",
       "      <td>15.0</td>\n",
       "      <td>172</td>\n",
       "      <td>0</td>\n",
       "      <td>0</td>\n",
       "      <td>0</td>\n",
       "      <td>20.00</td>\n",
       "    </tr>\n",
       "    <tr>\n",
       "      <th>2</th>\n",
       "      <td>1001</td>\n",
       "      <td>9</td>\n",
       "      <td>13314.82</td>\n",
       "      <td>49.0</td>\n",
       "      <td>297.69</td>\n",
       "      <td>44.0</td>\n",
       "      <td>surf</td>\n",
       "      <td>Seattle-Tacoma-Bellevue, WA MSA</td>\n",
       "      <td>0.0</td>\n",
       "      <td>8</td>\n",
       "      <td>...</td>\n",
       "      <td>10</td>\n",
       "      <td>0.03</td>\n",
       "      <td>0.03</td>\n",
       "      <td>14</td>\n",
       "      <td>15.0</td>\n",
       "      <td>298</td>\n",
       "      <td>0</td>\n",
       "      <td>0</td>\n",
       "      <td>0</td>\n",
       "      <td>20.00</td>\n",
       "    </tr>\n",
       "    <tr>\n",
       "      <th>3</th>\n",
       "      <td>1001</td>\n",
       "      <td>10</td>\n",
       "      <td>22330.49</td>\n",
       "      <td>65.0</td>\n",
       "      <td>374.11</td>\n",
       "      <td>53.0</td>\n",
       "      <td>surf</td>\n",
       "      <td>Seattle-Tacoma-Bellevue, WA MSA</td>\n",
       "      <td>0.0</td>\n",
       "      <td>8</td>\n",
       "      <td>...</td>\n",
       "      <td>10</td>\n",
       "      <td>0.03</td>\n",
       "      <td>0.03</td>\n",
       "      <td>22</td>\n",
       "      <td>15.0</td>\n",
       "      <td>375</td>\n",
       "      <td>3</td>\n",
       "      <td>7</td>\n",
       "      <td>0</td>\n",
       "      <td>90.09</td>\n",
       "    </tr>\n",
       "    <tr>\n",
       "      <th>4</th>\n",
       "      <td>1001</td>\n",
       "      <td>11</td>\n",
       "      <td>18504.30</td>\n",
       "      <td>64.0</td>\n",
       "      <td>404.59</td>\n",
       "      <td>36.0</td>\n",
       "      <td>surf</td>\n",
       "      <td>Seattle-Tacoma-Bellevue, WA MSA</td>\n",
       "      <td>0.0</td>\n",
       "      <td>8</td>\n",
       "      <td>...</td>\n",
       "      <td>10</td>\n",
       "      <td>0.03</td>\n",
       "      <td>0.03</td>\n",
       "      <td>19</td>\n",
       "      <td>15.0</td>\n",
       "      <td>405</td>\n",
       "      <td>0</td>\n",
       "      <td>4</td>\n",
       "      <td>0</td>\n",
       "      <td>60.00</td>\n",
       "    </tr>\n",
       "  </tbody>\n",
       "</table>\n",
       "<p>5 rows × 24 columns</p>\n",
       "</div>"
      ],
      "text/plain": [
       "   user_id  month   mb_used  calls  duration  messages      plan  \\\n",
       "0     1000     12   1901.47   16.0    116.83      11.0  ultimate   \n",
       "1     1001      8   6919.15   27.0    171.14      30.0      surf   \n",
       "2     1001      9  13314.82   49.0    297.69      44.0      surf   \n",
       "3     1001     10  22330.49   65.0    374.11      53.0      surf   \n",
       "4     1001     11  18504.30   64.0    404.59      36.0      surf   \n",
       "\n",
       "                                    city  churn_month  reg_month  ...  \\\n",
       "0  Atlanta-Sandy Springs-Roswell, GA MSA          0.0         12  ...   \n",
       "1        Seattle-Tacoma-Bellevue, WA MSA          0.0          8  ...   \n",
       "2        Seattle-Tacoma-Bellevue, WA MSA          0.0          8  ...   \n",
       "3        Seattle-Tacoma-Bellevue, WA MSA          0.0          8  ...   \n",
       "4        Seattle-Tacoma-Bellevue, WA MSA          0.0          8  ...   \n",
       "\n",
       "   usd_per_gb  usd_per_message  usd_per_minute  gb_used  \\\n",
       "0           7             0.01            0.01        2   \n",
       "1          10             0.03            0.03        7   \n",
       "2          10             0.03            0.03       14   \n",
       "3          10             0.03            0.03       22   \n",
       "4          10             0.03            0.03       19   \n",
       "\n",
       "   gb_per_month_included  minutes_used  mes_above_limit  gb_above_limit  \\\n",
       "0                   30.0           117                0               0   \n",
       "1                   15.0           172                0               0   \n",
       "2                   15.0           298                0               0   \n",
       "3                   15.0           375                3               7   \n",
       "4                   15.0           405                0               4   \n",
       "\n",
       "   min_above_limit  total_cost  \n",
       "0                0       70.00  \n",
       "1                0       20.00  \n",
       "2                0       20.00  \n",
       "3                0       90.09  \n",
       "4                0       60.00  \n",
       "\n",
       "[5 rows x 24 columns]"
      ]
     },
     "execution_count": 51,
     "metadata": {},
     "output_type": "execute_result"
    }
   ],
   "source": [
    "total.head(5)"
   ]
  },
  {
   "cell_type": "markdown",
   "metadata": {},
   "source": [
    "Average monthly profit for each user will be:"
   ]
  },
  {
   "cell_type": "code",
   "execution_count": 52,
   "metadata": {
    "scrolled": true
   },
   "outputs": [
    {
     "data": {
      "text/html": [
       "<div>\n",
       "<style scoped>\n",
       "    .dataframe tbody tr th:only-of-type {\n",
       "        vertical-align: middle;\n",
       "    }\n",
       "\n",
       "    .dataframe tbody tr th {\n",
       "        vertical-align: top;\n",
       "    }\n",
       "\n",
       "    .dataframe thead th {\n",
       "        text-align: right;\n",
       "    }\n",
       "</style>\n",
       "<table border=\"1\" class=\"dataframe\">\n",
       "  <thead>\n",
       "    <tr style=\"text-align: right;\">\n",
       "      <th></th>\n",
       "      <th>user_id</th>\n",
       "      <th>plan</th>\n",
       "      <th>total_cost</th>\n",
       "    </tr>\n",
       "  </thead>\n",
       "  <tbody>\n",
       "    <tr>\n",
       "      <th>77</th>\n",
       "      <td>1078</td>\n",
       "      <td>surf</td>\n",
       "      <td>20.000000</td>\n",
       "    </tr>\n",
       "    <tr>\n",
       "      <th>450</th>\n",
       "      <td>1461</td>\n",
       "      <td>surf</td>\n",
       "      <td>20.000000</td>\n",
       "    </tr>\n",
       "    <tr>\n",
       "      <th>23</th>\n",
       "      <td>1023</td>\n",
       "      <td>surf</td>\n",
       "      <td>20.000000</td>\n",
       "    </tr>\n",
       "    <tr>\n",
       "      <th>413</th>\n",
       "      <td>1423</td>\n",
       "      <td>surf</td>\n",
       "      <td>20.000000</td>\n",
       "    </tr>\n",
       "    <tr>\n",
       "      <th>403</th>\n",
       "      <td>1413</td>\n",
       "      <td>surf</td>\n",
       "      <td>20.000000</td>\n",
       "    </tr>\n",
       "    <tr>\n",
       "      <th>...</th>\n",
       "      <td>...</td>\n",
       "      <td>...</td>\n",
       "      <td>...</td>\n",
       "    </tr>\n",
       "    <tr>\n",
       "      <th>144</th>\n",
       "      <td>1147</td>\n",
       "      <td>surf</td>\n",
       "      <td>198.101250</td>\n",
       "    </tr>\n",
       "    <tr>\n",
       "      <th>237</th>\n",
       "      <td>1240</td>\n",
       "      <td>surf</td>\n",
       "      <td>234.760000</td>\n",
       "    </tr>\n",
       "    <tr>\n",
       "      <th>287</th>\n",
       "      <td>1292</td>\n",
       "      <td>surf</td>\n",
       "      <td>263.333333</td>\n",
       "    </tr>\n",
       "    <tr>\n",
       "      <th>120</th>\n",
       "      <td>1121</td>\n",
       "      <td>surf</td>\n",
       "      <td>275.705000</td>\n",
       "    </tr>\n",
       "    <tr>\n",
       "      <th>369</th>\n",
       "      <td>1379</td>\n",
       "      <td>surf</td>\n",
       "      <td>319.330000</td>\n",
       "    </tr>\n",
       "  </tbody>\n",
       "</table>\n",
       "<p>487 rows × 3 columns</p>\n",
       "</div>"
      ],
      "text/plain": [
       "     user_id  plan  total_cost\n",
       "77      1078  surf   20.000000\n",
       "450     1461  surf   20.000000\n",
       "23      1023  surf   20.000000\n",
       "413     1423  surf   20.000000\n",
       "403     1413  surf   20.000000\n",
       "..       ...   ...         ...\n",
       "144     1147  surf  198.101250\n",
       "237     1240  surf  234.760000\n",
       "287     1292  surf  263.333333\n",
       "120     1121  surf  275.705000\n",
       "369     1379  surf  319.330000\n",
       "\n",
       "[487 rows x 3 columns]"
      ]
     },
     "execution_count": 52,
     "metadata": {},
     "output_type": "execute_result"
    }
   ],
   "source": [
    "avg_monthly_profit_per_user = total.pivot_table(index=['user_id','plan'], values ='total_cost', aggfunc='mean') \\\n",
    ".reset_index()\n",
    "avg_monthly_profit_per_user.sort_values(by = 'total_cost')"
   ]
  },
  {
   "cell_type": "markdown",
   "metadata": {},
   "source": [
    "### Step 3. Analyze the data"
   ]
  },
  {
   "cell_type": "markdown",
   "metadata": {},
   "source": [
    ">Describe the customers' behavior. Find the minutes, texts, and volume of data the users of each plan require per month.\n",
    "Calculate the mean, dispersion, and standard deviation. Plot histograms. Describe the distributions."
   ]
  },
  {
   "cell_type": "markdown",
   "metadata": {},
   "source": [
    "**Surf plan**"
   ]
  },
  {
   "cell_type": "code",
   "execution_count": 53,
   "metadata": {
    "scrolled": true
   },
   "outputs": [
    {
     "data": {
      "text/html": [
       "<div>\n",
       "<style scoped>\n",
       "    .dataframe tbody tr th:only-of-type {\n",
       "        vertical-align: middle;\n",
       "    }\n",
       "\n",
       "    .dataframe tbody tr th {\n",
       "        vertical-align: top;\n",
       "    }\n",
       "\n",
       "    .dataframe thead th {\n",
       "        text-align: right;\n",
       "    }\n",
       "</style>\n",
       "<table border=\"1\" class=\"dataframe\">\n",
       "  <thead>\n",
       "    <tr style=\"text-align: right;\">\n",
       "      <th></th>\n",
       "      <th>plan</th>\n",
       "      <th>gb_used</th>\n",
       "      <th>messages</th>\n",
       "      <th>minutes_used</th>\n",
       "    </tr>\n",
       "  </thead>\n",
       "  <tbody>\n",
       "    <tr>\n",
       "      <th>0</th>\n",
       "      <td>surf</td>\n",
       "      <td>16.681525</td>\n",
       "      <td>31.111757</td>\n",
       "      <td>405.322997</td>\n",
       "    </tr>\n",
       "  </tbody>\n",
       "</table>\n",
       "</div>"
      ],
      "text/plain": [
       "   plan    gb_used   messages  minutes_used\n",
       "0  surf  16.681525  31.111757    405.322997"
      ]
     },
     "execution_count": 53,
     "metadata": {},
     "output_type": "execute_result"
    }
   ],
   "source": [
    "plan_surf = total.query('plan == \"surf\"')\n",
    "plan_pivot_surf = plan_surf.pivot_table(index=['plan'], values=['messages','gb_used', 'minutes_used'], aggfunc='mean').reset_index()\n",
    "plan_pivot_surf"
   ]
  },
  {
   "cell_type": "markdown",
   "metadata": {},
   "source": [
    "In avarage the users of surf plan require: 16.7 GB, 31 sms and 31,158 minutes per month."
   ]
  },
  {
   "cell_type": "markdown",
   "metadata": {},
   "source": [
    "To get the central tendency of the data, I'll caculate Interquartile Range (IQR)."
   ]
  },
  {
   "cell_type": "code",
   "execution_count": 54,
   "metadata": {},
   "outputs": [],
   "source": [
    "surf_parameters = plan_surf[['messages', 'gb_used', 'minutes_used' ]]"
   ]
  },
  {
   "cell_type": "code",
   "execution_count": 55,
   "metadata": {},
   "outputs": [
    {
     "name": "stdout",
     "output_type": "stream",
     "text": [
      "Surf tariff IQR of messages     44.0  Q1 = 3.0  Q3 = 47.0\n",
      "Surf tariff IQR of gb_used      9.0  Q1 = 12.0  Q3 = 21.0\n",
      "Surf tariff IQR of minutes_used 289.0  Q1 = 255.5  Q3 = 544.5\n"
     ]
    }
   ],
   "source": [
    "for x in surf_parameters:\n",
    "\n",
    "    Q1 = np.percentile(plan_surf[x], 25, interpolation = 'midpoint') \n",
    "    Q3 = np.percentile(plan_surf[x], 75, interpolation = 'midpoint') \n",
    "    IQR = Q3 - Q1 \n",
    "  \n",
    "    print('Surf tariff IQR of {: <12}'.format(x), IQR, ' Q1 = {}'.format(Q1), ' Q3 = {}'.format(Q3))"
   ]
  },
  {
   "cell_type": "markdown",
   "metadata": {},
   "source": [
    "I'll also use boxplots for each plan to display the distribution of data based on a five number summary (“minimum”, first quartile (Q1), median, third quartile (Q3), and “maximum”). \n",
    "\n",
    "I'll identify outliers and what their values are."
   ]
  },
  {
   "cell_type": "code",
   "execution_count": 56,
   "metadata": {},
   "outputs": [],
   "source": [
    "plan_ultimate = total.query('plan == \"ultimate\"')"
   ]
  },
  {
   "cell_type": "code",
   "execution_count": 57,
   "metadata": {
    "scrolled": false
   },
   "outputs": [
    {
     "data": {
      "image/svg+xml": [
       "<svg class=\"main-svg\" xmlns=\"http://www.w3.org/2000/svg\" xmlns:xlink=\"http://www.w3.org/1999/xlink\" width=\"700\" height=\"450\" style=\"\" viewBox=\"0 0 700 450\"><rect x=\"0\" y=\"0\" width=\"700\" height=\"450\" style=\"fill: rgb(255, 255, 255); fill-opacity: 1;\"/><defs id=\"defs-c8dbb5\"><g class=\"clips\"><clipPath id=\"clipc8dbb5xyplot\" class=\"plotclip\"><rect width=\"503\" height=\"270\"/></clipPath><clipPath class=\"axesclip\" id=\"clipc8dbb5x\"><rect x=\"80\" y=\"0\" width=\"503\" height=\"450\"/></clipPath><clipPath class=\"axesclip\" id=\"clipc8dbb5y\"><rect x=\"0\" y=\"100\" width=\"700\" height=\"270\"/></clipPath><clipPath class=\"axesclip\" id=\"clipc8dbb5xy\"><rect x=\"80\" y=\"100\" width=\"503\" height=\"270\"/></clipPath></g><g class=\"gradients\"/></defs><g class=\"bglayer\"><rect class=\"bg\" x=\"80\" y=\"100\" width=\"503\" height=\"270\" style=\"fill: rgb(229, 236, 246); fill-opacity: 1; stroke-width: 0;\"/></g><g class=\"layer-below\"><g class=\"imagelayer\"/><g class=\"shapelayer\"/></g><g class=\"cartesianlayer\"><g class=\"subplot xy\"><g class=\"layer-subplot\"><g class=\"shapelayer\"/><g class=\"imagelayer\"/></g><g class=\"gridlayer\"><g class=\"x\"><path class=\"xgrid crisp\" transform=\"translate(205.75,0)\" d=\"M0,100v270\" style=\"stroke: rgb(255, 255, 255); stroke-opacity: 1; stroke-width: 1px;\"/><path class=\"xgrid crisp\" transform=\"translate(457.25,0)\" d=\"M0,100v270\" style=\"stroke: rgb(255, 255, 255); stroke-opacity: 1; stroke-width: 1px;\"/></g><g class=\"y\"><path class=\"ygrid crisp\" transform=\"translate(0,310.82)\" d=\"M80,0h503\" style=\"stroke: rgb(255, 255, 255); stroke-opacity: 1; stroke-width: 1px;\"/><path class=\"ygrid crisp\" transform=\"translate(0,265.15)\" d=\"M80,0h503\" style=\"stroke: rgb(255, 255, 255); stroke-opacity: 1; stroke-width: 1px;\"/><path class=\"ygrid crisp\" transform=\"translate(0,219.47)\" d=\"M80,0h503\" style=\"stroke: rgb(255, 255, 255); stroke-opacity: 1; stroke-width: 1px;\"/><path class=\"ygrid crisp\" transform=\"translate(0,173.79000000000002)\" d=\"M80,0h503\" style=\"stroke: rgb(255, 255, 255); stroke-opacity: 1; stroke-width: 1px;\"/><path class=\"ygrid crisp\" transform=\"translate(0,128.12)\" d=\"M80,0h503\" style=\"stroke: rgb(255, 255, 255); stroke-opacity: 1; stroke-width: 1px;\"/></g></g><g class=\"zerolinelayer\"><path class=\"yzl zl crisp\" transform=\"translate(0,356.5)\" d=\"M80,0h503\" style=\"stroke: rgb(255, 255, 255); stroke-opacity: 1; stroke-width: 2px;\"/></g><path class=\"xlines-below\"/><path class=\"ylines-below\"/><g class=\"overlines-below\"/><g class=\"xaxislayer-below\"/><g class=\"yaxislayer-below\"/><g class=\"overaxes-below\"/><g class=\"plot\" transform=\"translate(80, 100)\" clip-path=\"url('#clipc8dbb5xyplot')\"><g class=\"boxlayer mlayer\"><g class=\"trace boxes\" style=\"opacity: 1;\"><path class=\"box\" d=\"M64.13,234.58H187.37M64.13,253.76H187.37V213.56H64.13ZM125.75,253.76V256.5M125.75,213.56V154.18M94.94,256.5H156.56M94.94,154.18H156.56\" style=\"vector-effect: non-scaling-stroke; stroke-width: 2px; stroke: rgb(61, 153, 112); stroke-opacity: 1; fill: rgb(61, 153, 112); fill-opacity: 0.5;\"/><g class=\"points\"><path class=\"point\" transform=\"translate(125.75,151.44)\" d=\"M3,0A3,3 0 1,1 0,-3A3,3 0 0,1 3,0Z\" style=\"opacity: 1; stroke-width: 0px; fill: rgb(61, 153, 112); fill-opacity: 1;\"/><path class=\"point\" transform=\"translate(125.75,150.53)\" d=\"M3,0A3,3 0 1,1 0,-3A3,3 0 0,1 3,0Z\" style=\"opacity: 1; stroke-width: 0px; fill: rgb(61, 153, 112); fill-opacity: 1;\"/><path class=\"point\" transform=\"translate(125.75,148.7)\" d=\"M3,0A3,3 0 1,1 0,-3A3,3 0 0,1 3,0Z\" style=\"opacity: 1; stroke-width: 0px; fill: rgb(61, 153, 112); fill-opacity: 1;\"/><path class=\"point\" transform=\"translate(125.75,147.79)\" d=\"M3,0A3,3 0 1,1 0,-3A3,3 0 0,1 3,0Z\" style=\"opacity: 1; stroke-width: 0px; fill: rgb(61, 153, 112); fill-opacity: 1;\"/><path class=\"point\" transform=\"translate(125.75,147.79)\" d=\"M3,0A3,3 0 1,1 0,-3A3,3 0 0,1 3,0Z\" style=\"opacity: 1; stroke-width: 0px; fill: rgb(61, 153, 112); fill-opacity: 1;\"/><path class=\"point\" transform=\"translate(125.75,147.79)\" d=\"M3,0A3,3 0 1,1 0,-3A3,3 0 0,1 3,0Z\" style=\"opacity: 1; stroke-width: 0px; fill: rgb(61, 153, 112); fill-opacity: 1;\"/><path class=\"point\" transform=\"translate(125.75,146.88)\" d=\"M3,0A3,3 0 1,1 0,-3A3,3 0 0,1 3,0Z\" style=\"opacity: 1; stroke-width: 0px; fill: rgb(61, 153, 112); fill-opacity: 1;\"/><path class=\"point\" transform=\"translate(125.75,146.88)\" d=\"M3,0A3,3 0 1,1 0,-3A3,3 0 0,1 3,0Z\" style=\"opacity: 1; stroke-width: 0px; fill: rgb(61, 153, 112); fill-opacity: 1;\"/><path class=\"point\" transform=\"translate(125.75,145.96)\" d=\"M3,0A3,3 0 1,1 0,-3A3,3 0 0,1 3,0Z\" style=\"opacity: 1; stroke-width: 0px; fill: rgb(61, 153, 112); fill-opacity: 1;\"/><path class=\"point\" transform=\"translate(125.75,145.96)\" d=\"M3,0A3,3 0 1,1 0,-3A3,3 0 0,1 3,0Z\" style=\"opacity: 1; stroke-width: 0px; fill: rgb(61, 153, 112); fill-opacity: 1;\"/><path class=\"point\" transform=\"translate(125.75,144.14)\" d=\"M3,0A3,3 0 1,1 0,-3A3,3 0 0,1 3,0Z\" style=\"opacity: 1; stroke-width: 0px; fill: rgb(61, 153, 112); fill-opacity: 1;\"/><path class=\"point\" transform=\"translate(125.75,144.14)\" d=\"M3,0A3,3 0 1,1 0,-3A3,3 0 0,1 3,0Z\" style=\"opacity: 1; stroke-width: 0px; fill: rgb(61, 153, 112); fill-opacity: 1;\"/><path class=\"point\" transform=\"translate(125.75,143.22)\" d=\"M3,0A3,3 0 1,1 0,-3A3,3 0 0,1 3,0Z\" style=\"opacity: 1; stroke-width: 0px; fill: rgb(61, 153, 112); fill-opacity: 1;\"/><path class=\"point\" transform=\"translate(125.75,143.22)\" d=\"M3,0A3,3 0 1,1 0,-3A3,3 0 0,1 3,0Z\" style=\"opacity: 1; stroke-width: 0px; fill: rgb(61, 153, 112); fill-opacity: 1;\"/><path class=\"point\" transform=\"translate(125.75,142.31)\" d=\"M3,0A3,3 0 1,1 0,-3A3,3 0 0,1 3,0Z\" style=\"opacity: 1; stroke-width: 0px; fill: rgb(61, 153, 112); fill-opacity: 1;\"/><path class=\"point\" transform=\"translate(125.75,141.39)\" d=\"M3,0A3,3 0 1,1 0,-3A3,3 0 0,1 3,0Z\" style=\"opacity: 1; stroke-width: 0px; fill: rgb(61, 153, 112); fill-opacity: 1;\"/><path class=\"point\" transform=\"translate(125.75,139.57)\" d=\"M3,0A3,3 0 1,1 0,-3A3,3 0 0,1 3,0Z\" style=\"opacity: 1; stroke-width: 0px; fill: rgb(61, 153, 112); fill-opacity: 1;\"/><path class=\"point\" transform=\"translate(125.75,139.57)\" d=\"M3,0A3,3 0 1,1 0,-3A3,3 0 0,1 3,0Z\" style=\"opacity: 1; stroke-width: 0px; fill: rgb(61, 153, 112); fill-opacity: 1;\"/><path class=\"point\" transform=\"translate(125.75,137.74)\" d=\"M3,0A3,3 0 1,1 0,-3A3,3 0 0,1 3,0Z\" style=\"opacity: 1; stroke-width: 0px; fill: rgb(61, 153, 112); fill-opacity: 1;\"/><path class=\"point\" transform=\"translate(125.75,137.74)\" d=\"M3,0A3,3 0 1,1 0,-3A3,3 0 0,1 3,0Z\" style=\"opacity: 1; stroke-width: 0px; fill: rgb(61, 153, 112); fill-opacity: 1;\"/><path class=\"point\" transform=\"translate(125.75,135.91)\" d=\"M3,0A3,3 0 1,1 0,-3A3,3 0 0,1 3,0Z\" style=\"opacity: 1; stroke-width: 0px; fill: rgb(61, 153, 112); fill-opacity: 1;\"/><path class=\"point\" transform=\"translate(125.75,135.91)\" d=\"M3,0A3,3 0 1,1 0,-3A3,3 0 0,1 3,0Z\" style=\"opacity: 1; stroke-width: 0px; fill: rgb(61, 153, 112); fill-opacity: 1;\"/><path class=\"point\" transform=\"translate(125.75,135)\" d=\"M3,0A3,3 0 1,1 0,-3A3,3 0 0,1 3,0Z\" style=\"opacity: 1; stroke-width: 0px; fill: rgb(61, 153, 112); fill-opacity: 1;\"/><path class=\"point\" transform=\"translate(125.75,135)\" d=\"M3,0A3,3 0 1,1 0,-3A3,3 0 0,1 3,0Z\" style=\"opacity: 1; stroke-width: 0px; fill: rgb(61, 153, 112); fill-opacity: 1;\"/><path class=\"point\" transform=\"translate(125.75,134.09)\" d=\"M3,0A3,3 0 1,1 0,-3A3,3 0 0,1 3,0Z\" style=\"opacity: 1; stroke-width: 0px; fill: rgb(61, 153, 112); fill-opacity: 1;\"/><path class=\"point\" transform=\"translate(125.75,131.35)\" d=\"M3,0A3,3 0 1,1 0,-3A3,3 0 0,1 3,0Z\" style=\"opacity: 1; stroke-width: 0px; fill: rgb(61, 153, 112); fill-opacity: 1;\"/><path class=\"point\" transform=\"translate(125.75,129.52)\" d=\"M3,0A3,3 0 1,1 0,-3A3,3 0 0,1 3,0Z\" style=\"opacity: 1; stroke-width: 0px; fill: rgb(61, 153, 112); fill-opacity: 1;\"/><path class=\"point\" transform=\"translate(125.75,129.52)\" d=\"M3,0A3,3 0 1,1 0,-3A3,3 0 0,1 3,0Z\" style=\"opacity: 1; stroke-width: 0px; fill: rgb(61, 153, 112); fill-opacity: 1;\"/><path class=\"point\" transform=\"translate(125.75,127.69)\" d=\"M3,0A3,3 0 1,1 0,-3A3,3 0 0,1 3,0Z\" style=\"opacity: 1; stroke-width: 0px; fill: rgb(61, 153, 112); fill-opacity: 1;\"/><path class=\"point\" transform=\"translate(125.75,125.86)\" d=\"M3,0A3,3 0 1,1 0,-3A3,3 0 0,1 3,0Z\" style=\"opacity: 1; stroke-width: 0px; fill: rgb(61, 153, 112); fill-opacity: 1;\"/><path class=\"point\" transform=\"translate(125.75,124.95)\" d=\"M3,0A3,3 0 1,1 0,-3A3,3 0 0,1 3,0Z\" style=\"opacity: 1; stroke-width: 0px; fill: rgb(61, 153, 112); fill-opacity: 1;\"/><path class=\"point\" transform=\"translate(125.75,124.04)\" d=\"M3,0A3,3 0 1,1 0,-3A3,3 0 0,1 3,0Z\" style=\"opacity: 1; stroke-width: 0px; fill: rgb(61, 153, 112); fill-opacity: 1;\"/><path class=\"point\" transform=\"translate(125.75,124.04)\" d=\"M3,0A3,3 0 1,1 0,-3A3,3 0 0,1 3,0Z\" style=\"opacity: 1; stroke-width: 0px; fill: rgb(61, 153, 112); fill-opacity: 1;\"/><path class=\"point\" transform=\"translate(125.75,124.04)\" d=\"M3,0A3,3 0 1,1 0,-3A3,3 0 0,1 3,0Z\" style=\"opacity: 1; stroke-width: 0px; fill: rgb(61, 153, 112); fill-opacity: 1;\"/><path class=\"point\" transform=\"translate(125.75,122.21)\" d=\"M3,0A3,3 0 1,1 0,-3A3,3 0 0,1 3,0Z\" style=\"opacity: 1; stroke-width: 0px; fill: rgb(61, 153, 112); fill-opacity: 1;\"/><path class=\"point\" transform=\"translate(125.75,120.38)\" d=\"M3,0A3,3 0 1,1 0,-3A3,3 0 0,1 3,0Z\" style=\"opacity: 1; stroke-width: 0px; fill: rgb(61, 153, 112); fill-opacity: 1;\"/><path class=\"point\" transform=\"translate(125.75,119.47)\" d=\"M3,0A3,3 0 1,1 0,-3A3,3 0 0,1 3,0Z\" style=\"opacity: 1; stroke-width: 0px; fill: rgb(61, 153, 112); fill-opacity: 1;\"/><path class=\"point\" transform=\"translate(125.75,116.73)\" d=\"M3,0A3,3 0 1,1 0,-3A3,3 0 0,1 3,0Z\" style=\"opacity: 1; stroke-width: 0px; fill: rgb(61, 153, 112); fill-opacity: 1;\"/><path class=\"point\" transform=\"translate(125.75,116.73)\" d=\"M3,0A3,3 0 1,1 0,-3A3,3 0 0,1 3,0Z\" style=\"opacity: 1; stroke-width: 0px; fill: rgb(61, 153, 112); fill-opacity: 1;\"/><path class=\"point\" transform=\"translate(125.75,116.73)\" d=\"M3,0A3,3 0 1,1 0,-3A3,3 0 0,1 3,0Z\" style=\"opacity: 1; stroke-width: 0px; fill: rgb(61, 153, 112); fill-opacity: 1;\"/><path class=\"point\" transform=\"translate(125.75,113.99)\" d=\"M3,0A3,3 0 1,1 0,-3A3,3 0 0,1 3,0Z\" style=\"opacity: 1; stroke-width: 0px; fill: rgb(61, 153, 112); fill-opacity: 1;\"/><path class=\"point\" transform=\"translate(125.75,113.99)\" d=\"M3,0A3,3 0 1,1 0,-3A3,3 0 0,1 3,0Z\" style=\"opacity: 1; stroke-width: 0px; fill: rgb(61, 153, 112); fill-opacity: 1;\"/><path class=\"point\" transform=\"translate(125.75,113.08)\" d=\"M3,0A3,3 0 1,1 0,-3A3,3 0 0,1 3,0Z\" style=\"opacity: 1; stroke-width: 0px; fill: rgb(61, 153, 112); fill-opacity: 1;\"/><path class=\"point\" transform=\"translate(125.75,113.08)\" d=\"M3,0A3,3 0 1,1 0,-3A3,3 0 0,1 3,0Z\" style=\"opacity: 1; stroke-width: 0px; fill: rgb(61, 153, 112); fill-opacity: 1;\"/><path class=\"point\" transform=\"translate(125.75,111.25)\" d=\"M3,0A3,3 0 1,1 0,-3A3,3 0 0,1 3,0Z\" style=\"opacity: 1; stroke-width: 0px; fill: rgb(61, 153, 112); fill-opacity: 1;\"/><path class=\"point\" transform=\"translate(125.75,106.68)\" d=\"M3,0A3,3 0 1,1 0,-3A3,3 0 0,1 3,0Z\" style=\"opacity: 1; stroke-width: 0px; fill: rgb(61, 153, 112); fill-opacity: 1;\"/><path class=\"point\" transform=\"translate(125.75,103.03)\" d=\"M3,0A3,3 0 1,1 0,-3A3,3 0 0,1 3,0Z\" style=\"opacity: 1; stroke-width: 0px; fill: rgb(61, 153, 112); fill-opacity: 1;\"/><path class=\"point\" transform=\"translate(125.75,92.06)\" d=\"M3,0A3,3 0 1,1 0,-3A3,3 0 0,1 3,0Z\" style=\"opacity: 1; stroke-width: 0px; fill: rgb(61, 153, 112); fill-opacity: 1;\"/><path class=\"point\" transform=\"translate(125.75,51.87)\" d=\"M3,0A3,3 0 1,1 0,-3A3,3 0 0,1 3,0Z\" style=\"opacity: 1; stroke-width: 0px; fill: rgb(61, 153, 112); fill-opacity: 1;\"/><path class=\"point\" transform=\"translate(125.75,13.5)\" d=\"M3,0A3,3 0 1,1 0,-3A3,3 0 0,1 3,0Z\" style=\"opacity: 1; stroke-width: 0px; fill: rgb(61, 153, 112); fill-opacity: 1;\"/></g><path class=\"mean\" d=\"M64.13,228.08H187.37m0,0L125.75,258.8L64.13,228.08L125.75,197.36Z\" style=\"fill: none; vector-effect: non-scaling-stroke; stroke-width: 2; stroke-dasharray: 4px, 2px; stroke: rgb(61, 153, 112); stroke-opacity: 1;\"/></g><g class=\"trace boxes\" style=\"opacity: 1;\"><path class=\"box\" d=\"M315.63,229.09H438.87M315.63,250.11H438.87V200.77H315.63ZM377.25,250.11V256.5M377.25,200.77V129.52M346.44,256.5H408.06M346.44,129.52H408.06\" style=\"vector-effect: non-scaling-stroke; stroke-width: 2px; stroke: rgb(255, 133, 27); stroke-opacity: 1; fill: rgb(255, 133, 27); fill-opacity: 0.5;\"/><g class=\"points\"><path class=\"point\" transform=\"translate(377.25,125.86)\" d=\"M3,0A3,3 0 1,1 0,-3A3,3 0 0,1 3,0Z\" style=\"opacity: 1; stroke-width: 0px; fill: rgb(255, 133, 27); fill-opacity: 1;\"/><path class=\"point\" transform=\"translate(377.25,121.3)\" d=\"M3,0A3,3 0 1,1 0,-3A3,3 0 0,1 3,0Z\" style=\"opacity: 1; stroke-width: 0px; fill: rgb(255, 133, 27); fill-opacity: 1;\"/><path class=\"point\" transform=\"translate(377.25,120.38)\" d=\"M3,0A3,3 0 1,1 0,-3A3,3 0 0,1 3,0Z\" style=\"opacity: 1; stroke-width: 0px; fill: rgb(255, 133, 27); fill-opacity: 1;\"/><path class=\"point\" transform=\"translate(377.25,120.38)\" d=\"M3,0A3,3 0 1,1 0,-3A3,3 0 0,1 3,0Z\" style=\"opacity: 1; stroke-width: 0px; fill: rgb(255, 133, 27); fill-opacity: 1;\"/><path class=\"point\" transform=\"translate(377.25,119.47)\" d=\"M3,0A3,3 0 1,1 0,-3A3,3 0 0,1 3,0Z\" style=\"opacity: 1; stroke-width: 0px; fill: rgb(255, 133, 27); fill-opacity: 1;\"/><path class=\"point\" transform=\"translate(377.25,119.47)\" d=\"M3,0A3,3 0 1,1 0,-3A3,3 0 0,1 3,0Z\" style=\"opacity: 1; stroke-width: 0px; fill: rgb(255, 133, 27); fill-opacity: 1;\"/><path class=\"point\" transform=\"translate(377.25,118.56)\" d=\"M3,0A3,3 0 1,1 0,-3A3,3 0 0,1 3,0Z\" style=\"opacity: 1; stroke-width: 0px; fill: rgb(255, 133, 27); fill-opacity: 1;\"/><path class=\"point\" transform=\"translate(377.25,116.73)\" d=\"M3,0A3,3 0 1,1 0,-3A3,3 0 0,1 3,0Z\" style=\"opacity: 1; stroke-width: 0px; fill: rgb(255, 133, 27); fill-opacity: 1;\"/><path class=\"point\" transform=\"translate(377.25,114.9)\" d=\"M3,0A3,3 0 1,1 0,-3A3,3 0 0,1 3,0Z\" style=\"opacity: 1; stroke-width: 0px; fill: rgb(255, 133, 27); fill-opacity: 1;\"/><path class=\"point\" transform=\"translate(377.25,104.85)\" d=\"M3,0A3,3 0 1,1 0,-3A3,3 0 0,1 3,0Z\" style=\"opacity: 1; stroke-width: 0px; fill: rgb(255, 133, 27); fill-opacity: 1;\"/></g><path class=\"mean\" d=\"M315.63,221.97H438.87m0,0L377.25,253.83L315.63,221.97L377.25,190.11Z\" style=\"fill: none; vector-effect: non-scaling-stroke; stroke-width: 2; stroke-dasharray: 4px, 2px; stroke: rgb(255, 133, 27); stroke-opacity: 1;\"/></g></g></g><g class=\"overplot\"/><path class=\"xlines-above crisp\" style=\"fill: none; stroke-width: 1px; stroke: rgb(255, 255, 255); stroke-opacity: 1;\" d=\"M79,370.5H583\"/><path class=\"ylines-above crisp\" style=\"fill: none; stroke-width: 1px; stroke: rgb(255, 255, 255); stroke-opacity: 1;\" d=\"M79.5,100V370\"/><g class=\"overlines-above\"/><g class=\"xaxislayer-above\"><g class=\"xtick\"><text text-anchor=\"middle\" x=\"0\" y=\"385.4\" transform=\"translate(205.75,0)\" style=\"font-family: 'Open Sans', verdana, arial, sans-serif; font-size: 12px; fill: rgb(42, 63, 95); fill-opacity: 1; white-space: pre;\">surf</text></g><g class=\"xtick\"><text text-anchor=\"middle\" x=\"0\" y=\"385.4\" transform=\"translate(457.25,0)\" style=\"font-family: 'Open Sans', verdana, arial, sans-serif; font-size: 12px; fill: rgb(42, 63, 95); fill-opacity: 1; white-space: pre;\">ultimate</text></g></g><g class=\"yaxislayer-above\"><g class=\"ytick\"><text text-anchor=\"end\" x=\"76.6\" y=\"4.199999999999999\" transform=\"translate(0,356.5)\" style=\"font-family: 'Open Sans', verdana, arial, sans-serif; font-size: 12px; fill: rgb(42, 63, 95); fill-opacity: 1; white-space: pre;\">0</text></g><g class=\"ytick\"><text text-anchor=\"end\" x=\"76.6\" y=\"4.199999999999999\" transform=\"translate(0,310.82)\" style=\"font-family: 'Open Sans', verdana, arial, sans-serif; font-size: 12px; fill: rgb(42, 63, 95); fill-opacity: 1; white-space: pre;\">50</text></g><g class=\"ytick\"><text text-anchor=\"end\" x=\"76.6\" y=\"4.199999999999999\" transform=\"translate(0,265.15)\" style=\"font-family: 'Open Sans', verdana, arial, sans-serif; font-size: 12px; fill: rgb(42, 63, 95); fill-opacity: 1; white-space: pre;\">100</text></g><g class=\"ytick\"><text text-anchor=\"end\" x=\"76.6\" y=\"4.199999999999999\" transform=\"translate(0,219.47)\" style=\"font-family: 'Open Sans', verdana, arial, sans-serif; font-size: 12px; fill: rgb(42, 63, 95); fill-opacity: 1; white-space: pre;\">150</text></g><g class=\"ytick\"><text text-anchor=\"end\" x=\"76.6\" y=\"4.199999999999999\" transform=\"translate(0,173.79000000000002)\" style=\"font-family: 'Open Sans', verdana, arial, sans-serif; font-size: 12px; fill: rgb(42, 63, 95); fill-opacity: 1; white-space: pre;\">200</text></g><g class=\"ytick\"><text text-anchor=\"end\" x=\"76.6\" y=\"4.199999999999999\" transform=\"translate(0,128.12)\" style=\"font-family: 'Open Sans', verdana, arial, sans-serif; font-size: 12px; fill: rgb(42, 63, 95); fill-opacity: 1; white-space: pre;\">250</text></g></g><g class=\"overaxes-above\"/></g></g><g class=\"polarlayer\"/><g class=\"ternarylayer\"/><g class=\"geolayer\"/><g class=\"funnelarealayer\"/><g class=\"pielayer\"/><g class=\"treemaplayer\"/><g class=\"sunburstlayer\"/><g class=\"glimages\"/><defs id=\"topdefs-c8dbb5\"><g class=\"clips\"/><clipPath id=\"legendc8dbb5\"><rect width=\"95\" height=\"48\" x=\"0\" y=\"0\"/></clipPath></defs><g class=\"layer-above\"><g class=\"imagelayer\"/><g class=\"shapelayer\"/></g><g class=\"infolayer\"><g class=\"legend\" pointer-events=\"all\" transform=\"translate(593.0600000000001, 100)\"><rect class=\"bg\" shape-rendering=\"crispEdges\" style=\"stroke: rgb(68, 68, 68); stroke-opacity: 1; fill: rgb(255, 255, 255); fill-opacity: 1; stroke-width: 0px;\" width=\"95\" height=\"48\" x=\"0\" y=\"0\"/><g class=\"scrollbox\" transform=\"translate(0, 0)\" clip-path=\"url('#legendc8dbb5')\"><g class=\"groups\"><g class=\"traces\" style=\"opacity: 1;\" transform=\"translate(0, 14.5)\"><text class=\"legendtext user-select-none\" text-anchor=\"start\" x=\"40\" y=\"4.680000000000001\" style=\"font-family: 'Open Sans', verdana, arial, sans-serif; font-size: 12px; fill: rgb(42, 63, 95); fill-opacity: 1; white-space: pre;\">surf</text><g class=\"layers\" style=\"opacity: 1;\"><g class=\"legendfill\"/><g class=\"legendlines\"/><g class=\"legendsymbols\"><g class=\"legendpoints\"><path class=\"legendbox\" d=\"M6,6H-6V-6H6Z\" transform=\"translate(20,0)\" style=\"stroke-width: 2px; fill: rgb(61, 153, 112); fill-opacity: 0.5; stroke: rgb(61, 153, 112); stroke-opacity: 1;\"/></g></g></g><rect class=\"legendtoggle\" pointer-events=\"all\" x=\"0\" y=\"-9.5\" width=\"89.859375\" height=\"19\" style=\"cursor: pointer; fill: rgb(0, 0, 0); fill-opacity: 0;\"/></g><g class=\"traces\" style=\"opacity: 1;\" transform=\"translate(0, 33.5)\"><text class=\"legendtext user-select-none\" text-anchor=\"start\" x=\"40\" y=\"4.680000000000001\" style=\"font-family: 'Open Sans', verdana, arial, sans-serif; font-size: 12px; fill: rgb(42, 63, 95); fill-opacity: 1; white-space: pre;\">ultimate</text><g class=\"layers\" style=\"opacity: 1;\"><g class=\"legendfill\"/><g class=\"legendlines\"/><g class=\"legendsymbols\"><g class=\"legendpoints\"><path class=\"legendbox\" d=\"M6,6H-6V-6H6Z\" transform=\"translate(20,0)\" style=\"stroke-width: 2px; fill: rgb(255, 133, 27); fill-opacity: 0.5; stroke: rgb(255, 133, 27); stroke-opacity: 1;\"/></g></g></g><rect class=\"legendtoggle\" pointer-events=\"all\" x=\"0\" y=\"-9.5\" width=\"89.859375\" height=\"19\" style=\"cursor: pointer; fill: rgb(0, 0, 0); fill-opacity: 0;\"/></g></g></g><rect class=\"scrollbar\" rx=\"20\" ry=\"3\" width=\"0\" height=\"0\" style=\"fill: rgb(128, 139, 164); fill-opacity: 1;\" x=\"0\" y=\"0\"/></g><g class=\"g-gtitle\"><text class=\"gtitle\" x=\"35\" y=\"50\" text-anchor=\"start\" dy=\"0em\" style=\"font-family: 'Open Sans', verdana, arial, sans-serif; font-size: 17px; fill: rgb(42, 63, 95); opacity: 1; font-weight: normal; white-space: pre;\">BoxPlot of messages</text></g><g class=\"g-xtitle\"/><g class=\"g-ytitle\"/></g></svg>"
      ]
     },
     "metadata": {},
     "output_type": "display_data"
    },
    {
     "data": {
      "image/svg+xml": [
       "<svg class=\"main-svg\" xmlns=\"http://www.w3.org/2000/svg\" xmlns:xlink=\"http://www.w3.org/1999/xlink\" width=\"700\" height=\"450\" style=\"\" viewBox=\"0 0 700 450\"><rect x=\"0\" y=\"0\" width=\"700\" height=\"450\" style=\"fill: rgb(255, 255, 255); fill-opacity: 1;\"/><defs id=\"defs-fb9329\"><g class=\"clips\"><clipPath id=\"clipfb9329xyplot\" class=\"plotclip\"><rect width=\"503\" height=\"270\"/></clipPath><clipPath class=\"axesclip\" id=\"clipfb9329x\"><rect x=\"80\" y=\"0\" width=\"503\" height=\"450\"/></clipPath><clipPath class=\"axesclip\" id=\"clipfb9329y\"><rect x=\"0\" y=\"100\" width=\"700\" height=\"270\"/></clipPath><clipPath class=\"axesclip\" id=\"clipfb9329xy\"><rect x=\"80\" y=\"100\" width=\"503\" height=\"270\"/></clipPath></g><g class=\"gradients\"/></defs><g class=\"bglayer\"><rect class=\"bg\" x=\"80\" y=\"100\" width=\"503\" height=\"270\" style=\"fill: rgb(229, 236, 246); fill-opacity: 1; stroke-width: 0;\"/></g><g class=\"layer-below\"><g class=\"imagelayer\"/><g class=\"shapelayer\"/></g><g class=\"cartesianlayer\"><g class=\"subplot xy\"><g class=\"layer-subplot\"><g class=\"shapelayer\"/><g class=\"imagelayer\"/></g><g class=\"gridlayer\"><g class=\"x\"><path class=\"xgrid crisp\" transform=\"translate(205.75,0)\" d=\"M0,100v270\" style=\"stroke: rgb(255, 255, 255); stroke-opacity: 1; stroke-width: 1px;\"/><path class=\"xgrid crisp\" transform=\"translate(457.25,0)\" d=\"M0,100v270\" style=\"stroke: rgb(255, 255, 255); stroke-opacity: 1; stroke-width: 1px;\"/></g><g class=\"y\"><path class=\"ygrid crisp\" transform=\"translate(0,324.8)\" d=\"M80,0h503\" style=\"stroke: rgb(255, 255, 255); stroke-opacity: 1; stroke-width: 1px;\"/><path class=\"ygrid crisp\" transform=\"translate(0,289.59000000000003)\" d=\"M80,0h503\" style=\"stroke: rgb(255, 255, 255); stroke-opacity: 1; stroke-width: 1px;\"/><path class=\"ygrid crisp\" transform=\"translate(0,254.37)\" d=\"M80,0h503\" style=\"stroke: rgb(255, 255, 255); stroke-opacity: 1; stroke-width: 1px;\"/><path class=\"ygrid crisp\" transform=\"translate(0,219.15)\" d=\"M80,0h503\" style=\"stroke: rgb(255, 255, 255); stroke-opacity: 1; stroke-width: 1px;\"/><path class=\"ygrid crisp\" transform=\"translate(0,183.93)\" d=\"M80,0h503\" style=\"stroke: rgb(255, 255, 255); stroke-opacity: 1; stroke-width: 1px;\"/><path class=\"ygrid crisp\" transform=\"translate(0,148.72)\" d=\"M80,0h503\" style=\"stroke: rgb(255, 255, 255); stroke-opacity: 1; stroke-width: 1px;\"/><path class=\"ygrid crisp\" transform=\"translate(0,113.5)\" d=\"M80,0h503\" style=\"stroke: rgb(255, 255, 255); stroke-opacity: 1; stroke-width: 1px;\"/></g></g><g class=\"zerolinelayer\"><path class=\"yzl zl crisp\" transform=\"translate(0,360.02)\" d=\"M80,0h503\" style=\"stroke: rgb(255, 255, 255); stroke-opacity: 1; stroke-width: 2px;\"/></g><path class=\"xlines-below\"/><path class=\"ylines-below\"/><g class=\"overlines-below\"/><g class=\"xaxislayer-below\"/><g class=\"yaxislayer-below\"/><g class=\"overaxes-below\"/><g class=\"plot\" transform=\"translate(80, 100)\" clip-path=\"url('#clipfb9329xyplot')\"><g class=\"boxlayer mlayer\"><g class=\"trace boxes\" style=\"opacity: 1;\"><path class=\"box\" d=\"M64.13,200.15H187.37M64.13,217.76H187.37V186.07H64.13ZM125.75,217.76V256.5M125.75,186.07V140.28M94.94,256.5H156.56M94.94,140.28H156.56\" style=\"vector-effect: non-scaling-stroke; stroke-width: 2px; stroke: rgb(61, 153, 112); stroke-opacity: 1; fill: rgb(61, 153, 112); fill-opacity: 0.5;\"/><g class=\"points\"><path class=\"point\" transform=\"translate(125.75,136.76)\" d=\"M3,0A3,3 0 1,1 0,-3A3,3 0 0,1 3,0Z\" style=\"opacity: 1; stroke-width: 0px; fill: rgb(61, 153, 112); fill-opacity: 1;\"/><path class=\"point\" transform=\"translate(125.75,136.76)\" d=\"M3,0A3,3 0 1,1 0,-3A3,3 0 0,1 3,0Z\" style=\"opacity: 1; stroke-width: 0px; fill: rgb(61, 153, 112); fill-opacity: 1;\"/><path class=\"point\" transform=\"translate(125.75,136.76)\" d=\"M3,0A3,3 0 1,1 0,-3A3,3 0 0,1 3,0Z\" style=\"opacity: 1; stroke-width: 0px; fill: rgb(61, 153, 112); fill-opacity: 1;\"/><path class=\"point\" transform=\"translate(125.75,136.76)\" d=\"M3,0A3,3 0 1,1 0,-3A3,3 0 0,1 3,0Z\" style=\"opacity: 1; stroke-width: 0px; fill: rgb(61, 153, 112); fill-opacity: 1;\"/><path class=\"point\" transform=\"translate(125.75,136.76)\" d=\"M3,0A3,3 0 1,1 0,-3A3,3 0 0,1 3,0Z\" style=\"opacity: 1; stroke-width: 0px; fill: rgb(61, 153, 112); fill-opacity: 1;\"/><path class=\"point\" transform=\"translate(125.75,133.24)\" d=\"M3,0A3,3 0 1,1 0,-3A3,3 0 0,1 3,0Z\" style=\"opacity: 1; stroke-width: 0px; fill: rgb(61, 153, 112); fill-opacity: 1;\"/><path class=\"point\" transform=\"translate(125.75,133.24)\" d=\"M3,0A3,3 0 1,1 0,-3A3,3 0 0,1 3,0Z\" style=\"opacity: 1; stroke-width: 0px; fill: rgb(61, 153, 112); fill-opacity: 1;\"/><path class=\"point\" transform=\"translate(125.75,133.24)\" d=\"M3,0A3,3 0 1,1 0,-3A3,3 0 0,1 3,0Z\" style=\"opacity: 1; stroke-width: 0px; fill: rgb(61, 153, 112); fill-opacity: 1;\"/><path class=\"point\" transform=\"translate(125.75,133.24)\" d=\"M3,0A3,3 0 1,1 0,-3A3,3 0 0,1 3,0Z\" style=\"opacity: 1; stroke-width: 0px; fill: rgb(61, 153, 112); fill-opacity: 1;\"/><path class=\"point\" transform=\"translate(125.75,133.24)\" d=\"M3,0A3,3 0 1,1 0,-3A3,3 0 0,1 3,0Z\" style=\"opacity: 1; stroke-width: 0px; fill: rgb(61, 153, 112); fill-opacity: 1;\"/><path class=\"point\" transform=\"translate(125.75,133.24)\" d=\"M3,0A3,3 0 1,1 0,-3A3,3 0 0,1 3,0Z\" style=\"opacity: 1; stroke-width: 0px; fill: rgb(61, 153, 112); fill-opacity: 1;\"/><path class=\"point\" transform=\"translate(125.75,129.72)\" d=\"M3,0A3,3 0 1,1 0,-3A3,3 0 0,1 3,0Z\" style=\"opacity: 1; stroke-width: 0px; fill: rgb(61, 153, 112); fill-opacity: 1;\"/><path class=\"point\" transform=\"translate(125.75,129.72)\" d=\"M3,0A3,3 0 1,1 0,-3A3,3 0 0,1 3,0Z\" style=\"opacity: 1; stroke-width: 0px; fill: rgb(61, 153, 112); fill-opacity: 1;\"/><path class=\"point\" transform=\"translate(125.75,129.72)\" d=\"M3,0A3,3 0 1,1 0,-3A3,3 0 0,1 3,0Z\" style=\"opacity: 1; stroke-width: 0px; fill: rgb(61, 153, 112); fill-opacity: 1;\"/><path class=\"point\" transform=\"translate(125.75,129.72)\" d=\"M3,0A3,3 0 1,1 0,-3A3,3 0 0,1 3,0Z\" style=\"opacity: 1; stroke-width: 0px; fill: rgb(61, 153, 112); fill-opacity: 1;\"/><path class=\"point\" transform=\"translate(125.75,129.72)\" d=\"M3,0A3,3 0 1,1 0,-3A3,3 0 0,1 3,0Z\" style=\"opacity: 1; stroke-width: 0px; fill: rgb(61, 153, 112); fill-opacity: 1;\"/><path class=\"point\" transform=\"translate(125.75,129.72)\" d=\"M3,0A3,3 0 1,1 0,-3A3,3 0 0,1 3,0Z\" style=\"opacity: 1; stroke-width: 0px; fill: rgb(61, 153, 112); fill-opacity: 1;\"/><path class=\"point\" transform=\"translate(125.75,129.72)\" d=\"M3,0A3,3 0 1,1 0,-3A3,3 0 0,1 3,0Z\" style=\"opacity: 1; stroke-width: 0px; fill: rgb(61, 153, 112); fill-opacity: 1;\"/><path class=\"point\" transform=\"translate(125.75,126.2)\" d=\"M3,0A3,3 0 1,1 0,-3A3,3 0 0,1 3,0Z\" style=\"opacity: 1; stroke-width: 0px; fill: rgb(61, 153, 112); fill-opacity: 1;\"/><path class=\"point\" transform=\"translate(125.75,122.67)\" d=\"M3,0A3,3 0 1,1 0,-3A3,3 0 0,1 3,0Z\" style=\"opacity: 1; stroke-width: 0px; fill: rgb(61, 153, 112); fill-opacity: 1;\"/><path class=\"point\" transform=\"translate(125.75,119.15)\" d=\"M3,0A3,3 0 1,1 0,-3A3,3 0 0,1 3,0Z\" style=\"opacity: 1; stroke-width: 0px; fill: rgb(61, 153, 112); fill-opacity: 1;\"/><path class=\"point\" transform=\"translate(125.75,119.15)\" d=\"M3,0A3,3 0 1,1 0,-3A3,3 0 0,1 3,0Z\" style=\"opacity: 1; stroke-width: 0px; fill: rgb(61, 153, 112); fill-opacity: 1;\"/><path class=\"point\" transform=\"translate(125.75,115.63)\" d=\"M3,0A3,3 0 1,1 0,-3A3,3 0 0,1 3,0Z\" style=\"opacity: 1; stroke-width: 0px; fill: rgb(61, 153, 112); fill-opacity: 1;\"/><path class=\"point\" transform=\"translate(125.75,115.63)\" d=\"M3,0A3,3 0 1,1 0,-3A3,3 0 0,1 3,0Z\" style=\"opacity: 1; stroke-width: 0px; fill: rgb(61, 153, 112); fill-opacity: 1;\"/><path class=\"point\" transform=\"translate(125.75,115.63)\" d=\"M3,0A3,3 0 1,1 0,-3A3,3 0 0,1 3,0Z\" style=\"opacity: 1; stroke-width: 0px; fill: rgb(61, 153, 112); fill-opacity: 1;\"/><path class=\"point\" transform=\"translate(125.75,112.11)\" d=\"M3,0A3,3 0 1,1 0,-3A3,3 0 0,1 3,0Z\" style=\"opacity: 1; stroke-width: 0px; fill: rgb(61, 153, 112); fill-opacity: 1;\"/><path class=\"point\" transform=\"translate(125.75,112.11)\" d=\"M3,0A3,3 0 1,1 0,-3A3,3 0 0,1 3,0Z\" style=\"opacity: 1; stroke-width: 0px; fill: rgb(61, 153, 112); fill-opacity: 1;\"/><path class=\"point\" transform=\"translate(125.75,98.02)\" d=\"M3,0A3,3 0 1,1 0,-3A3,3 0 0,1 3,0Z\" style=\"opacity: 1; stroke-width: 0px; fill: rgb(61, 153, 112); fill-opacity: 1;\"/><path class=\"point\" transform=\"translate(125.75,87.46)\" d=\"M3,0A3,3 0 1,1 0,-3A3,3 0 0,1 3,0Z\" style=\"opacity: 1; stroke-width: 0px; fill: rgb(61, 153, 112); fill-opacity: 1;\"/><path class=\"point\" transform=\"translate(125.75,80.41)\" d=\"M3,0A3,3 0 1,1 0,-3A3,3 0 0,1 3,0Z\" style=\"opacity: 1; stroke-width: 0px; fill: rgb(61, 153, 112); fill-opacity: 1;\"/><path class=\"point\" transform=\"translate(125.75,80.41)\" d=\"M3,0A3,3 0 1,1 0,-3A3,3 0 0,1 3,0Z\" style=\"opacity: 1; stroke-width: 0px; fill: rgb(61, 153, 112); fill-opacity: 1;\"/><path class=\"point\" transform=\"translate(125.75,27.59)\" d=\"M3,0A3,3 0 1,1 0,-3A3,3 0 0,1 3,0Z\" style=\"opacity: 1; stroke-width: 0px; fill: rgb(61, 153, 112); fill-opacity: 1;\"/><path class=\"point\" transform=\"translate(125.75,13.5)\" d=\"M3,0A3,3 0 1,1 0,-3A3,3 0 0,1 3,0Z\" style=\"opacity: 1; stroke-width: 0px; fill: rgb(61, 153, 112); fill-opacity: 1;\"/></g><path class=\"mean\" d=\"M64.13,201.27H187.37m0,0L125.75,228.81L64.13,201.27L125.75,173.74Z\" style=\"fill: none; vector-effect: non-scaling-stroke; stroke-width: 2; stroke-dasharray: 4px, 2px; stroke: rgb(61, 153, 112); stroke-opacity: 1;\"/></g><g class=\"trace boxes\" style=\"opacity: 1;\"><path class=\"box\" d=\"M315.63,200.15H438.87M315.63,214.24H438.87V186.07H315.63ZM377.25,214.24V256.5M377.25,186.07V143.8M346.44,256.5H408.06M346.44,143.8H408.06\" style=\"vector-effect: non-scaling-stroke; stroke-width: 2px; stroke: rgb(255, 133, 27); stroke-opacity: 1; fill: rgb(255, 133, 27); fill-opacity: 0.5;\"/><g class=\"points\"><path class=\"point\" transform=\"translate(377.25,140.28)\" d=\"M3,0A3,3 0 1,1 0,-3A3,3 0 0,1 3,0Z\" style=\"opacity: 1; stroke-width: 0px; fill: rgb(255, 133, 27); fill-opacity: 1;\"/><path class=\"point\" transform=\"translate(377.25,136.76)\" d=\"M3,0A3,3 0 1,1 0,-3A3,3 0 0,1 3,0Z\" style=\"opacity: 1; stroke-width: 0px; fill: rgb(255, 133, 27); fill-opacity: 1;\"/><path class=\"point\" transform=\"translate(377.25,136.76)\" d=\"M3,0A3,3 0 1,1 0,-3A3,3 0 0,1 3,0Z\" style=\"opacity: 1; stroke-width: 0px; fill: rgb(255, 133, 27); fill-opacity: 1;\"/><path class=\"point\" transform=\"translate(377.25,136.76)\" d=\"M3,0A3,3 0 1,1 0,-3A3,3 0 0,1 3,0Z\" style=\"opacity: 1; stroke-width: 0px; fill: rgb(255, 133, 27); fill-opacity: 1;\"/><path class=\"point\" transform=\"translate(377.25,136.76)\" d=\"M3,0A3,3 0 1,1 0,-3A3,3 0 0,1 3,0Z\" style=\"opacity: 1; stroke-width: 0px; fill: rgb(255, 133, 27); fill-opacity: 1;\"/><path class=\"point\" transform=\"translate(377.25,133.24)\" d=\"M3,0A3,3 0 1,1 0,-3A3,3 0 0,1 3,0Z\" style=\"opacity: 1; stroke-width: 0px; fill: rgb(255, 133, 27); fill-opacity: 1;\"/><path class=\"point\" transform=\"translate(377.25,133.24)\" d=\"M3,0A3,3 0 1,1 0,-3A3,3 0 0,1 3,0Z\" style=\"opacity: 1; stroke-width: 0px; fill: rgb(255, 133, 27); fill-opacity: 1;\"/><path class=\"point\" transform=\"translate(377.25,133.24)\" d=\"M3,0A3,3 0 1,1 0,-3A3,3 0 0,1 3,0Z\" style=\"opacity: 1; stroke-width: 0px; fill: rgb(255, 133, 27); fill-opacity: 1;\"/><path class=\"point\" transform=\"translate(377.25,133.24)\" d=\"M3,0A3,3 0 1,1 0,-3A3,3 0 0,1 3,0Z\" style=\"opacity: 1; stroke-width: 0px; fill: rgb(255, 133, 27); fill-opacity: 1;\"/><path class=\"point\" transform=\"translate(377.25,133.24)\" d=\"M3,0A3,3 0 1,1 0,-3A3,3 0 0,1 3,0Z\" style=\"opacity: 1; stroke-width: 0px; fill: rgb(255, 133, 27); fill-opacity: 1;\"/><path class=\"point\" transform=\"translate(377.25,129.72)\" d=\"M3,0A3,3 0 1,1 0,-3A3,3 0 0,1 3,0Z\" style=\"opacity: 1; stroke-width: 0px; fill: rgb(255, 133, 27); fill-opacity: 1;\"/><path class=\"point\" transform=\"translate(377.25,129.72)\" d=\"M3,0A3,3 0 1,1 0,-3A3,3 0 0,1 3,0Z\" style=\"opacity: 1; stroke-width: 0px; fill: rgb(255, 133, 27); fill-opacity: 1;\"/><path class=\"point\" transform=\"translate(377.25,129.72)\" d=\"M3,0A3,3 0 1,1 0,-3A3,3 0 0,1 3,0Z\" style=\"opacity: 1; stroke-width: 0px; fill: rgb(255, 133, 27); fill-opacity: 1;\"/><path class=\"point\" transform=\"translate(377.25,129.72)\" d=\"M3,0A3,3 0 1,1 0,-3A3,3 0 0,1 3,0Z\" style=\"opacity: 1; stroke-width: 0px; fill: rgb(255, 133, 27); fill-opacity: 1;\"/><path class=\"point\" transform=\"translate(377.25,126.2)\" d=\"M3,0A3,3 0 1,1 0,-3A3,3 0 0,1 3,0Z\" style=\"opacity: 1; stroke-width: 0px; fill: rgb(255, 133, 27); fill-opacity: 1;\"/><path class=\"point\" transform=\"translate(377.25,126.2)\" d=\"M3,0A3,3 0 1,1 0,-3A3,3 0 0,1 3,0Z\" style=\"opacity: 1; stroke-width: 0px; fill: rgb(255, 133, 27); fill-opacity: 1;\"/><path class=\"point\" transform=\"translate(377.25,126.2)\" d=\"M3,0A3,3 0 1,1 0,-3A3,3 0 0,1 3,0Z\" style=\"opacity: 1; stroke-width: 0px; fill: rgb(255, 133, 27); fill-opacity: 1;\"/><path class=\"point\" transform=\"translate(377.25,126.2)\" d=\"M3,0A3,3 0 1,1 0,-3A3,3 0 0,1 3,0Z\" style=\"opacity: 1; stroke-width: 0px; fill: rgb(255, 133, 27); fill-opacity: 1;\"/><path class=\"point\" transform=\"translate(377.25,126.2)\" d=\"M3,0A3,3 0 1,1 0,-3A3,3 0 0,1 3,0Z\" style=\"opacity: 1; stroke-width: 0px; fill: rgb(255, 133, 27); fill-opacity: 1;\"/><path class=\"point\" transform=\"translate(377.25,126.2)\" d=\"M3,0A3,3 0 1,1 0,-3A3,3 0 0,1 3,0Z\" style=\"opacity: 1; stroke-width: 0px; fill: rgb(255, 133, 27); fill-opacity: 1;\"/><path class=\"point\" transform=\"translate(377.25,122.67)\" d=\"M3,0A3,3 0 1,1 0,-3A3,3 0 0,1 3,0Z\" style=\"opacity: 1; stroke-width: 0px; fill: rgb(255, 133, 27); fill-opacity: 1;\"/><path class=\"point\" transform=\"translate(377.25,119.15)\" d=\"M3,0A3,3 0 1,1 0,-3A3,3 0 0,1 3,0Z\" style=\"opacity: 1; stroke-width: 0px; fill: rgb(255, 133, 27); fill-opacity: 1;\"/><path class=\"point\" transform=\"translate(377.25,112.11)\" d=\"M3,0A3,3 0 1,1 0,-3A3,3 0 0,1 3,0Z\" style=\"opacity: 1; stroke-width: 0px; fill: rgb(255, 133, 27); fill-opacity: 1;\"/><path class=\"point\" transform=\"translate(377.25,105.07)\" d=\"M3,0A3,3 0 1,1 0,-3A3,3 0 0,1 3,0Z\" style=\"opacity: 1; stroke-width: 0px; fill: rgb(255, 133, 27); fill-opacity: 1;\"/><path class=\"point\" transform=\"translate(377.25,98.02)\" d=\"M3,0A3,3 0 1,1 0,-3A3,3 0 0,1 3,0Z\" style=\"opacity: 1; stroke-width: 0px; fill: rgb(255, 133, 27); fill-opacity: 1;\"/><path class=\"point\" transform=\"translate(377.25,98.02)\" d=\"M3,0A3,3 0 1,1 0,-3A3,3 0 0,1 3,0Z\" style=\"opacity: 1; stroke-width: 0px; fill: rgb(255, 133, 27); fill-opacity: 1;\"/></g><path class=\"mean\" d=\"M315.63,198.97H438.87m0,0L377.25,226.06L315.63,198.97L377.25,171.88Z\" style=\"fill: none; vector-effect: non-scaling-stroke; stroke-width: 2; stroke-dasharray: 4px, 2px; stroke: rgb(255, 133, 27); stroke-opacity: 1;\"/></g></g></g><g class=\"overplot\"/><path class=\"xlines-above crisp\" d=\"M79,370.5H583\" style=\"fill: none; stroke-width: 1px; stroke: rgb(255, 255, 255); stroke-opacity: 1;\"/><path class=\"ylines-above crisp\" d=\"M79.5,100V370\" style=\"fill: none; stroke-width: 1px; stroke: rgb(255, 255, 255); stroke-opacity: 1;\"/><g class=\"overlines-above\"/><g class=\"xaxislayer-above\"><g class=\"xtick\"><text text-anchor=\"middle\" x=\"0\" y=\"385.4\" transform=\"translate(205.75,0)\" style=\"font-family: 'Open Sans', verdana, arial, sans-serif; font-size: 12px; fill: rgb(42, 63, 95); fill-opacity: 1; white-space: pre;\">surf</text></g><g class=\"xtick\"><text text-anchor=\"middle\" x=\"0\" y=\"385.4\" transform=\"translate(457.25,0)\" style=\"font-family: 'Open Sans', verdana, arial, sans-serif; font-size: 12px; fill: rgb(42, 63, 95); fill-opacity: 1; white-space: pre;\">ultimate</text></g></g><g class=\"yaxislayer-above\"><g class=\"ytick\"><text text-anchor=\"end\" x=\"76.6\" y=\"4.199999999999999\" transform=\"translate(0,360.02)\" style=\"font-family: 'Open Sans', verdana, arial, sans-serif; font-size: 12px; fill: rgb(42, 63, 95); fill-opacity: 1; white-space: pre;\">0</text></g><g class=\"ytick\"><text text-anchor=\"end\" x=\"76.6\" y=\"4.199999999999999\" transform=\"translate(0,324.8)\" style=\"font-family: 'Open Sans', verdana, arial, sans-serif; font-size: 12px; fill: rgb(42, 63, 95); fill-opacity: 1; white-space: pre;\">10</text></g><g class=\"ytick\"><text text-anchor=\"end\" x=\"76.6\" y=\"4.199999999999999\" transform=\"translate(0,289.59000000000003)\" style=\"font-family: 'Open Sans', verdana, arial, sans-serif; font-size: 12px; fill: rgb(42, 63, 95); fill-opacity: 1; white-space: pre;\">20</text></g><g class=\"ytick\"><text text-anchor=\"end\" x=\"76.6\" y=\"4.199999999999999\" transform=\"translate(0,254.37)\" style=\"font-family: 'Open Sans', verdana, arial, sans-serif; font-size: 12px; fill: rgb(42, 63, 95); fill-opacity: 1; white-space: pre;\">30</text></g><g class=\"ytick\"><text text-anchor=\"end\" x=\"76.6\" y=\"4.199999999999999\" transform=\"translate(0,219.15)\" style=\"font-family: 'Open Sans', verdana, arial, sans-serif; font-size: 12px; fill: rgb(42, 63, 95); fill-opacity: 1; white-space: pre;\">40</text></g><g class=\"ytick\"><text text-anchor=\"end\" x=\"76.6\" y=\"4.199999999999999\" transform=\"translate(0,183.93)\" style=\"font-family: 'Open Sans', verdana, arial, sans-serif; font-size: 12px; fill: rgb(42, 63, 95); fill-opacity: 1; white-space: pre;\">50</text></g><g class=\"ytick\"><text text-anchor=\"end\" x=\"76.6\" y=\"4.199999999999999\" transform=\"translate(0,148.72)\" style=\"font-family: 'Open Sans', verdana, arial, sans-serif; font-size: 12px; fill: rgb(42, 63, 95); fill-opacity: 1; white-space: pre;\">60</text></g><g class=\"ytick\"><text text-anchor=\"end\" x=\"76.6\" y=\"4.199999999999999\" transform=\"translate(0,113.5)\" style=\"font-family: 'Open Sans', verdana, arial, sans-serif; font-size: 12px; fill: rgb(42, 63, 95); fill-opacity: 1; white-space: pre;\">70</text></g></g><g class=\"overaxes-above\"/></g></g><g class=\"polarlayer\"/><g class=\"ternarylayer\"/><g class=\"geolayer\"/><g class=\"funnelarealayer\"/><g class=\"pielayer\"/><g class=\"treemaplayer\"/><g class=\"sunburstlayer\"/><g class=\"glimages\"/><defs id=\"topdefs-fb9329\"><g class=\"clips\"/><clipPath id=\"legendfb9329\"><rect width=\"95\" height=\"48\" x=\"0\" y=\"0\"/></clipPath></defs><g class=\"layer-above\"><g class=\"imagelayer\"/><g class=\"shapelayer\"/></g><g class=\"infolayer\"><g class=\"legend\" pointer-events=\"all\" transform=\"translate(593.0600000000001, 100)\"><rect class=\"bg\" shape-rendering=\"crispEdges\" width=\"95\" height=\"48\" x=\"0\" y=\"0\" style=\"stroke: rgb(68, 68, 68); stroke-opacity: 1; fill: rgb(255, 255, 255); fill-opacity: 1; stroke-width: 0px;\"/><g class=\"scrollbox\" transform=\"translate(0, 0)\" clip-path=\"url('#legendfb9329')\"><g class=\"groups\"><g class=\"traces\" transform=\"translate(0, 14.5)\" style=\"opacity: 1;\"><text class=\"legendtext user-select-none\" text-anchor=\"start\" x=\"40\" y=\"4.680000000000001\" style=\"font-family: 'Open Sans', verdana, arial, sans-serif; font-size: 12px; fill: rgb(42, 63, 95); fill-opacity: 1; white-space: pre;\">surf</text><g class=\"layers\" style=\"opacity: 1;\"><g class=\"legendfill\"/><g class=\"legendlines\"/><g class=\"legendsymbols\"><g class=\"legendpoints\"><path class=\"legendbox\" d=\"M6,6H-6V-6H6Z\" transform=\"translate(20,0)\" style=\"stroke-width: 2px; fill: rgb(61, 153, 112); fill-opacity: 0.5; stroke: rgb(61, 153, 112); stroke-opacity: 1;\"/></g></g></g><rect class=\"legendtoggle\" pointer-events=\"all\" x=\"0\" y=\"-9.5\" width=\"89.859375\" height=\"19\" style=\"cursor: pointer; fill: rgb(0, 0, 0); fill-opacity: 0;\"/></g><g class=\"traces\" transform=\"translate(0, 33.5)\" style=\"opacity: 1;\"><text class=\"legendtext user-select-none\" text-anchor=\"start\" x=\"40\" y=\"4.680000000000001\" style=\"font-family: 'Open Sans', verdana, arial, sans-serif; font-size: 12px; fill: rgb(42, 63, 95); fill-opacity: 1; white-space: pre;\">ultimate</text><g class=\"layers\" style=\"opacity: 1;\"><g class=\"legendfill\"/><g class=\"legendlines\"/><g class=\"legendsymbols\"><g class=\"legendpoints\"><path class=\"legendbox\" d=\"M6,6H-6V-6H6Z\" transform=\"translate(20,0)\" style=\"stroke-width: 2px; fill: rgb(255, 133, 27); fill-opacity: 0.5; stroke: rgb(255, 133, 27); stroke-opacity: 1;\"/></g></g></g><rect class=\"legendtoggle\" pointer-events=\"all\" x=\"0\" y=\"-9.5\" width=\"89.859375\" height=\"19\" style=\"cursor: pointer; fill: rgb(0, 0, 0); fill-opacity: 0;\"/></g></g></g><rect class=\"scrollbar\" rx=\"20\" ry=\"3\" width=\"0\" height=\"0\" x=\"0\" y=\"0\" style=\"fill: rgb(128, 139, 164); fill-opacity: 1;\"/></g><g class=\"g-gtitle\"><text class=\"gtitle\" x=\"35\" y=\"50\" text-anchor=\"start\" dy=\"0em\" style=\"font-family: 'Open Sans', verdana, arial, sans-serif; font-size: 17px; fill: rgb(42, 63, 95); opacity: 1; font-weight: normal; white-space: pre;\">BoxPlot of gb_used</text></g><g class=\"g-xtitle\"/><g class=\"g-ytitle\"/></g></svg>"
      ]
     },
     "metadata": {},
     "output_type": "display_data"
    },
    {
     "data": {
      "image/svg+xml": [
       "<svg class=\"main-svg\" xmlns=\"http://www.w3.org/2000/svg\" xmlns:xlink=\"http://www.w3.org/1999/xlink\" width=\"700\" height=\"450\" style=\"\" viewBox=\"0 0 700 450\"><rect x=\"0\" y=\"0\" width=\"700\" height=\"450\" style=\"fill: rgb(255, 255, 255); fill-opacity: 1;\"/><defs id=\"defs-1f3b34\"><g class=\"clips\"><clipPath id=\"clip1f3b34xyplot\" class=\"plotclip\"><rect width=\"503\" height=\"270\"/></clipPath><clipPath class=\"axesclip\" id=\"clip1f3b34x\"><rect x=\"80\" y=\"0\" width=\"503\" height=\"450\"/></clipPath><clipPath class=\"axesclip\" id=\"clip1f3b34y\"><rect x=\"0\" y=\"100\" width=\"700\" height=\"270\"/></clipPath><clipPath class=\"axesclip\" id=\"clip1f3b34xy\"><rect x=\"80\" y=\"100\" width=\"503\" height=\"270\"/></clipPath></g><g class=\"gradients\"/></defs><g class=\"bglayer\"><rect class=\"bg\" x=\"80\" y=\"100\" width=\"503\" height=\"270\" style=\"fill: rgb(229, 236, 246); fill-opacity: 1; stroke-width: 0;\"/></g><g class=\"layer-below\"><g class=\"imagelayer\"/><g class=\"shapelayer\"/></g><g class=\"cartesianlayer\"><g class=\"subplot xy\"><g class=\"layer-subplot\"><g class=\"shapelayer\"/><g class=\"imagelayer\"/></g><g class=\"gridlayer\"><g class=\"x\"><path class=\"xgrid crisp\" transform=\"translate(205.75,0)\" d=\"M0,100v270\" style=\"stroke: rgb(255, 255, 255); stroke-opacity: 1; stroke-width: 1px;\"/><path class=\"xgrid crisp\" transform=\"translate(457.25,0)\" d=\"M0,100v270\" style=\"stroke: rgb(255, 255, 255); stroke-opacity: 1; stroke-width: 1px;\"/></g><g class=\"y\"><path class=\"ygrid crisp\" transform=\"translate(0,271.76)\" d=\"M80,0h503\" style=\"stroke: rgb(255, 255, 255); stroke-opacity: 1; stroke-width: 1px;\"/><path class=\"ygrid crisp\" transform=\"translate(0,186.86)\" d=\"M80,0h503\" style=\"stroke: rgb(255, 255, 255); stroke-opacity: 1; stroke-width: 1px;\"/><path class=\"ygrid crisp\" transform=\"translate(0,101.95)\" d=\"M80,0h503\" style=\"stroke: rgb(255, 255, 255); stroke-opacity: 1; stroke-width: 1px;\"/></g></g><g class=\"zerolinelayer\"><path class=\"yzl zl crisp\" transform=\"translate(0,356.67)\" d=\"M80,0h503\" style=\"stroke: rgb(255, 255, 255); stroke-opacity: 1; stroke-width: 2px;\"/></g><path class=\"xlines-below\"/><path class=\"ylines-below\"/><g class=\"overlines-below\"/><g class=\"xaxislayer-below\"/><g class=\"yaxislayer-below\"/><g class=\"overaxes-below\"/><g class=\"plot\" transform=\"translate(80, 100)\" clip-path=\"url('#clip1f3b34xyplot')\"><g class=\"boxlayer mlayer\"><g class=\"trace boxes\" style=\"opacity: 1;\"><path class=\"box\" d=\"M64.13,188.41H187.37M64.13,213.28H187.37V164.21H64.13ZM125.75,213.28V256.5M125.75,164.21V90.93M94.94,256.5H156.56M94.94,90.93H156.56\" style=\"vector-effect: non-scaling-stroke; stroke-width: 2px; stroke: rgb(61, 153, 112); stroke-opacity: 1; fill: rgb(61, 153, 112); fill-opacity: 0.5;\"/><g class=\"points\"><path class=\"point\" transform=\"translate(125.75,89.07)\" d=\"M3,0A3,3 0 1,1 0,-3A3,3 0 0,1 3,0Z\" style=\"opacity: 1; stroke-width: 0px; fill: rgb(61, 153, 112); fill-opacity: 1;\"/><path class=\"point\" transform=\"translate(125.75,88.22)\" d=\"M3,0A3,3 0 1,1 0,-3A3,3 0 0,1 3,0Z\" style=\"opacity: 1; stroke-width: 0px; fill: rgb(61, 153, 112); fill-opacity: 1;\"/><path class=\"point\" transform=\"translate(125.75,88.05)\" d=\"M3,0A3,3 0 1,1 0,-3A3,3 0 0,1 3,0Z\" style=\"opacity: 1; stroke-width: 0px; fill: rgb(61, 153, 112); fill-opacity: 1;\"/><path class=\"point\" transform=\"translate(125.75,87.54)\" d=\"M3,0A3,3 0 1,1 0,-3A3,3 0 0,1 3,0Z\" style=\"opacity: 1; stroke-width: 0px; fill: rgb(61, 153, 112); fill-opacity: 1;\"/><path class=\"point\" transform=\"translate(125.75,86.35)\" d=\"M3,0A3,3 0 1,1 0,-3A3,3 0 0,1 3,0Z\" style=\"opacity: 1; stroke-width: 0px; fill: rgb(61, 153, 112); fill-opacity: 1;\"/><path class=\"point\" transform=\"translate(125.75,85.16)\" d=\"M3,0A3,3 0 1,1 0,-3A3,3 0 0,1 3,0Z\" style=\"opacity: 1; stroke-width: 0px; fill: rgb(61, 153, 112); fill-opacity: 1;\"/><path class=\"point\" transform=\"translate(125.75,85.16)\" d=\"M3,0A3,3 0 1,1 0,-3A3,3 0 0,1 3,0Z\" style=\"opacity: 1; stroke-width: 0px; fill: rgb(61, 153, 112); fill-opacity: 1;\"/><path class=\"point\" transform=\"translate(125.75,84.99)\" d=\"M3,0A3,3 0 1,1 0,-3A3,3 0 0,1 3,0Z\" style=\"opacity: 1; stroke-width: 0px; fill: rgb(61, 153, 112); fill-opacity: 1;\"/><path class=\"point\" transform=\"translate(125.75,84.14)\" d=\"M3,0A3,3 0 1,1 0,-3A3,3 0 0,1 3,0Z\" style=\"opacity: 1; stroke-width: 0px; fill: rgb(61, 153, 112); fill-opacity: 1;\"/><path class=\"point\" transform=\"translate(125.75,80.75)\" d=\"M3,0A3,3 0 1,1 0,-3A3,3 0 0,1 3,0Z\" style=\"opacity: 1; stroke-width: 0px; fill: rgb(61, 153, 112); fill-opacity: 1;\"/><path class=\"point\" transform=\"translate(125.75,80.58)\" d=\"M3,0A3,3 0 1,1 0,-3A3,3 0 0,1 3,0Z\" style=\"opacity: 1; stroke-width: 0px; fill: rgb(61, 153, 112); fill-opacity: 1;\"/><path class=\"point\" transform=\"translate(125.75,80.24)\" d=\"M3,0A3,3 0 1,1 0,-3A3,3 0 0,1 3,0Z\" style=\"opacity: 1; stroke-width: 0px; fill: rgb(61, 153, 112); fill-opacity: 1;\"/><path class=\"point\" transform=\"translate(125.75,79.9)\" d=\"M3,0A3,3 0 1,1 0,-3A3,3 0 0,1 3,0Z\" style=\"opacity: 1; stroke-width: 0px; fill: rgb(61, 153, 112); fill-opacity: 1;\"/><path class=\"point\" transform=\"translate(125.75,79.39)\" d=\"M3,0A3,3 0 1,1 0,-3A3,3 0 0,1 3,0Z\" style=\"opacity: 1; stroke-width: 0px; fill: rgb(61, 153, 112); fill-opacity: 1;\"/><path class=\"point\" transform=\"translate(125.75,79.05)\" d=\"M3,0A3,3 0 1,1 0,-3A3,3 0 0,1 3,0Z\" style=\"opacity: 1; stroke-width: 0px; fill: rgb(61, 153, 112); fill-opacity: 1;\"/><path class=\"point\" transform=\"translate(125.75,78.2)\" d=\"M3,0A3,3 0 1,1 0,-3A3,3 0 0,1 3,0Z\" style=\"opacity: 1; stroke-width: 0px; fill: rgb(61, 153, 112); fill-opacity: 1;\"/><path class=\"point\" transform=\"translate(125.75,77.35)\" d=\"M3,0A3,3 0 1,1 0,-3A3,3 0 0,1 3,0Z\" style=\"opacity: 1; stroke-width: 0px; fill: rgb(61, 153, 112); fill-opacity: 1;\"/><path class=\"point\" transform=\"translate(125.75,75.48)\" d=\"M3,0A3,3 0 1,1 0,-3A3,3 0 0,1 3,0Z\" style=\"opacity: 1; stroke-width: 0px; fill: rgb(61, 153, 112); fill-opacity: 1;\"/><path class=\"point\" transform=\"translate(125.75,68.35)\" d=\"M3,0A3,3 0 1,1 0,-3A3,3 0 0,1 3,0Z\" style=\"opacity: 1; stroke-width: 0px; fill: rgb(61, 153, 112); fill-opacity: 1;\"/><path class=\"point\" transform=\"translate(125.75,67.67)\" d=\"M3,0A3,3 0 1,1 0,-3A3,3 0 0,1 3,0Z\" style=\"opacity: 1; stroke-width: 0px; fill: rgb(61, 153, 112); fill-opacity: 1;\"/><path class=\"point\" transform=\"translate(125.75,64.78)\" d=\"M3,0A3,3 0 1,1 0,-3A3,3 0 0,1 3,0Z\" style=\"opacity: 1; stroke-width: 0px; fill: rgb(61, 153, 112); fill-opacity: 1;\"/><path class=\"point\" transform=\"translate(125.75,63.59)\" d=\"M3,0A3,3 0 1,1 0,-3A3,3 0 0,1 3,0Z\" style=\"opacity: 1; stroke-width: 0px; fill: rgb(61, 153, 112); fill-opacity: 1;\"/><path class=\"point\" transform=\"translate(125.75,61.9)\" d=\"M3,0A3,3 0 1,1 0,-3A3,3 0 0,1 3,0Z\" style=\"opacity: 1; stroke-width: 0px; fill: rgb(61, 153, 112); fill-opacity: 1;\"/><path class=\"point\" transform=\"translate(125.75,59.01)\" d=\"M3,0A3,3 0 1,1 0,-3A3,3 0 0,1 3,0Z\" style=\"opacity: 1; stroke-width: 0px; fill: rgb(61, 153, 112); fill-opacity: 1;\"/><path class=\"point\" transform=\"translate(125.75,46.95)\" d=\"M3,0A3,3 0 1,1 0,-3A3,3 0 0,1 3,0Z\" style=\"opacity: 1; stroke-width: 0px; fill: rgb(61, 153, 112); fill-opacity: 1;\"/><path class=\"point\" transform=\"translate(125.75,38.63)\" d=\"M3,0A3,3 0 1,1 0,-3A3,3 0 0,1 3,0Z\" style=\"opacity: 1; stroke-width: 0px; fill: rgb(61, 153, 112); fill-opacity: 1;\"/><path class=\"point\" transform=\"translate(125.75,13.5)\" d=\"M3,0A3,3 0 1,1 0,-3A3,3 0 0,1 3,0Z\" style=\"opacity: 1; stroke-width: 0px; fill: rgb(61, 153, 112); fill-opacity: 1;\"/></g><path class=\"mean\" d=\"M64.13,187.84H187.37m0,0L125.75,225.59L64.13,187.84L125.75,150.09Z\" style=\"fill: none; vector-effect: non-scaling-stroke; stroke-width: 2; stroke-dasharray: 4px, 2px; stroke: rgb(61, 153, 112); stroke-opacity: 1;\"/></g><g class=\"trace boxes\" style=\"opacity: 1;\"><path class=\"box\" d=\"M315.63,188.83H438.87M315.63,215.15H438.87V166.16H315.63ZM377.25,215.15V256.5M377.25,166.16V93.14M346.44,256.5H408.06M346.44,93.14H408.06\" style=\"vector-effect: non-scaling-stroke; stroke-width: 2px; stroke: rgb(255, 133, 27); stroke-opacity: 1; fill: rgb(255, 133, 27); fill-opacity: 0.5;\"/><g class=\"points\"><path class=\"point\" transform=\"translate(377.25,90.42)\" d=\"M3,0A3,3 0 1,1 0,-3A3,3 0 0,1 3,0Z\" style=\"opacity: 1; stroke-width: 0px; fill: rgb(255, 133, 27); fill-opacity: 1;\"/><path class=\"point\" transform=\"translate(377.25,84.14)\" d=\"M3,0A3,3 0 1,1 0,-3A3,3 0 0,1 3,0Z\" style=\"opacity: 1; stroke-width: 0px; fill: rgb(255, 133, 27); fill-opacity: 1;\"/><path class=\"point\" transform=\"translate(377.25,81.76)\" d=\"M3,0A3,3 0 1,1 0,-3A3,3 0 0,1 3,0Z\" style=\"opacity: 1; stroke-width: 0px; fill: rgb(255, 133, 27); fill-opacity: 1;\"/><path class=\"point\" transform=\"translate(377.25,77.69)\" d=\"M3,0A3,3 0 1,1 0,-3A3,3 0 0,1 3,0Z\" style=\"opacity: 1; stroke-width: 0px; fill: rgb(255, 133, 27); fill-opacity: 1;\"/><path class=\"point\" transform=\"translate(377.25,77.52)\" d=\"M3,0A3,3 0 1,1 0,-3A3,3 0 0,1 3,0Z\" style=\"opacity: 1; stroke-width: 0px; fill: rgb(255, 133, 27); fill-opacity: 1;\"/><path class=\"point\" transform=\"translate(377.25,68.18)\" d=\"M3,0A3,3 0 1,1 0,-3A3,3 0 0,1 3,0Z\" style=\"opacity: 1; stroke-width: 0px; fill: rgb(255, 133, 27); fill-opacity: 1;\"/><path class=\"point\" transform=\"translate(377.25,68.18)\" d=\"M3,0A3,3 0 1,1 0,-3A3,3 0 0,1 3,0Z\" style=\"opacity: 1; stroke-width: 0px; fill: rgb(255, 133, 27); fill-opacity: 1;\"/><path class=\"point\" transform=\"translate(377.25,65.8)\" d=\"M3,0A3,3 0 1,1 0,-3A3,3 0 0,1 3,0Z\" style=\"opacity: 1; stroke-width: 0px; fill: rgb(255, 133, 27); fill-opacity: 1;\"/><path class=\"point\" transform=\"translate(377.25,64.1)\" d=\"M3,0A3,3 0 1,1 0,-3A3,3 0 0,1 3,0Z\" style=\"opacity: 1; stroke-width: 0px; fill: rgb(255, 133, 27); fill-opacity: 1;\"/><path class=\"point\" transform=\"translate(377.25,63.42)\" d=\"M3,0A3,3 0 1,1 0,-3A3,3 0 0,1 3,0Z\" style=\"opacity: 1; stroke-width: 0px; fill: rgb(255, 133, 27); fill-opacity: 1;\"/><path class=\"point\" transform=\"translate(377.25,60.54)\" d=\"M3,0A3,3 0 1,1 0,-3A3,3 0 0,1 3,0Z\" style=\"opacity: 1; stroke-width: 0px; fill: rgb(255, 133, 27); fill-opacity: 1;\"/><path class=\"point\" transform=\"translate(377.25,59.69)\" d=\"M3,0A3,3 0 1,1 0,-3A3,3 0 0,1 3,0Z\" style=\"opacity: 1; stroke-width: 0px; fill: rgb(255, 133, 27); fill-opacity: 1;\"/><path class=\"point\" transform=\"translate(377.25,51.37)\" d=\"M3,0A3,3 0 1,1 0,-3A3,3 0 0,1 3,0Z\" style=\"opacity: 1; stroke-width: 0px; fill: rgb(255, 133, 27); fill-opacity: 1;\"/><path class=\"point\" transform=\"translate(377.25,48.99)\" d=\"M3,0A3,3 0 1,1 0,-3A3,3 0 0,1 3,0Z\" style=\"opacity: 1; stroke-width: 0px; fill: rgb(255, 133, 27); fill-opacity: 1;\"/><path class=\"point\" transform=\"translate(377.25,37.1)\" d=\"M3,0A3,3 0 1,1 0,-3A3,3 0 0,1 3,0Z\" style=\"opacity: 1; stroke-width: 0px; fill: rgb(255, 133, 27); fill-opacity: 1;\"/></g><path class=\"mean\" d=\"M315.63,187.65H438.87m0,0L377.25,226.29L315.63,187.65L377.25,149.01Z\" style=\"fill: none; vector-effect: non-scaling-stroke; stroke-width: 2; stroke-dasharray: 4px, 2px; stroke: rgb(255, 133, 27); stroke-opacity: 1;\"/></g></g></g><g class=\"overplot\"/><path class=\"xlines-above crisp\" d=\"M79,370.5H583\" style=\"fill: none; stroke-width: 1px; stroke: rgb(255, 255, 255); stroke-opacity: 1;\"/><path class=\"ylines-above crisp\" d=\"M79.5,100V370\" style=\"fill: none; stroke-width: 1px; stroke: rgb(255, 255, 255); stroke-opacity: 1;\"/><g class=\"overlines-above\"/><g class=\"xaxislayer-above\"><g class=\"xtick\"><text text-anchor=\"middle\" x=\"0\" y=\"385.4\" transform=\"translate(205.75,0)\" style=\"font-family: 'Open Sans', verdana, arial, sans-serif; font-size: 12px; fill: rgb(42, 63, 95); fill-opacity: 1; white-space: pre;\">surf</text></g><g class=\"xtick\"><text text-anchor=\"middle\" x=\"0\" y=\"385.4\" transform=\"translate(457.25,0)\" style=\"font-family: 'Open Sans', verdana, arial, sans-serif; font-size: 12px; fill: rgb(42, 63, 95); fill-opacity: 1; white-space: pre;\">ultimate</text></g></g><g class=\"yaxislayer-above\"><g class=\"ytick\"><text text-anchor=\"end\" x=\"76.6\" y=\"4.199999999999999\" transform=\"translate(0,356.67)\" style=\"font-family: 'Open Sans', verdana, arial, sans-serif; font-size: 12px; fill: rgb(42, 63, 95); fill-opacity: 1; white-space: pre;\">0</text></g><g class=\"ytick\"><text text-anchor=\"end\" x=\"76.6\" y=\"4.199999999999999\" transform=\"translate(0,271.76)\" style=\"font-family: 'Open Sans', verdana, arial, sans-serif; font-size: 12px; fill: rgb(42, 63, 95); fill-opacity: 1; white-space: pre;\">500</text></g><g class=\"ytick\"><text text-anchor=\"end\" x=\"76.6\" y=\"4.199999999999999\" transform=\"translate(0,186.86)\" style=\"font-family: 'Open Sans', verdana, arial, sans-serif; font-size: 12px; fill: rgb(42, 63, 95); fill-opacity: 1; white-space: pre;\">1000</text></g><g class=\"ytick\"><text text-anchor=\"end\" x=\"76.6\" y=\"4.199999999999999\" transform=\"translate(0,101.95)\" style=\"font-family: 'Open Sans', verdana, arial, sans-serif; font-size: 12px; fill: rgb(42, 63, 95); fill-opacity: 1; white-space: pre;\">1500</text></g></g><g class=\"overaxes-above\"/></g></g><g class=\"polarlayer\"/><g class=\"ternarylayer\"/><g class=\"geolayer\"/><g class=\"funnelarealayer\"/><g class=\"pielayer\"/><g class=\"treemaplayer\"/><g class=\"sunburstlayer\"/><g class=\"glimages\"/><defs id=\"topdefs-1f3b34\"><g class=\"clips\"/><clipPath id=\"legend1f3b34\"><rect width=\"95\" height=\"48\" x=\"0\" y=\"0\"/></clipPath></defs><g class=\"layer-above\"><g class=\"imagelayer\"/><g class=\"shapelayer\"/></g><g class=\"infolayer\"><g class=\"legend\" pointer-events=\"all\" transform=\"translate(593.0600000000001, 100)\"><rect class=\"bg\" shape-rendering=\"crispEdges\" width=\"95\" height=\"48\" x=\"0\" y=\"0\" style=\"stroke: rgb(68, 68, 68); stroke-opacity: 1; fill: rgb(255, 255, 255); fill-opacity: 1; stroke-width: 0px;\"/><g class=\"scrollbox\" transform=\"translate(0, 0)\" clip-path=\"url('#legend1f3b34')\"><g class=\"groups\"><g class=\"traces\" transform=\"translate(0, 14.5)\" style=\"opacity: 1;\"><text class=\"legendtext user-select-none\" text-anchor=\"start\" x=\"40\" y=\"4.680000000000001\" style=\"font-family: 'Open Sans', verdana, arial, sans-serif; font-size: 12px; fill: rgb(42, 63, 95); fill-opacity: 1; white-space: pre;\">surf</text><g class=\"layers\" style=\"opacity: 1;\"><g class=\"legendfill\"/><g class=\"legendlines\"/><g class=\"legendsymbols\"><g class=\"legendpoints\"><path class=\"legendbox\" d=\"M6,6H-6V-6H6Z\" transform=\"translate(20,0)\" style=\"stroke-width: 2px; fill: rgb(61, 153, 112); fill-opacity: 0.5; stroke: rgb(61, 153, 112); stroke-opacity: 1;\"/></g></g></g><rect class=\"legendtoggle\" pointer-events=\"all\" x=\"0\" y=\"-9.5\" width=\"89.859375\" height=\"19\" style=\"cursor: pointer; fill: rgb(0, 0, 0); fill-opacity: 0;\"/></g><g class=\"traces\" transform=\"translate(0, 33.5)\" style=\"opacity: 1;\"><text class=\"legendtext user-select-none\" text-anchor=\"start\" x=\"40\" y=\"4.680000000000001\" style=\"font-family: 'Open Sans', verdana, arial, sans-serif; font-size: 12px; fill: rgb(42, 63, 95); fill-opacity: 1; white-space: pre;\">ultimate</text><g class=\"layers\" style=\"opacity: 1;\"><g class=\"legendfill\"/><g class=\"legendlines\"/><g class=\"legendsymbols\"><g class=\"legendpoints\"><path class=\"legendbox\" d=\"M6,6H-6V-6H6Z\" transform=\"translate(20,0)\" style=\"stroke-width: 2px; fill: rgb(255, 133, 27); fill-opacity: 0.5; stroke: rgb(255, 133, 27); stroke-opacity: 1;\"/></g></g></g><rect class=\"legendtoggle\" pointer-events=\"all\" x=\"0\" y=\"-9.5\" width=\"89.859375\" height=\"19\" style=\"cursor: pointer; fill: rgb(0, 0, 0); fill-opacity: 0;\"/></g></g></g><rect class=\"scrollbar\" rx=\"20\" ry=\"3\" width=\"0\" height=\"0\" x=\"0\" y=\"0\" style=\"fill: rgb(128, 139, 164); fill-opacity: 1;\"/></g><g class=\"g-gtitle\"><text class=\"gtitle\" x=\"35\" y=\"50\" text-anchor=\"start\" dy=\"0em\" style=\"font-family: 'Open Sans', verdana, arial, sans-serif; font-size: 17px; fill: rgb(42, 63, 95); opacity: 1; font-weight: normal; white-space: pre;\">BoxPlot of minutes_used</text></g><g class=\"g-xtitle\"/><g class=\"g-ytitle\"/></g></svg>"
      ]
     },
     "metadata": {},
     "output_type": "display_data"
    }
   ],
   "source": [
    "surf = plan_surf[['messages', 'gb_used', 'minutes_used']]\n",
    "ultimate = plan_ultimate[['messages', 'gb_used', 'minutes_used']]\n",
    "\n",
    "for (x,i) in zip(surf, ultimate):\n",
    "\n",
    "    fig = go.Figure()\n",
    "    fig.add_trace(go.Box(y=surf[x], name='surf',\n",
    "                        marker_color = '#3D9970',\n",
    "                        boxmean='sd',\n",
    "   \n",
    "                        ))\n",
    "        \n",
    "   \n",
    "                  \n",
    "    fig.add_trace(go.Box(y=ultimate[i], name = 'ultimate',\n",
    "                        marker_color = '#FF851B',\n",
    "                            boxmean='sd',\n",
    "                        ))\n",
    "\n",
    "    \n",
    "    fig.update_layout(\n",
    "    title='BoxPlot of {}'.format(x))\n",
    "    \n",
    "                      \n",
    "\n",
    "\n",
    "    fig.show()"
   ]
  },
  {
   "cell_type": "markdown",
   "metadata": {},
   "source": [
    "Using the graphs above, we can compare the range and distribution of the area_mean for surf and ultimate plans. \n",
    "We observe that there're larger outliers of all parameters for this plan. \n",
    "For messages the ultimate plan showed a greater variability than the surf plan.\n",
    "Both plans are right skewed for such parameters as: messages and minutes used."
   ]
  },
  {
   "cell_type": "markdown",
   "metadata": {},
   "source": [
    "Nex step is calculate standart deviation and to plot histograms for each parameter for surf plan."
   ]
  },
  {
   "cell_type": "code",
   "execution_count": 58,
   "metadata": {},
   "outputs": [
    {
     "name": "stdout",
     "output_type": "stream",
     "text": [
      "Surf variance of messages     1131\n",
      "Surf variance of gb_used      61\n",
      "Surf variance of minutes_used 49422\n"
     ]
    }
   ],
   "source": [
    "for x in surf_parameters:\n",
    "    surf_variance = round(np.var(plan_surf[x]))  \n",
    "    print('Surf variance of {: <12}'.format(x), surf_variance,)"
   ]
  },
  {
   "cell_type": "code",
   "execution_count": 59,
   "metadata": {},
   "outputs": [
    {
     "name": "stdout",
     "output_type": "stream",
     "text": [
      "Standard deviation of messages     33.63024419035286\n",
      "Standard deviation of gb_used      7.818102940807733\n",
      "Standard deviation of minutes_used 222.31047222356887\n"
     ]
    }
   ],
   "source": [
    "for x in surf_parameters:\n",
    "    surf_st_dev = np.std(plan_surf[x]) \n",
    "    print('Standard deviation of {: <12}'.format(x), surf_st_dev)"
   ]
  },
  {
   "cell_type": "code",
   "execution_count": 60,
   "metadata": {},
   "outputs": [
    {
     "name": "stdout",
     "output_type": "stream",
     "text": [
      "Top line of messages     132\n",
      "Top line of gb_used      40\n",
      "Top line of minutes_used 1072\n"
     ]
    }
   ],
   "source": [
    "for x in surf_parameters:\n",
    "    surf_top_line = round(plan_surf[x].mean() + 3 * np.std(plan_surf[x]))  \n",
    "    print('Top line of {: <12}'.format(x), surf_top_line)"
   ]
  },
  {
   "cell_type": "code",
   "execution_count": 61,
   "metadata": {},
   "outputs": [
    {
     "data": {
      "image/png": "[encoded data removed]",
      "text/plain": [
       "<Figure size 576x432 with 1 Axes>"
      ]
     },
     "metadata": {
      "needs_background": "light"
     },
     "output_type": "display_data"
    },
    {
     "data": {
      "image/png": "[encoded data removed]",
      "text/plain": [
       "<Figure size 576x432 with 1 Axes>"
      ]
     },
     "metadata": {
      "needs_background": "light"
     },
     "output_type": "display_data"
    },
    {
     "data": {
      "image/png": "[encoded data removed]",
      "text/plain": [
       "<Figure size 576x432 with 1 Axes>"
      ]
     },
     "metadata": {
      "needs_background": "light"
     },
     "output_type": "display_data"
    }
   ],
   "source": [
    "for i, col in enumerate(surf_parameters.columns):\n",
    "        plt.figure(i, figsize=(8,6))\n",
    "        sb.distplot(surf_parameters[col])\n",
    "        plt.title(\"Density histogram of \" + surf_parameters.columns[i] + \" Surf plan\", fontsize=18)\n",
    "        plt.ylabel('Density', fontsize=10)\n",
    "        plt.show()"
   ]
  },
  {
   "cell_type": "markdown",
   "metadata": {},
   "source": [
    "Average number sms per month will be 31. The message hist shows a right-skewed distribution, indicating that there are a number of values greater than the mode.\n",
    "\n",
    "Mean and median for gb used is almost the same: 16.67 and 16, which mean that data is simmetrical and distributed normally. Average gb per month used = 16.67.\n",
    "\n",
    "Minutes used has outliers and mean value = 405.\n",
    "\n",
    "- Standard deviation of messages:     33.5\n",
    "- Standard deviation of gb:      7.8\n",
    "- Standard deviation of minutes: 222.3\n",
    "\n",
    "Before making any conclusions. I'll investigate the Ultimate plan data as well."
   ]
  },
  {
   "cell_type": "markdown",
   "metadata": {},
   "source": [
    "**Ultimate plan**"
   ]
  },
  {
   "cell_type": "code",
   "execution_count": 62,
   "metadata": {},
   "outputs": [
    {
     "data": {
      "text/html": [
       "<div>\n",
       "<style scoped>\n",
       "    .dataframe tbody tr th:only-of-type {\n",
       "        vertical-align: middle;\n",
       "    }\n",
       "\n",
       "    .dataframe tbody tr th {\n",
       "        vertical-align: top;\n",
       "    }\n",
       "\n",
       "    .dataframe thead th {\n",
       "        text-align: right;\n",
       "    }\n",
       "</style>\n",
       "<table border=\"1\" class=\"dataframe\">\n",
       "  <thead>\n",
       "    <tr style=\"text-align: right;\">\n",
       "      <th></th>\n",
       "      <th>plan</th>\n",
       "      <th>avg_gb_used</th>\n",
       "      <th>avg_messages_used</th>\n",
       "      <th>avg_minutes_used</th>\n",
       "    </tr>\n",
       "  </thead>\n",
       "  <tbody>\n",
       "    <tr>\n",
       "      <th>0</th>\n",
       "      <td>ultimate</td>\n",
       "      <td>17.336158</td>\n",
       "      <td>37.798023</td>\n",
       "      <td>406.443503</td>\n",
       "    </tr>\n",
       "  </tbody>\n",
       "</table>\n",
       "</div>"
      ],
      "text/plain": [
       "       plan  avg_gb_used  avg_messages_used  avg_minutes_used \n",
       "0  ultimate    17.336158          37.798023         406.443503"
      ]
     },
     "execution_count": 62,
     "metadata": {},
     "output_type": "execute_result"
    }
   ],
   "source": [
    "plan_ultimate = total.query('plan == \"ultimate\"')\n",
    "plan_pivot_ultimate = plan_ultimate.pivot_table(index=['plan'], values=['messages','gb_used', 'minutes_used']).reset_index()\n",
    "plan_pivot_ultimate.columns = ['plan', 'avg_gb_used', 'avg_messages_used', 'avg_minutes_used '] \n",
    "plan_pivot_ultimate"
   ]
  },
  {
   "cell_type": "code",
   "execution_count": 63,
   "metadata": {},
   "outputs": [],
   "source": [
    "ultimate_parameters = plan_ultimate[['messages', 'gb_used', 'minutes_used' ]]"
   ]
  },
  {
   "cell_type": "code",
   "execution_count": 64,
   "metadata": {},
   "outputs": [
    {
     "name": "stdout",
     "output_type": "stream",
     "text": [
      "Ultimate tariff IQR of messages     54.0  Q1 = 7.0  Q3 = 61.0\n",
      "Ultimate tariff IQR of gb_used      8.0  Q1 = 13.0  Q3 = 21.0\n",
      "Ultimate tariff IQR of minutes_used 288.5  Q1 = 244.5  Q3 = 533.0\n"
     ]
    }
   ],
   "source": [
    "for x in ultimate_parameters:\n",
    "\n",
    "    Q1 = np.percentile(plan_ultimate[x], 25, interpolation = 'midpoint') \n",
    "    Q3 = np.percentile(plan_ultimate[x], 75, interpolation = 'midpoint') \n",
    "    IQR = Q3 - Q1 \n",
    "  \n",
    "    print('Ultimate tariff IQR of {: <12}'.format(x), IQR, ' Q1 = {}'.format(Q1), ' Q3 = {}'.format(Q3))"
   ]
  },
  {
   "cell_type": "code",
   "execution_count": 65,
   "metadata": {},
   "outputs": [
    {
     "name": "stdout",
     "output_type": "stream",
     "text": [
      "Ultimate variance of messages     1216\n",
      "Ultimate variance of gb_used      59\n",
      "Ultimate variance of minutes_used 51774\n"
     ]
    }
   ],
   "source": [
    "for x in ultimate_parameters:\n",
    "    ultimate_variance = round(np.var(plan_ultimate[x]))  \n",
    "    print('Ultimate variance of {: <12}'.format(x), ultimate_variance)"
   ]
  },
  {
   "cell_type": "code",
   "execution_count": 66,
   "metadata": {},
   "outputs": [
    {
     "name": "stdout",
     "output_type": "stream",
     "text": [
      "Standard deviation of messages     34.871396442861155\n",
      "Standard deviation of gb_used      7.692170275390215\n",
      "Standard deviation of minutes_used 227.5399224303169\n"
     ]
    }
   ],
   "source": [
    "for x in ultimate_parameters:\n",
    "    ultimate_st_dev = np.std(plan_ultimate[x]) \n",
    "    print('Standard deviation of {: <12}'.format(x), ultimate_st_dev)"
   ]
  },
  {
   "cell_type": "code",
   "execution_count": 67,
   "metadata": {},
   "outputs": [
    {
     "name": "stdout",
     "output_type": "stream",
     "text": [
      "Top line of messages     142\n",
      "Top line of gb_used      40\n",
      "Top line of minutes_used 1089\n"
     ]
    }
   ],
   "source": [
    "for x in ultimate_parameters:\n",
    "    ultimate_top_line = round(plan_ultimate[x].mean() + 3 * np.std(plan_ultimate[x]))  \n",
    "    print('Top line of {: <12}'.format(x), ultimate_top_line)"
   ]
  },
  {
   "cell_type": "code",
   "execution_count": 68,
   "metadata": {
    "scrolled": false
   },
   "outputs": [
    {
     "data": {
      "image/png": "[encoded data removed]",
      "text/plain": [
       "<Figure size 576x432 with 1 Axes>"
      ]
     },
     "metadata": {
      "needs_background": "light"
     },
     "output_type": "display_data"
    },
    {
     "data": {
      "image/png": "[encoded data removed]",
      "text/plain": [
       "<Figure size 576x432 with 1 Axes>"
      ]
     },
     "metadata": {
      "needs_background": "light"
     },
     "output_type": "display_data"
    },
    {
     "data": {
      "image/png": "[encoded data removed]",
      "text/plain": [
       "<Figure size 576x432 with 1 Axes>"
      ]
     },
     "metadata": {
      "needs_background": "light"
     },
     "output_type": "display_data"
    }
   ],
   "source": [
    "for i, col in enumerate(ultimate_parameters.columns):\n",
    "        plt.figure(i, figsize=(8,6))\n",
    "        sb.distplot(ultimate_parameters[col], label=\"ultimate\")\n",
    "        plt.title(\"Density histogram of \" + ultimate_parameters.columns[i] + \" Ultimate plan\", fontsize=18)\n",
    "        plt.ylabel('Density', fontsize=10)"
   ]
  },
  {
   "cell_type": "markdown",
   "metadata": {},
   "source": [
    "Average number sms per month will be 38. The message hist shows a right-skewed distribution (the same as for surf plan), indicating that there are a number of values greater than the mode. \n",
    "Mean and median for gb used is almost the same: 17 and 17.3 accordingly, which mean that data is simmetrical and distributed normally. \n",
    "Minutes used has outliers and mean value = 406.\n",
    "\n",
    "- Standard deviation of messages:     34.7\n",
    "- Standard deviation of gb_used:      7.6\n",
    "- Standard deviation of minutes_used: 227.5"
   ]
  },
  {
   "cell_type": "markdown",
   "metadata": {},
   "source": [
    "At the end of the second part of the analysis, I'd like to overlap density histograms for both plans in order to visually check is there any significant differences."
   ]
  },
  {
   "cell_type": "code",
   "execution_count": 69,
   "metadata": {},
   "outputs": [
    {
     "data": {
      "image/png": "[encoded data removed]",
      "text/plain": [
       "<Figure size 432x288 with 1 Axes>"
      ]
     },
     "metadata": {
      "needs_background": "light"
     },
     "output_type": "display_data"
    },
    {
     "data": {
      "image/png": "[encoded data removed]",
      "text/plain": [
       "<Figure size 576x432 with 1 Axes>"
      ]
     },
     "metadata": {
      "needs_background": "light"
     },
     "output_type": "display_data"
    },
    {
     "data": {
      "image/png": "[encoded data removed]",
      "text/plain": [
       "<Figure size 576x432 with 1 Axes>"
      ]
     },
     "metadata": {
      "needs_background": "light"
     },
     "output_type": "display_data"
    }
   ],
   "source": [
    "fig = plt.figure()\n",
    "axes = fig.subplots()\n",
    "\n",
    "for i, col in enumerate(ultimate_parameters.columns):\n",
    "        plt.figure(i, figsize=(8,6))\n",
    "        sb.distplot(ultimate_parameters[col], label=\"ultimate\")\n",
    "        plt.title(\"Density histograms of \" + ultimate_parameters.columns[i], fontsize=18)\n",
    "        plt.ylabel('Frequency', fontsize=10)\n",
    "\n",
    "\n",
    "\n",
    "for x, col in enumerate(surf_parameters.columns):\n",
    "        plt.figure(x, figsize=(8,6))\n",
    "        sb.distplot(surf_parameters[col], label=\"surf\")\n",
    "        plt.title(\"Density histograms of \" + surf_parameters.columns[x], fontsize=18)\n",
    "        plt.ylabel('Frequency', fontsize=10)\n",
    "\n",
    "\n",
    "\n",
    "lines, labels = fig.axes[0].get_legend_handles_labels()   \n",
    "fig.legend(lines, labels, loc = 'center right')\n",
    "\n",
    "plt.show()"
   ]
  },
  {
   "cell_type": "markdown",
   "metadata": {},
   "source": [
    "We see the same patterns as saw on the boxplots (which is logical): users of ultimate plan on average send more messages, the density of GB and minutes used for both plans are almost the same, but surf plan contains more outliers."
   ]
  },
  {
   "cell_type": "markdown",
   "metadata": {},
   "source": [
    "### Step 4. Test the hypotheses"
   ]
  },
  {
   "cell_type": "markdown",
   "metadata": {},
   "source": [
    ">- The average profit from users of Ultimate and Surf calling plans differs.\n",
    "- The average profit from users in NY-NJ area is different from that of the users from other regions.\n",
    "\n",
    ">Explain:\n",
    "- How you formulated the null and alternative hypotheses.\n",
    "- What criterion you used to test the hypotheses and why."
   ]
  },
  {
   "cell_type": "code",
   "execution_count": 70,
   "metadata": {
    "scrolled": true
   },
   "outputs": [
    {
     "data": {
      "text/html": [
       "<div>\n",
       "<style scoped>\n",
       "    .dataframe tbody tr th:only-of-type {\n",
       "        vertical-align: middle;\n",
       "    }\n",
       "\n",
       "    .dataframe tbody tr th {\n",
       "        vertical-align: top;\n",
       "    }\n",
       "\n",
       "    .dataframe thead th {\n",
       "        text-align: right;\n",
       "    }\n",
       "</style>\n",
       "<table border=\"1\" class=\"dataframe\">\n",
       "  <thead>\n",
       "    <tr style=\"text-align: right;\">\n",
       "      <th></th>\n",
       "      <th>user_id</th>\n",
       "      <th>month</th>\n",
       "      <th>mb_used</th>\n",
       "      <th>calls</th>\n",
       "      <th>duration</th>\n",
       "      <th>messages</th>\n",
       "      <th>plan</th>\n",
       "      <th>city</th>\n",
       "      <th>churn_month</th>\n",
       "      <th>reg_month</th>\n",
       "      <th>...</th>\n",
       "      <th>usd_per_gb</th>\n",
       "      <th>usd_per_message</th>\n",
       "      <th>usd_per_minute</th>\n",
       "      <th>gb_used</th>\n",
       "      <th>gb_per_month_included</th>\n",
       "      <th>minutes_used</th>\n",
       "      <th>mes_above_limit</th>\n",
       "      <th>gb_above_limit</th>\n",
       "      <th>min_above_limit</th>\n",
       "      <th>total_cost</th>\n",
       "    </tr>\n",
       "  </thead>\n",
       "  <tbody>\n",
       "    <tr>\n",
       "      <th>0</th>\n",
       "      <td>1000</td>\n",
       "      <td>12</td>\n",
       "      <td>1901.47</td>\n",
       "      <td>16.0</td>\n",
       "      <td>116.83</td>\n",
       "      <td>11.0</td>\n",
       "      <td>ultimate</td>\n",
       "      <td>Atlanta-Sandy Springs-Roswell, GA MSA</td>\n",
       "      <td>0.0</td>\n",
       "      <td>12</td>\n",
       "      <td>...</td>\n",
       "      <td>7</td>\n",
       "      <td>0.01</td>\n",
       "      <td>0.01</td>\n",
       "      <td>2</td>\n",
       "      <td>30.0</td>\n",
       "      <td>117</td>\n",
       "      <td>0</td>\n",
       "      <td>0</td>\n",
       "      <td>0</td>\n",
       "      <td>70.0</td>\n",
       "    </tr>\n",
       "    <tr>\n",
       "      <th>1</th>\n",
       "      <td>1001</td>\n",
       "      <td>8</td>\n",
       "      <td>6919.15</td>\n",
       "      <td>27.0</td>\n",
       "      <td>171.14</td>\n",
       "      <td>30.0</td>\n",
       "      <td>surf</td>\n",
       "      <td>Seattle-Tacoma-Bellevue, WA MSA</td>\n",
       "      <td>0.0</td>\n",
       "      <td>8</td>\n",
       "      <td>...</td>\n",
       "      <td>10</td>\n",
       "      <td>0.03</td>\n",
       "      <td>0.03</td>\n",
       "      <td>7</td>\n",
       "      <td>15.0</td>\n",
       "      <td>172</td>\n",
       "      <td>0</td>\n",
       "      <td>0</td>\n",
       "      <td>0</td>\n",
       "      <td>20.0</td>\n",
       "    </tr>\n",
       "  </tbody>\n",
       "</table>\n",
       "<p>2 rows × 24 columns</p>\n",
       "</div>"
      ],
      "text/plain": [
       "   user_id  month  mb_used  calls  duration  messages      plan  \\\n",
       "0     1000     12  1901.47   16.0    116.83      11.0  ultimate   \n",
       "1     1001      8  6919.15   27.0    171.14      30.0      surf   \n",
       "\n",
       "                                    city  churn_month  reg_month  ...  \\\n",
       "0  Atlanta-Sandy Springs-Roswell, GA MSA          0.0         12  ...   \n",
       "1        Seattle-Tacoma-Bellevue, WA MSA          0.0          8  ...   \n",
       "\n",
       "   usd_per_gb  usd_per_message  usd_per_minute  gb_used  \\\n",
       "0           7             0.01            0.01        2   \n",
       "1          10             0.03            0.03        7   \n",
       "\n",
       "   gb_per_month_included  minutes_used  mes_above_limit  gb_above_limit  \\\n",
       "0                   30.0           117                0               0   \n",
       "1                   15.0           172                0               0   \n",
       "\n",
       "   min_above_limit  total_cost  \n",
       "0                0        70.0  \n",
       "1                0        20.0  \n",
       "\n",
       "[2 rows x 24 columns]"
      ]
     },
     "execution_count": 70,
     "metadata": {},
     "output_type": "execute_result"
    }
   ],
   "source": [
    "total.head(2)"
   ]
  },
  {
   "cell_type": "markdown",
   "metadata": {},
   "source": [
    "- We have two data sets: profit from users of Ultimate and Surf calling plans. \n",
    "\n",
    "- I'll test the hypothesis on the equality of 2 population means.\n",
    "\n",
    "- The Null hypothesis (H0) is that the average monthly profit of the 2 tariffs are equal.\n",
    "\n",
    "- The Alternative hypothesis (H1) is that the average monthly profit of the 2 tariffs are different.\n",
    "\n",
    "- Let the significance level be 0.05."
   ]
  },
  {
   "cell_type": "code",
   "execution_count": 71,
   "metadata": {},
   "outputs": [
    {
     "name": "stdout",
     "output_type": "stream",
     "text": [
      "AVG profit ultimate: 71.8486917562724\n",
      "AVG profit surf: 57.586481000843214\n"
     ]
    }
   ],
   "source": [
    "profit_ultimate = plan_ultimate.pivot_table(index='user_id', values=['total_cost']).reset_index()\n",
    "profit_surf = plan_surf.pivot_table(index='user_id', values=['total_cost']).reset_index()\n",
    "profit_ultimate_avg = profit_ultimate['total_cost']\n",
    "profit_surf_avg = profit_surf['total_cost']\n",
    "print('AVG profit ultimate:', profit_ultimate_avg.mean())\n",
    "print('AVG profit surf:', profit_surf_avg.mean())"
   ]
  },
  {
   "cell_type": "code",
   "execution_count": 72,
   "metadata": {},
   "outputs": [
    {
     "name": "stdout",
     "output_type": "stream",
     "text": [
      "Standard deviation of profit for ultimate plan 7.4455520314303065\n",
      "Standard deviation of profit for surf plan 43.25595529685135\n"
     ]
    }
   ],
   "source": [
    "profit_ultimate_st_dev = np.std(profit_ultimate_avg) \n",
    "profit_surf_st_dev = np.std(profit_surf_avg) \n",
    "print('Standard deviation of profit for ultimate plan', profit_ultimate_st_dev)\n",
    "print('Standard deviation of profit for surf plan', profit_surf_st_dev)"
   ]
  },
  {
   "cell_type": "code",
   "execution_count": 73,
   "metadata": {
    "scrolled": false
   },
   "outputs": [
    {
     "name": "stdout",
     "output_type": "stream",
     "text": [
      "p-value: 5.523315537344991e-05\n",
      "We reject the null hypothesis\n"
     ]
    }
   ],
   "source": [
    "alpha = 0.05 \n",
    "\n",
    "results = st.ttest_ind(\n",
    "        profit_ultimate_avg, \n",
    "        profit_surf_avg)\n",
    "\n",
    "print('p-value:', results.pvalue)\n",
    "\n",
    "if (results.pvalue < alpha):\n",
    "    print(\"We reject the null hypothesis\")\n",
    "else:\n",
    "    print(\"We can't reject the null hypothesis\")"
   ]
  },
  {
   "cell_type": "markdown",
   "metadata": {},
   "source": [
    "In addition I'll do the The Mann-Whitney U test, as is often considered the nonparametric alternative to the independent t-test although this is not always the case."
   ]
  },
  {
   "cell_type": "code",
   "execution_count": 74,
   "metadata": {},
   "outputs": [
    {
     "name": "stdout",
     "output_type": "stream",
     "text": [
      "Statistics=12774.500, p=0.000\n",
      "We reject the null hypothesis\n"
     ]
    }
   ],
   "source": [
    "alpha = 0.05 \n",
    "\n",
    "stat, p = mannwhitneyu(profit_ultimate_avg, profit_surf_avg)\n",
    "print('Statistics=%.3f, p=%.3f' % (stat, p))\n",
    "\n",
    "if p < alpha:\n",
    "    print(\"We reject the null hypothesis\")\n",
    "else:\n",
    "    print(\"We can't reject the null hypothesis\")"
   ]
  },
  {
   "cell_type": "markdown",
   "metadata": {},
   "source": [
    "The analysis suggests that users spend different amount of money for 2 plans."
   ]
  },
  {
   "cell_type": "markdown",
   "metadata": {},
   "source": [
    "- The next step is to test the hypothesis of average profit from users in NY-NJ area is different from that of the users from other regions.\n",
    "\n",
    "- First step is to split data on 2 samples: NY-NJ region and other region.\n",
    "Second - test the hypothesis.\n",
    "\n",
    "- I'll test the hypothesis on the equality of 2 population means.\n",
    "\n",
    "- The Null hypothesis (H0) is that the average monthly profit of the all regions are equal.\n",
    "\n",
    "- The Alternative hypothesis (H1) is that the average monthly profit of the NY-NJ regions and all others are different.\n",
    "\n",
    "- The significance level is 0.05."
   ]
  },
  {
   "cell_type": "code",
   "execution_count": 75,
   "metadata": {},
   "outputs": [
    {
     "data": {
      "text/plain": [
       "1357    Dallas-Fort Worth-Arlington, TX MSA\n",
       "Name: city, dtype: object"
      ]
     },
     "execution_count": 75,
     "metadata": {},
     "output_type": "execute_result"
    }
   ],
   "source": [
    "total['city'].sample()"
   ]
  },
  {
   "cell_type": "code",
   "execution_count": 76,
   "metadata": {},
   "outputs": [
    {
     "data": {
      "text/html": [
       "<div>\n",
       "<style scoped>\n",
       "    .dataframe tbody tr th:only-of-type {\n",
       "        vertical-align: middle;\n",
       "    }\n",
       "\n",
       "    .dataframe tbody tr th {\n",
       "        vertical-align: top;\n",
       "    }\n",
       "\n",
       "    .dataframe thead th {\n",
       "        text-align: right;\n",
       "    }\n",
       "</style>\n",
       "<table border=\"1\" class=\"dataframe\">\n",
       "  <thead>\n",
       "    <tr style=\"text-align: right;\">\n",
       "      <th></th>\n",
       "      <th>user_id</th>\n",
       "      <th>month</th>\n",
       "      <th>mb_used</th>\n",
       "      <th>calls</th>\n",
       "      <th>duration</th>\n",
       "      <th>messages</th>\n",
       "      <th>plan</th>\n",
       "      <th>city</th>\n",
       "      <th>churn_month</th>\n",
       "      <th>reg_month</th>\n",
       "      <th>...</th>\n",
       "      <th>usd_per_gb</th>\n",
       "      <th>usd_per_message</th>\n",
       "      <th>usd_per_minute</th>\n",
       "      <th>gb_used</th>\n",
       "      <th>gb_per_month_included</th>\n",
       "      <th>minutes_used</th>\n",
       "      <th>mes_above_limit</th>\n",
       "      <th>gb_above_limit</th>\n",
       "      <th>min_above_limit</th>\n",
       "      <th>total_cost</th>\n",
       "    </tr>\n",
       "  </thead>\n",
       "  <tbody>\n",
       "    <tr>\n",
       "      <th>867</th>\n",
       "      <td>1181</td>\n",
       "      <td>10</td>\n",
       "      <td>18317.73</td>\n",
       "      <td>70.0</td>\n",
       "      <td>444.09</td>\n",
       "      <td>33.0</td>\n",
       "      <td>surf</td>\n",
       "      <td>New York-Newark-Jersey City, NY-NJ-PA MSA</td>\n",
       "      <td>0.0</td>\n",
       "      <td>4</td>\n",
       "      <td>...</td>\n",
       "      <td>10</td>\n",
       "      <td>0.03</td>\n",
       "      <td>0.03</td>\n",
       "      <td>18</td>\n",
       "      <td>15.0</td>\n",
       "      <td>445</td>\n",
       "      <td>0</td>\n",
       "      <td>3</td>\n",
       "      <td>0</td>\n",
       "      <td>50.0</td>\n",
       "    </tr>\n",
       "  </tbody>\n",
       "</table>\n",
       "<p>1 rows × 24 columns</p>\n",
       "</div>"
      ],
      "text/plain": [
       "     user_id  month   mb_used  calls  duration  messages  plan  \\\n",
       "867     1181     10  18317.73   70.0    444.09      33.0  surf   \n",
       "\n",
       "                                          city  churn_month  reg_month  ...  \\\n",
       "867  New York-Newark-Jersey City, NY-NJ-PA MSA          0.0          4  ...   \n",
       "\n",
       "     usd_per_gb  usd_per_message  usd_per_minute  gb_used  \\\n",
       "867          10             0.03            0.03       18   \n",
       "\n",
       "     gb_per_month_included  minutes_used  mes_above_limit  gb_above_limit  \\\n",
       "867                   15.0           445                0               3   \n",
       "\n",
       "     min_above_limit  total_cost  \n",
       "867                0        50.0  \n",
       "\n",
       "[1 rows x 24 columns]"
      ]
     },
     "execution_count": 76,
     "metadata": {},
     "output_type": "execute_result"
    }
   ],
   "source": [
    "NY_NJ_regions = total[total.city.str.contains('NY-NJ', case=False)]\n",
    "NY_NJ_regions.sample()"
   ]
  },
  {
   "cell_type": "code",
   "execution_count": 77,
   "metadata": {},
   "outputs": [],
   "source": [
    "Other_regions = total[total.city.str.contains('NY-NJ') == False]"
   ]
  },
  {
   "cell_type": "code",
   "execution_count": 78,
   "metadata": {
    "scrolled": false
   },
   "outputs": [
    {
     "data": {
      "text/html": [
       "<div>\n",
       "<style scoped>\n",
       "    .dataframe tbody tr th:only-of-type {\n",
       "        vertical-align: middle;\n",
       "    }\n",
       "\n",
       "    .dataframe tbody tr th {\n",
       "        vertical-align: top;\n",
       "    }\n",
       "\n",
       "    .dataframe thead th {\n",
       "        text-align: right;\n",
       "    }\n",
       "</style>\n",
       "<table border=\"1\" class=\"dataframe\">\n",
       "  <thead>\n",
       "    <tr style=\"text-align: right;\">\n",
       "      <th></th>\n",
       "      <th>user_id</th>\n",
       "      <th>month</th>\n",
       "      <th>mb_used</th>\n",
       "      <th>calls</th>\n",
       "      <th>duration</th>\n",
       "      <th>messages</th>\n",
       "      <th>plan</th>\n",
       "      <th>city</th>\n",
       "      <th>churn_month</th>\n",
       "      <th>reg_month</th>\n",
       "      <th>...</th>\n",
       "      <th>usd_per_gb</th>\n",
       "      <th>usd_per_message</th>\n",
       "      <th>usd_per_minute</th>\n",
       "      <th>gb_used</th>\n",
       "      <th>gb_per_month_included</th>\n",
       "      <th>minutes_used</th>\n",
       "      <th>mes_above_limit</th>\n",
       "      <th>gb_above_limit</th>\n",
       "      <th>min_above_limit</th>\n",
       "      <th>total_cost</th>\n",
       "    </tr>\n",
       "  </thead>\n",
       "  <tbody>\n",
       "    <tr>\n",
       "      <th>282</th>\n",
       "      <td>1062</td>\n",
       "      <td>9</td>\n",
       "      <td>14532.52</td>\n",
       "      <td>36.0</td>\n",
       "      <td>192.05</td>\n",
       "      <td>8.0</td>\n",
       "      <td>ultimate</td>\n",
       "      <td>San Antonio-New Braunfels, TX MSA</td>\n",
       "      <td>0.0</td>\n",
       "      <td>2</td>\n",
       "      <td>...</td>\n",
       "      <td>7</td>\n",
       "      <td>0.01</td>\n",
       "      <td>0.01</td>\n",
       "      <td>15</td>\n",
       "      <td>30.0</td>\n",
       "      <td>193</td>\n",
       "      <td>0</td>\n",
       "      <td>0</td>\n",
       "      <td>0</td>\n",
       "      <td>70.0</td>\n",
       "    </tr>\n",
       "  </tbody>\n",
       "</table>\n",
       "<p>1 rows × 24 columns</p>\n",
       "</div>"
      ],
      "text/plain": [
       "     user_id  month   mb_used  calls  duration  messages      plan  \\\n",
       "282     1062      9  14532.52   36.0    192.05       8.0  ultimate   \n",
       "\n",
       "                                  city  churn_month  reg_month  ...  \\\n",
       "282  San Antonio-New Braunfels, TX MSA          0.0          2  ...   \n",
       "\n",
       "     usd_per_gb  usd_per_message  usd_per_minute  gb_used  \\\n",
       "282           7             0.01            0.01       15   \n",
       "\n",
       "     gb_per_month_included  minutes_used  mes_above_limit  gb_above_limit  \\\n",
       "282                   30.0           193                0               0   \n",
       "\n",
       "     min_above_limit  total_cost  \n",
       "282                0        70.0  \n",
       "\n",
       "[1 rows x 24 columns]"
      ]
     },
     "execution_count": 78,
     "metadata": {},
     "output_type": "execute_result"
    }
   ],
   "source": [
    "Other_regions.sample()"
   ]
  },
  {
   "cell_type": "code",
   "execution_count": 79,
   "metadata": {},
   "outputs": [],
   "source": [
    "NY_NJ_regions_avg = NY_NJ_regions.pivot_table(index='user_id', values=['total_cost']).reset_index()\n",
    "Other_regions_avg = Other_regions.pivot_table(index='user_id', values=['total_cost']).reset_index()\n",
    "NY_NJ_profit = NY_NJ_regions_avg['total_cost']\n",
    "Other_profit = Other_regions_avg['total_cost']"
   ]
  },
  {
   "cell_type": "code",
   "execution_count": 80,
   "metadata": {
    "scrolled": false
   },
   "outputs": [
    {
     "name": "stdout",
     "output_type": "stream",
     "text": [
      "p-value: 0.4916828695737592\n",
      "We can't reject the null hypothesis\n"
     ]
    }
   ],
   "source": [
    "\n",
    "alpha = 0.05 \n",
    "\n",
    "results = st.ttest_ind(\n",
    "        NY_NJ_profit, \n",
    "        Other_profit)\n",
    "\n",
    "print('p-value:', results.pvalue)\n",
    "\n",
    "if (results.pvalue < alpha):\n",
    "    print(\"We reject the null hypothesis\")\n",
    "else:\n",
    "    print(\"We can't reject the null hypothesis\")"
   ]
  },
  {
   "cell_type": "markdown",
   "metadata": {},
   "source": [
    "And additional valdation with the Mann-Whitney U test."
   ]
  },
  {
   "cell_type": "code",
   "execution_count": 81,
   "metadata": {},
   "outputs": [
    {
     "name": "stdout",
     "output_type": "stream",
     "text": [
      "Statistics=15301.500, p=0.236\n",
      "We can't reject the null hypothesis\n"
     ]
    }
   ],
   "source": [
    "alpha = 0.05 \n",
    "\n",
    "stat, p = mannwhitneyu(NY_NJ_profit, Other_profit)\n",
    "print('Statistics=%.3f, p=%.3f' % (stat, p))\n",
    "\n",
    "if p < alpha:\n",
    "    print(\"We reject the null hypothesis\")\n",
    "else:\n",
    "    print(\"We can't reject the null hypothesis\")"
   ]
  },
  {
   "cell_type": "markdown",
   "metadata": {},
   "source": [
    "The analysis suggests that users don't spend different amount of money in NY_NJ region and all other regions.\n",
    "\n",
    "The p-value tells us that there is a 49% probability of randomly getting a difference that size or larger. This probability is too high to conclude that there is a significant difference between the average amounts spent on NY_NJ region and others."
   ]
  },
  {
   "cell_type": "markdown",
   "metadata": {},
   "source": [
    "### Step 5. Write an overall conclusion"
   ]
  },
  {
   "cell_type": "markdown",
   "metadata": {},
   "source": [
    "I analyzed customers behavior who use services of telecom operator Megaline for 2 prepaid plans: Surf and Ultimate.\n",
    "\n",
    "- The boxplots show that users of Ultimate plan on average send more messages per month, then users of Surfs plan.\n",
    "\n",
    "- The distribution of GB and minutes used is almost the same for both plans, but the surf plan shows more outliers for the same parameters.\n",
    "\n",
    "- Density histograms for surf plan have a normal distribution with the right skewness.\n",
    "\n",
    "- Density histograms for the ultimate plan doesn't have a normal distribution. Most of the data concentrated at point 70$.\n",
    "\n",
    "- According to hypothesis testing, density diagrams, means, and standard deviations for 2 plans, I would propose the managers of Megaline to promote Ultimate tariff, because after summarising all listed factors, I can make a conclusion that this plan is more profitable."
   ]
  }
 ],
 "metadata": {
  "kernelspec": {
   "display_name": "Python 3",
   "language": "python",
   "name": "python3"
  },
  "language_info": {
   "codemirror_mode": {
    "name": "ipython",
    "version": 3
   },
   "file_extension": ".py",
   "mimetype": "text/x-python",
   "name": "python",
   "nbconvert_exporter": "python",
   "pygments_lexer": "ipython3",
   "version": "3.7.6"
  }
 },
 "nbformat": 4,
 "nbformat_minor": 4
}
